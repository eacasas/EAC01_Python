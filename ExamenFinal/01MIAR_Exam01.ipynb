{
 "cells": [
  {
   "cell_type": "markdown",
   "id": "43115e44-f75d-465a-ad62-9b2be737a6e6",
   "metadata": {},
   "source": [
    "# Examen Primera Convocatoria"
   ]
  },
  {
   "cell_type": "code",
   "execution_count": null,
   "id": "eb8ba270-b03c-49f8-b092-8de37baa3bfe",
   "metadata": {},
   "outputs": [],
   "source": [
    "# Your imports HERE !!!!"
   ]
  },
  {
   "cell_type": "markdown",
   "id": "2206adbd-c8e0-4665-a20b-bb6a1503d388",
   "metadata": {
    "tags": []
   },
   "source": [
    "## 01 - 1 pt\n",
    "- Dado un array de elementos, escribir una función, que reciba dicho array como parámetro de entrada y devuelva el elemento repetido. Usando plain Python, sin ninguna librería."
   ]
  },
  {
   "cell_type": "code",
   "execution_count": 16,
   "id": "748595ea-d6b6-4f35-a824-ea3631d7e15a",
   "metadata": {},
   "outputs": [],
   "source": [
    "array_src = [4, 8, 0, 3, 6, 2, 1, 5, 3, 9, 7]\n",
    "expected_rep_element = 3\n",
    "rep_element = repeated_element(array_src) # This calls your function repeated_element\n",
    "assert(expected_rep_element == rep_element)  # This will fail if the element is not found correctly"
   ]
  },
  {
   "cell_type": "code",
   "execution_count": 15,
   "id": "3b6d4855-e751-4f45-8382-1291885aef0c",
   "metadata": {},
   "outputs": [
    {
     "data": {
      "text/plain": [
       "3"
      ]
     },
     "execution_count": 15,
     "metadata": {},
     "output_type": "execute_result"
    }
   ],
   "source": [
    "# Your solution HERE !!!!\n",
    "\n",
    "def repeated_element(array_src):\n",
    "    for i, num in  enumerate(array_src):\n",
    "        if (num in array_src[:i]) | (num in array_src[i+1:]):\n",
    "            return num\n",
    "        #print(f'{num} : {array_src[:i]} - {array_src[i+1:]} ')\n",
    "\n",
    "array_src = [4, 8, 0, 3, 6, 2, 1, 5, 3, 9, 7]\n",
    "repeated_element(array_src)"
   ]
  },
  {
   "cell_type": "markdown",
   "id": "5161decf-e061-44a9-a413-8d3921a10058",
   "metadata": {
    "tags": []
   },
   "source": [
    "## 02 - 1pt\n",
    "- Genera una matriz con valores aleatorios de 0 a 100 de dimensiones 16x16\n",
    "- Calcula los siguentes estadísticos en la matriz anterior, por fila (el resultado de cada uno debe ser un array de dimensiones 1x16)\n",
    "  - Suma de los elementos de cada fila\n",
    "  - Media de los elementos de cada fila\n",
    "  - Valores mínimos de cada fila\n",
    "  - Valores máximos de cada fila"
   ]
  },
  {
   "cell_type": "code",
   "execution_count": 29,
   "id": "2e7bfe3c-253f-4287-8d85-fb7e5163e6c0",
   "metadata": {},
   "outputs": [
    {
     "data": {
      "text/plain": [
       "array([[97, 68, 70, 20, 21, 78, 75, 65, 97, 59, 57, 98, 66, 78, 95, 87],\n",
       "       [10,  9,  7, 34, 37, 87, 26, 12, 56, 90, 39,  8, 39, 93, 53, 91],\n",
       "       [20, 93, 38,  3, 17, 50, 81, 42, 23, 69, 92, 77, 18, 54,  0, 94],\n",
       "       [13, 19, 19, 27, 99, 12, 26, 81, 72, 86, 72, 97, 26, 73, 26, 79],\n",
       "       [43, 16,  9, 34, 16, 84,  8, 61, 90, 94, 56, 80, 64, 38, 68, 55],\n",
       "       [94, 39, 33, 32, 48, 22, 92, 18, 42, 96, 20, 72, 69,  1, 38, 65],\n",
       "       [14, 45, 85, 97, 55, 33, 96, 37, 16, 91, 10, 51, 32, 18, 11, 20],\n",
       "       [32, 73,  2, 31, 25,  7, 22, 94, 62, 93, 10,  9, 99, 49, 77, 65],\n",
       "       [35, 65, 89, 74, 77, 33, 33, 76, 56, 79, 36, 74, 29, 49, 68,  1],\n",
       "       [78, 10, 63, 12, 31, 22, 95, 64, 85, 66, 61, 58, 74,  1, 49, 12],\n",
       "       [71, 39, 91, 86, 45, 39, 47, 23, 77, 95, 80, 12, 19, 93, 21, 39],\n",
       "       [37, 90, 85, 93, 25, 14, 38, 18, 66, 80, 63, 72, 94, 44, 85,  1],\n",
       "       [39, 52, 12, 20, 50, 77, 24, 41, 12, 42, 32, 82, 61, 39, 20, 90],\n",
       "       [86, 39, 58, 47, 50, 95, 99, 29, 28, 82,  7, 46, 89, 53,  9, 72],\n",
       "       [ 8, 43, 14, 87, 56, 50, 96, 31,  5, 87, 52, 11, 38, 14, 19, 54],\n",
       "       [68, 52, 63, 70, 88, 75, 35, 73, 48,  4, 21, 38, 88, 56, 49, 45]])"
      ]
     },
     "metadata": {},
     "output_type": "display_data"
    },
    {
     "name": "stdout",
     "output_type": "stream",
     "text": [
      "[1131  691  771  827  816  781  711  750  874  781  877  905  693  889\n",
      "  665  873]\n"
     ]
    }
   ],
   "source": [
    "# Your solution HERE !!!!\n",
    "\n",
    "import numpy as np\n",
    "\n",
    "matrix = np.random.randint(100, size=(16,16))\n",
    "\n",
    "display (matrix)\n",
    "print(matrix.sum(axis=1))\n",
    "\n"
   ]
  },
  {
   "cell_type": "code",
   "execution_count": 30,
   "id": "400400ab",
   "metadata": {},
   "outputs": [
    {
     "name": "stdout",
     "output_type": "stream",
     "text": [
      "[70.6875 43.1875 48.1875 51.6875 51.     48.8125 44.4375 46.875  54.625\n",
      " 48.8125 54.8125 56.5625 43.3125 55.5625 41.5625 54.5625]\n"
     ]
    }
   ],
   "source": [
    "print(matrix.mean(axis=1))"
   ]
  },
  {
   "cell_type": "code",
   "execution_count": 31,
   "id": "9a9a0bef",
   "metadata": {},
   "outputs": [
    {
     "name": "stdout",
     "output_type": "stream",
     "text": [
      "[20  7  0 12  8  1 10  2  1  1 12  1 12  7  5  4]\n"
     ]
    }
   ],
   "source": [
    "print(matrix.min(axis=1))"
   ]
  },
  {
   "cell_type": "code",
   "execution_count": 32,
   "id": "5882070d",
   "metadata": {},
   "outputs": [
    {
     "name": "stdout",
     "output_type": "stream",
     "text": [
      "[98 93 94 99 94 96 97 99 89 95 95 94 90 99 96 88]\n"
     ]
    }
   ],
   "source": [
    "print(matrix.max(axis=1))"
   ]
  },
  {
   "cell_type": "markdown",
   "id": "9986c32f-299d-4ce7-809e-db01ee851764",
   "metadata": {
    "tags": []
   },
   "source": [
    "## 03 - 1pt\n",
    "\n",
    "- Generar un dataframe de 3x4 dimensiones con valores númericos aleatorios [0,10]\n",
    "- Darle un índice semántico alfanumérico\n",
    "- Aplicarle una función lambda que obtenga la diferencia entre el máximo y mínimo de cada fila"
   ]
  },
  {
   "cell_type": "code",
   "execution_count": 55,
   "id": "18ff9dbf-9ba4-4513-8a73-d0328b689dc9",
   "metadata": {},
   "outputs": [
    {
     "data": {
      "text/html": [
       "<div>\n",
       "<style scoped>\n",
       "    .dataframe tbody tr th:only-of-type {\n",
       "        vertical-align: middle;\n",
       "    }\n",
       "\n",
       "    .dataframe tbody tr th {\n",
       "        vertical-align: top;\n",
       "    }\n",
       "\n",
       "    .dataframe thead th {\n",
       "        text-align: right;\n",
       "    }\n",
       "</style>\n",
       "<table border=\"1\" class=\"dataframe\">\n",
       "  <thead>\n",
       "    <tr style=\"text-align: right;\">\n",
       "      <th></th>\n",
       "      <th>0</th>\n",
       "      <th>1</th>\n",
       "      <th>2</th>\n",
       "      <th>3</th>\n",
       "    </tr>\n",
       "  </thead>\n",
       "  <tbody>\n",
       "    <tr>\n",
       "      <th>A</th>\n",
       "      <td>4</td>\n",
       "      <td>4</td>\n",
       "      <td>7</td>\n",
       "      <td>9</td>\n",
       "    </tr>\n",
       "    <tr>\n",
       "      <th>B</th>\n",
       "      <td>0</td>\n",
       "      <td>9</td>\n",
       "      <td>9</td>\n",
       "      <td>1</td>\n",
       "    </tr>\n",
       "    <tr>\n",
       "      <th>C</th>\n",
       "      <td>5</td>\n",
       "      <td>6</td>\n",
       "      <td>9</td>\n",
       "      <td>9</td>\n",
       "    </tr>\n",
       "  </tbody>\n",
       "</table>\n",
       "</div>"
      ],
      "text/plain": [
       "   0  1  2  3\n",
       "A  4  4  7  9\n",
       "B  0  9  9  1\n",
       "C  5  6  9  9"
      ]
     },
     "metadata": {},
     "output_type": "display_data"
    }
   ],
   "source": [
    "# Your solution HERE !!!!\n",
    "\n",
    "import pandas as pd\n",
    "\n",
    "\n",
    "df=pd.DataFrame(np.random.randint(11, size=(3,4)), index=list('ABC'))\n",
    "\n",
    "display (df)"
   ]
  },
  {
   "cell_type": "code",
   "execution_count": 58,
   "id": "1cee613b",
   "metadata": {},
   "outputs": [
    {
     "name": "stdout",
     "output_type": "stream",
     "text": [
      "5\n",
      "9\n",
      "4\n"
     ]
    }
   ],
   "source": [
    "f = lambda x: max(x)- min(x)\n",
    "\n",
    "for index, rowi in df.iterrows():\n",
    "    print(f(rowi))\n",
    "\n",
    "\n",
    "\n"
   ]
  },
  {
   "cell_type": "markdown",
   "id": "1dc73e21-7283-4cd5-92e8-3a7e1e70fd02",
   "metadata": {
    "tags": []
   },
   "source": [
    "## 04 - 1pt\n",
    "- Crear un array de NumPy de dimensiones 8x5, con números enteros aleatorios en el rango [-100, 100]\n",
    "- Ejecutar en este orden\n",
    "  - Reemplazar valores  \n",
    "    - Reemplazar los valores de todos aquellos números múltiplos de 5 por 100\n",
    "    - Reemplazar los valores de todos aquellos números múltiplos de 3 por Nan\n",
    "   \n",
    "  - Averiguar cuantos elementos tienen Nan por fila\n",
    "  - Reemplazar los valores de Nan por 0"
   ]
  },
  {
   "cell_type": "code",
   "execution_count": 92,
   "id": "2fd83be4-8626-4eaa-9ead-6f951d5ebbfb",
   "metadata": {},
   "outputs": [
    {
     "data": {
      "text/plain": [
       "array([[  1,  66, -93, -84,  26],\n",
       "       [-72,   9, -26,  -6,   8],\n",
       "       [ 14, -43, -23, -50,  80],\n",
       "       [-48, -95,  52, -36,  55],\n",
       "       [-31, -18, -67,  98,  52],\n",
       "       [-50,  98, -65, -73, -58],\n",
       "       [ 61,  89,  56, -47, -53],\n",
       "       [  3,  97,  26,  96, -99]])"
      ]
     },
     "metadata": {},
     "output_type": "display_data"
    }
   ],
   "source": [
    "# Your solution HERE !!!!\n",
    "\n",
    "matrix04 = np.random.randint(-100,100 , size=(8,5))\n",
    "\n",
    "display(matrix04)\n",
    "\n"
   ]
  },
  {
   "cell_type": "code",
   "execution_count": 93,
   "id": "10707838",
   "metadata": {},
   "outputs": [
    {
     "data": {
      "text/plain": [
       "array([[  1,  66, -93, -84,  26],\n",
       "       [-72,   9, -26,  -6,   8],\n",
       "       [ 14, -43, -23, 100, 100],\n",
       "       [-48, 100,  52, -36, 100],\n",
       "       [-31, -18, -67,  98,  52],\n",
       "       [100,  98, 100, -73, -58],\n",
       "       [ 61,  89,  56, -47, -53],\n",
       "       [  3,  97,  26,  96, -99]])"
      ]
     },
     "metadata": {},
     "output_type": "display_data"
    }
   ],
   "source": [
    "i=np.nan\n",
    "matrix04[matrix04%5==0]=100\n",
    "display(matrix04)"
   ]
  },
  {
   "cell_type": "code",
   "execution_count": 94,
   "id": "a6ea516b",
   "metadata": {},
   "outputs": [
    {
     "data": {
      "text/plain": [
       "array([[  1,   0,   0,   0,  26],\n",
       "       [  0,   0, -26,   0,   8],\n",
       "       [ 14, -43, -23, 100, 100],\n",
       "       [  0, 100,  52,   0, 100],\n",
       "       [-31,   0, -67,  98,  52],\n",
       "       [100,  98, 100, -73, -58],\n",
       "       [ 61,  89,  56, -47, -53],\n",
       "       [  0,  97,  26,   0,   0]])"
      ]
     },
     "metadata": {},
     "output_type": "display_data"
    }
   ],
   "source": [
    "matrix04[matrix04%3==0]=np.nan_to_num(np.nan)\n",
    "\n",
    "display(matrix04)"
   ]
  },
  {
   "cell_type": "markdown",
   "id": "45fe9b96-168d-4bdc-a472-fb41c9031c0d",
   "metadata": {
    "tags": []
   },
   "source": [
    "## 05 - 1pt\n",
    "- Crear una función que reciba una lista de strings y devuelva una serie de pandas, y convierta el primer y último carácter de la palabra de cada elemento de la serie a mayúsculas"
   ]
  },
  {
   "cell_type": "code",
   "execution_count": 98,
   "id": "19fab47f-5fbe-4baa-93af-fc6776d748d1",
   "metadata": {},
   "outputs": [
    {
     "ename": "AssertionError",
     "evalue": "",
     "output_type": "error",
     "traceback": [
      "\u001b[1;31m---------------------------------------------------------------------------\u001b[0m",
      "\u001b[1;31mAssertionError\u001b[0m                            Traceback (most recent call last)",
      "\u001b[1;32m~\\AppData\\Local\\Temp/ipykernel_46684/1937829005.py\u001b[0m in \u001b[0;36m<module>\u001b[1;34m\u001b[0m\n\u001b[0;32m      2\u001b[0m \u001b[0mexpected_output\u001b[0m \u001b[1;33m=\u001b[0m \u001b[0mpd\u001b[0m\u001b[1;33m.\u001b[0m\u001b[0mSeries\u001b[0m\u001b[1;33m(\u001b[0m\u001b[1;33m[\u001b[0m\u001b[1;34m'PythoN'\u001b[0m\u001b[1;33m,\u001b[0m \u001b[1;34m'PhP'\u001b[0m\u001b[1;33m,\u001b[0m \u001b[1;34m'JavA'\u001b[0m\u001b[1;33m,\u001b[0m \u001b[1;34m'JavascripT'\u001b[0m\u001b[1;33m,\u001b[0m \u001b[1;34m'C++'\u001b[0m\u001b[1;33m,\u001b[0m \u001b[1;34m'SqL'\u001b[0m\u001b[1;33m]\u001b[0m\u001b[1;33m)\u001b[0m\u001b[1;33m\u001b[0m\u001b[1;33m\u001b[0m\u001b[0m\n\u001b[0;32m      3\u001b[0m \u001b[0moutput\u001b[0m \u001b[1;33m=\u001b[0m \u001b[0mfirst_last_uppercase\u001b[0m\u001b[1;33m(\u001b[0m\u001b[0mlanguages\u001b[0m\u001b[1;33m)\u001b[0m  \u001b[1;31m# This calls your function first_last_uppercase\u001b[0m\u001b[1;33m\u001b[0m\u001b[1;33m\u001b[0m\u001b[0m\n\u001b[1;32m----> 4\u001b[1;33m \u001b[1;32massert\u001b[0m\u001b[1;33m(\u001b[0m\u001b[0mexpected_output\u001b[0m\u001b[1;33m.\u001b[0m\u001b[0mequals\u001b[0m\u001b[1;33m(\u001b[0m\u001b[0moutput\u001b[0m\u001b[1;33m)\u001b[0m\u001b[1;33m)\u001b[0m  \u001b[1;31m# This will fail if the two lists are different\u001b[0m\u001b[1;33m\u001b[0m\u001b[1;33m\u001b[0m\u001b[0m\n\u001b[0m",
      "\u001b[1;31mAssertionError\u001b[0m: "
     ]
    }
   ],
   "source": [
    "languages = ['python', 'php', 'java', 'javascript', 'c++', 'sql']\n",
    "expected_output = pd.Series(['PythoN', 'PhP', 'JavA', 'JavascripT', 'C++', 'SqL'])\n",
    "output = first_last_uppercase(languages)  # This calls your function first_last_uppercase\n",
    "assert(expected_output.equals(output))  # This will fail if the two lists are different"
   ]
  },
  {
   "cell_type": "code",
   "execution_count": 103,
   "id": "b6b5696b-71fd-4dc4-8536-18eb2d69a8fa",
   "metadata": {},
   "outputs": [
    {
     "name": "stdout",
     "output_type": "stream",
     "text": [
      "0        Python\n",
      "1           Php\n",
      "2          Java\n",
      "3    Javascript\n",
      "4           C++\n",
      "5           Sql\n",
      "dtype: object\n"
     ]
    }
   ],
   "source": [
    "# Your solution HERE !!!!\n",
    "\n",
    "def first_last_uppercase (lista):\n",
    "    serie = pd.Series(lista)\n",
    "    return(serie.str.capitalize())\n",
    "    #return serie[0:1].str.upper() + serie[1:len(serie)-1] + serie[len(serie)-1:len(serie)].str.upper()\n",
    "\n",
    "\n",
    "\n",
    "languages = ['python', 'php', 'java', 'javascript', 'c++', 'sql']\n",
    "print(first_last_uppercase(languages))\n"
   ]
  },
  {
   "cell_type": "markdown",
   "id": "2b191602-365c-42d3-81af-f877089f0f20",
   "metadata": {
    "tags": []
   },
   "source": [
    "## 06 - 3 pt\n",
    "- Se tienen cuatro datasets, se adjuntan sus datos como diccionarios\n",
    "  - Orders, representa un conjunto de pedidos, con sus fechas, su cantidad, y el cliente y vendedor asociados al mismo\n",
    "  - Customers, conjunto de clientes, con su nombre y su ciudad\n",
    "  - Salesman, conjunto de vendedores, con su nombre, ciudad y porcentaje de comisión por venta\n",
    "  - Cities, conjunto de ciudades con sus nombres\n",
    "- Obtener la siguiente información usando Pandas\n",
    "  - El nombre del vendedor con la mejor venta, y a que cliente ha sido\n",
    "  - Dinero de la comisión otorgada para cada pedido, ordenado por fechas\n",
    "  - Media del dinero de los pedidos de los clientes de Tokyo\n",
    "  - Total del dinero de las comisiones del vendedor Ikuzu Midoriya en el mes de Agosto\n",
    "- Representar graficamente\n",
    "  - Media del total de cada pedido para cada cliente agrupado por ciudad\n",
    "  - Línea temporal del total de los pedidos"
   ]
  },
  {
   "cell_type": "code",
   "execution_count": 193,
   "id": "e14a9877-d29f-49e9-ab82-a8c89dc59081",
   "metadata": {},
   "outputs": [],
   "source": [
    "orders = {'OrderId': [1,2,3,4,5,6], 'OrderDate': ['2021-07-23', '2021-08-06', '2021-07-28', '2021-08-04', '2021-08-03', '2021-07-30'], 'Amount': [1500.5,2000.65,1550.2,1900.75,2205.4, 1208.22], 'CustomerId': [3,4,2,2,1,4], 'SalesmanId': [3,3,2,1,3,2]}\n",
    "customers = {'CustomerId': [1,2,3,4], 'Name': ['Brad Davis', 'Julian Green', 'Geoff Cameron', 'Fabian Johnson'], 'CityId': [2,1,2,3]}\n",
    "salesmans = {'SalesmanId': [1,2,3], 'Name': ['James Knite', 'Reinhardt Wilhelm', 'Ikuzu Midoriya'], 'CityId': [1,3,2], 'Comission': [0.15,0.11,0.09]}\n",
    "cities = {'CityId': [1,2,3], 'Name': ['New York', 'Tokyo', 'Berlin']}"
   ]
  },
  {
   "cell_type": "code",
   "execution_count": 197,
   "id": "95b15246-4019-4073-ae6c-6c32321cb5dd",
   "metadata": {},
   "outputs": [
    {
     "data": {
      "text/plain": [
       "OrderId                                      [1, 2, 3, 4, 5, 6]\n",
       "OrderDate     [2021-07-23, 2021-08-06, 2021-07-28, 2021-08-0...\n",
       "Amount        [1500.5, 2000.65, 1550.2, 1900.75, 2205.4, 120...\n",
       "CustomerId                                   [3, 4, 2, 2, 1, 4]\n",
       "SalesmanId                                   [3, 3, 2, 1, 3, 2]\n",
       "dtype: object"
      ]
     },
     "metadata": {},
     "output_type": "display_data"
    }
   ],
   "source": [
    "# Your solution HERE !!!!\n",
    "\n",
    "orderdf = pd.Series(orders)\n",
    "\n",
    "display(orderdf)\n",
    "\n",
    "\n",
    "##No me dio tiempo de teminar esta actividad"
   ]
  },
  {
   "cell_type": "markdown",
   "id": "8193738a-9028-4ec5-ba4e-bd9de74c9f1f",
   "metadata": {},
   "source": [
    "## 07 - 1pt\n",
    "- Escribir un generador `frange` que simule el comportamiento de la función `arange` de NumPy\n",
    "- Esta función cada vez que se invoque debe devolver valores espaciados uniformemente a partir de un valor inicial. Se debe proveer a dicha función un valor inicial para la secuencia de números y un valor para el step\n",
    "- Debe soportar valores númericos en coma flotante\n",
    "- La función potencialmente se puede llamar un número infinito de veces\n",
    "- Usando plain Python, sin ninguna librería"
   ]
  },
  {
   "cell_type": "code",
   "execution_count": 178,
   "id": "bbe212e9-d422-408d-8037-ce6d0e416d25",
   "metadata": {},
   "outputs": [],
   "source": [
    "import math\n",
    "\n",
    "init = 10.6\n",
    "step = 0.8\n",
    "g = frange(init, step)  # This calls your function frange\n",
    "\n",
    "iters = 10\n",
    "numbers = [next(g) for n in range(iters)]\n",
    "for i, n in enumerate(numbers):\n",
    "    assert(math.isclose(n, init + (step * i)))  # This will fail if the range is not properly created"
   ]
  },
  {
   "cell_type": "code",
   "execution_count": 175,
   "id": "8092c7c1-c1c8-4492-b08c-489f8767ed73",
   "metadata": {},
   "outputs": [],
   "source": [
    "# Your solution HERE !!!!\n",
    "\n",
    "def frange (init, step):\n",
    "    v = [init]    \n",
    "    #init\n",
    "    while True:\n",
    "        v.append(v[-1]+step)\n",
    "        yield v[-2]\n"
   ]
  },
  {
   "cell_type": "markdown",
   "id": "202c6c38-649d-4991-b118-12e6364d8ab0",
   "metadata": {},
   "source": [
    "## 08 - 1pt\n",
    "- Crear una lista de meses de Enero a Diciembre (eje X)\n",
    "- Generar datos aleatorios para el eje Y, hacerlo 3 veces distintas (Y0, Y1 e Y2)\n",
    "- Representar las 3 secuencias de datos aleatorios en una sola figura usando matplotlib\n",
    "- Añadir una leyenda para poder identificar cada secuencia\n",
    "- Nombrar las 3 secuencias de la siguiente manera (\"Facebook\", \"Twitter\", \"Instagram\")\n",
    "- Añadir un título y nombres a los dos ejes\n",
    "- Añadir una anotación (texto y flecha) a uno de los gráficos"
   ]
  },
  {
   "cell_type": "code",
   "execution_count": 189,
   "id": "b0dfefef-66a5-4804-af34-810fcaf25b5e",
   "metadata": {},
   "outputs": [],
   "source": [
    "# Your solution HERE !!!!\n",
    "\n",
    "import matplotlib.pyplot  as plt\n",
    "\n",
    "meses = ['ene','feb','mar','abr','may','jun','jul','ago','sep','oct','nov','dic']\n",
    "\n",
    "Y0=np.random.randint(20, size=(12))\n",
    "Y1=np.random.randint(20, size=(12))\n",
    "Y2=np.random.randint(20, size=(12))\n",
    "\n"
   ]
  },
  {
   "cell_type": "code",
   "execution_count": 191,
   "id": "f3e5b6df",
   "metadata": {},
   "outputs": [
    {
     "data": {
      "image/png": "[encoded data removed]",
      "text/plain": [
       "<Figure size 1440x576 with 1 Axes>"
      ]
     },
     "metadata": {
      "needs_background": "light"
     },
     "output_type": "display_data"
    }
   ],
   "source": [
    "fig,axis = plt.subplots(1,1)\n",
    "\n",
    "plt.gcf().set_size_inches(20, 8)\n",
    "plt.title('Ventas Mes' )\n",
    "plt.xlabel('Mes')\n",
    "plt.ylabel('Ventas')\n",
    "\n",
    "\n",
    "axis.plot( meses, Y0, 'go-', label='YO',linewidth=1,alpha=0.8)\n",
    "axis.plot( meses, Y1, 'bx-.', label='Y1',linewidth=1,alpha=0.8)\n",
    "axis.plot( meses, Y2, 'rh-.', label='Y2',linewidth=1,alpha=0.8)\n",
    "axis.legend(loc='best')\n",
    "plt.grid()\n",
    "plt.show() "
   ]
  }
 ],
 "metadata": {
  "kernelspec": {
   "display_name": "Python 3.9.7 ('base')",
   "language": "python",
   "name": "python3"
  },
  "language_info": {
   "codemirror_mode": {
    "name": "ipython",
    "version": 3
   },
   "file_extension": ".py",
   "mimetype": "text/x-python",
   "name": "python",
   "nbconvert_exporter": "python",
   "pygments_lexer": "ipython3",
   "version": "3.9.7"
  },
  "vscode": {
   "interpreter": {
    "hash": "9a65927f5967699fcd722c82a9c185cfa0040c4b95e3af20a6eefdab7483f21b"
   }
  }
 },
 "nbformat": 4,
 "nbformat_minor": 5
}
