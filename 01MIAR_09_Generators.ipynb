{
 "cells": [
  {
   "cell_type": "markdown",
   "id": "32e7d8db-3075-4e0b-844e-11cbd7efb5b4",
   "metadata": {
    "slideshow": {
     "slide_type": "slide"
    }
   },
   "source": [
    "\n",
    "<img src=\"img/viu_logo.png\" width=\"200\">\n",
    "\n",
    "## 01MIAR - Generadores de Datos\n",
    "\n",
    "![logo](img/python_logo.png)\n",
    "\n",
    "*Ivan Fuertes*"
   ]
  },
  {
   "cell_type": "markdown",
   "id": "416169f2-205a-4fdb-811e-412070dbf66a",
   "metadata": {
    "slideshow": {
     "slide_type": "slide"
    }
   },
   "source": [
    "# Sumario\n",
    "- Generadores en Python\n",
    "- Expresiones Generadoras\n",
    "  - Pipelines de datos\n",
    "- Generadores para entrenar modelos\n",
    "- Generadores de imágenes\n",
    "  - Flow\n",
    "  - Augmentations\n",
    "- Generadores de datos custom"
   ]
  },
  {
   "cell_type": "markdown",
   "id": "39e6f0a9-796f-4773-b9c2-13e09d19c21f",
   "metadata": {},
   "source": [
    "## Generadores en Python\n",
    "- Yield\n",
    "- Iterador Lazy"
   ]
  },
  {
   "cell_type": "code",
   "execution_count": 1,
   "id": "e91f95a5-73bb-45ad-8f6d-8cd59ff6d4f2",
   "metadata": {},
   "outputs": [],
   "source": [
    "# Devuelve lista\n",
    "def squares(n):\n",
    "    result = []\n",
    "    for i in range(n):\n",
    "        result.append(i ** 2)\n",
    "    return result"
   ]
  },
  {
   "cell_type": "code",
   "execution_count": 2,
   "id": "c2632248-9846-4c63-a5ef-c16f7468a269",
   "metadata": {},
   "outputs": [
    {
     "name": "stdout",
     "output_type": "stream",
     "text": [
      "<class 'list'>\n",
      "[0, 1, 4, 9, 16]\n",
      "0\n",
      "1\n",
      "4\n",
      "9\n",
      "16\n"
     ]
    }
   ],
   "source": [
    "lista = squares(5)\n",
    "print(type(lista))\n",
    "print(lista)\n",
    "for i in lista:\n",
    "    print(f\"{i}\")"
   ]
  },
  {
   "cell_type": "code",
   "execution_count": 1,
   "id": "7ec26efc-24f5-4677-a885-39947b6ee9c9",
   "metadata": {},
   "outputs": [],
   "source": [
    "# Usar generador\n",
    "def squares(n):\n",
    "    for i in range(n):\n",
    "        yield i ** 2  "
   ]
  },
  {
   "cell_type": "code",
   "execution_count": 2,
   "id": "b9b7cfbf-ab10-496a-8b14-daf715347651",
   "metadata": {},
   "outputs": [
    {
     "name": "stdout",
     "output_type": "stream",
     "text": [
      "<class 'generator'>\n",
      "<generator object squares at 0x000001B64E31E970>\n",
      "0\n",
      "1\n",
      "4\n",
      "9\n",
      "16\n"
     ]
    }
   ],
   "source": [
    "gen = squares(5)\n",
    "print(type(gen))\n",
    "print(gen)\n",
    "for i in gen:\n",
    "    print(f\"{i}\")"
   ]
  },
  {
   "cell_type": "code",
   "execution_count": 5,
   "id": "bfe51d88",
   "metadata": {},
   "outputs": [
    {
     "ename": "TypeError",
     "evalue": "'generator' object is not subscriptable",
     "output_type": "error",
     "traceback": [
      "\u001b[1;31m---------------------------------------------------------------------------\u001b[0m",
      "\u001b[1;31mTypeError\u001b[0m                                 Traceback (most recent call last)",
      "\u001b[1;32m~\\AppData\\Local\\Temp/ipykernel_38120/382150755.py\u001b[0m in \u001b[0;36m<module>\u001b[1;34m\u001b[0m\n\u001b[1;32m----> 1\u001b[1;33m \u001b[0mprint\u001b[0m\u001b[1;33m(\u001b[0m\u001b[0mgen\u001b[0m\u001b[1;33m[\u001b[0m\u001b[1;36m1\u001b[0m\u001b[1;33m]\u001b[0m\u001b[1;33m)\u001b[0m\u001b[1;33m\u001b[0m\u001b[1;33m\u001b[0m\u001b[0m\n\u001b[0m",
      "\u001b[1;31mTypeError\u001b[0m: 'generator' object is not subscriptable"
     ]
    }
   ],
   "source": [
    "print(gen[1])"
   ]
  },
  {
   "cell_type": "markdown",
   "id": "f355e8b1-faf4-433e-a60a-198757972b55",
   "metadata": {},
   "source": [
    "- Next (envia None al generador)"
   ]
  },
  {
   "cell_type": "code",
   "execution_count": 6,
   "id": "28f30668-15c5-45cd-8671-f56569dbd830",
   "metadata": {},
   "outputs": [
    {
     "name": "stdout",
     "output_type": "stream",
     "text": [
      "<class 'generator'>\n"
     ]
    }
   ],
   "source": [
    "x = squares(5)\n",
    "print(type(x))"
   ]
  },
  {
   "cell_type": "code",
   "execution_count": 9,
   "id": "397cc66f-4cdf-482f-a85a-5746d538638f",
   "metadata": {},
   "outputs": [
    {
     "data": {
      "text/plain": [
       "4"
      ]
     },
     "execution_count": 9,
     "metadata": {},
     "output_type": "execute_result"
    }
   ],
   "source": [
    "next(x)"
   ]
  },
  {
   "cell_type": "markdown",
   "id": "47214a28-8f84-4516-83ea-f81dc7c914be",
   "metadata": {},
   "source": [
    "- Send (se pueden enviar valores en cada iteración)"
   ]
  },
  {
   "cell_type": "code",
   "execution_count": 1,
   "id": "f7b10239-4c8d-46ea-9c0b-f3f1cec07be5",
   "metadata": {},
   "outputs": [],
   "source": [
    "# Generator recibe datos\n",
    "def gen():\n",
    "    for i in range(10):\n",
    "        x = yield i*2\n",
    "        print(f\"{x} inside function\")"
   ]
  },
  {
   "cell_type": "code",
   "execution_count": 2,
   "id": "f25c1e69-e567-4e17-9dc6-dd849f8b107c",
   "metadata": {},
   "outputs": [],
   "source": [
    "g = gen()"
   ]
  },
  {
   "cell_type": "code",
   "execution_count": 5,
   "id": "6c0c6e24-cc49-4d61-962b-48c0c0a7eb8d",
   "metadata": {},
   "outputs": [
    {
     "name": "stdout",
     "output_type": "stream",
     "text": [
      "None inside function\n"
     ]
    },
    {
     "data": {
      "text/plain": [
       "4"
      ]
     },
     "execution_count": 5,
     "metadata": {},
     "output_type": "execute_result"
    }
   ],
   "source": [
    "next(g)"
   ]
  },
  {
   "cell_type": "code",
   "execution_count": 17,
   "id": "fcdf49e5-8de9-4442-bde7-ff51e13f12af",
   "metadata": {},
   "outputs": [
    {
     "name": "stdout",
     "output_type": "stream",
     "text": [
      "50 inside function\n"
     ]
    },
    {
     "data": {
      "text/plain": [
       "14"
      ]
     },
     "execution_count": 17,
     "metadata": {},
     "output_type": "execute_result"
    }
   ],
   "source": [
    "g.send(50)"
   ]
  },
  {
   "cell_type": "markdown",
   "id": "d8876af6-0c01-49bd-813c-274420c702d9",
   "metadata": {},
   "source": [
    "## Expresiones Generadoras\n",
    "- Comprehension List"
   ]
  },
  {
   "cell_type": "code",
   "execution_count": 30,
   "id": "0c4a8151-074d-4afc-afa3-3daf2d14036e",
   "metadata": {},
   "outputs": [
    {
     "name": "stdout",
     "output_type": "stream",
     "text": [
      "[0, 1, 4, 9, 16]\n",
      "<class 'list'>\n"
     ]
    }
   ],
   "source": [
    "# Comprehension List\n",
    "squares_cl = [num ** 2 for num in range(5)]\n",
    "print(squares_cl)\n",
    "print(type(squares_cl))"
   ]
  },
  {
   "cell_type": "markdown",
   "id": "bc044f0f-e30b-4b08-a855-de2a95f0e21c",
   "metadata": {},
   "source": [
    "- Generator Expressions"
   ]
  },
  {
   "cell_type": "code",
   "execution_count": 18,
   "id": "c48e35bf-4a80-44f0-9eef-b61e93f6e927",
   "metadata": {},
   "outputs": [
    {
     "name": "stdout",
     "output_type": "stream",
     "text": [
      "<generator object <genexpr> at 0x00000247FA600740>\n"
     ]
    }
   ],
   "source": [
    "# Cambia [] por ()\n",
    "squares_ge = (num ** 2 for num in range(5))\n",
    "print(squares_ge)"
   ]
  },
  {
   "cell_type": "code",
   "execution_count": null,
   "id": "154112a7-b671-4f16-bfdf-6b17abd824fd",
   "metadata": {},
   "outputs": [],
   "source": [
    "next(squares_ge)"
   ]
  },
  {
   "cell_type": "markdown",
   "id": "7ab8dfaa-580a-45f8-8906-f4cdec8d692f",
   "metadata": {},
   "source": [
    "## Pipelines de Datos con Generadores\n",
    "\n",
    "- Pipeline -> Generadores encadenados\n",
    "\n",
    "- A partir de un fichero csv\n",
    "  - Leer una línea\n",
    "  - Dividir cada línea en una lista de valores\n",
    "  - Extraer nombres de las columnas\n",
    "  - Usar nombres de las columnas para crear un diccionario con los datos de cada línea\n",
    "  - Filtrar los datos en base a algún criterio\n",
    "  - Calcular algún valor para dichos criterios"
   ]
  },
  {
   "cell_type": "code",
   "execution_count": 36,
   "id": "9a2d9ea9-9cf1-4fa3-849f-e4a6fae3ef40",
   "metadata": {},
   "outputs": [],
   "source": [
    "from os import path\n",
    "file_name = path.join(\"res\", \"titanic.csv\")"
   ]
  },
  {
   "cell_type": "code",
   "execution_count": 37,
   "id": "a593db87-ae90-44c3-9a9d-5a3c1b2f5d12",
   "metadata": {},
   "outputs": [
    {
     "name": "stdout",
     "output_type": "stream",
     "text": [
      "<generator object <genexpr> at 0x00000247FA612660>\n"
     ]
    }
   ],
   "source": [
    "# GenExpr 01 -> Leer linea del fichero\n",
    "lines = (line for line in open(file_name))\n",
    "print(lines)"
   ]
  },
  {
   "cell_type": "code",
   "execution_count": 38,
   "id": "44e482a4-c687-4a21-af63-42ad659b3830",
   "metadata": {},
   "outputs": [
    {
     "name": "stdout",
     "output_type": "stream",
     "text": [
      "<generator object <genexpr> at 0x00000247FA6127B0>\n"
     ]
    }
   ],
   "source": [
    "# GenExpr 02 -> Dividir cada linea\n",
    "list_line = (s.rstrip().split(\",\") for s in lines)\n",
    "print(list_line)"
   ]
  },
  {
   "cell_type": "code",
   "execution_count": 39,
   "id": "f4b28800-80ac-4b3d-9d76-ebd33dd7a20f",
   "metadata": {},
   "outputs": [],
   "source": [
    "cols = next(list_line)"
   ]
  },
  {
   "cell_type": "code",
   "execution_count": 40,
   "id": "e8079307-b355-4dfd-a921-8eef307536e7",
   "metadata": {},
   "outputs": [
    {
     "name": "stdout",
     "output_type": "stream",
     "text": [
      "['PassengerId', 'Survived', 'Pclass', 'Name', 'Sex', 'Age', 'SibSp', 'Parch', 'Ticket', 'Fare', 'Cabin', 'Embarked']\n"
     ]
    }
   ],
   "source": [
    "print(cols)"
   ]
  },
  {
   "cell_type": "code",
   "execution_count": 41,
   "id": "0c1ad662-d8ec-4f99-964f-e264aa17d4dd",
   "metadata": {},
   "outputs": [
    {
     "name": "stdout",
     "output_type": "stream",
     "text": [
      "<generator object <genexpr> at 0x00000247FA612900>\n"
     ]
    }
   ],
   "source": [
    "# GenExpr 03 -> Diccionario, keys=nombre columna\n",
    "passengers = (dict(zip(cols, data)) for data in list_line)\n",
    "print(passengers)"
   ]
  },
  {
   "cell_type": "code",
   "execution_count": 42,
   "id": "c237ec40-f4f3-49be-a06e-b420bde3b187",
   "metadata": {},
   "outputs": [
    {
     "name": "stdout",
     "output_type": "stream",
     "text": [
      "<generator object <genexpr> at 0x00000247FA612D60>\n"
     ]
    }
   ],
   "source": [
    "# GenExpr 04 -> Filtrado de datos\n",
    "passenger_in_class3_survived = (int(passenger[\"Survived\"]) for passenger in passengers if int(passenger[\"Pclass\"]) == 3)\n",
    "print(passenger_in_class3_survived)"
   ]
  },
  {
   "cell_type": "code",
   "execution_count": 43,
   "id": "1083a293-8bc9-4a49-8f4e-d0973b4b4c20",
   "metadata": {},
   "outputs": [],
   "source": [
    "# Usa el Pipeline\n",
    "passengers_in_class3_survived = sum(passenger_in_class3_survived)"
   ]
  },
  {
   "cell_type": "code",
   "execution_count": 44,
   "id": "c5a1ece4-033b-47ce-926d-686645cec81c",
   "metadata": {},
   "outputs": [
    {
     "name": "stdout",
     "output_type": "stream",
     "text": [
      "119\n"
     ]
    }
   ],
   "source": [
    "print(passengers_in_class3_survived)"
   ]
  },
  {
   "cell_type": "markdown",
   "id": "d73f1e20-404a-4a15-9251-c3ef87d5edea",
   "metadata": {},
   "source": [
    "## Generadores para entrenar modelos\n",
    "\n",
    "- Fichero de millones de líneas\n",
    "- Mapeado lineal - y:f(x) = x\n",
    "\n",
    "| x | y |\n",
    "|---|---|\n",
    "| 1 | 1 |\n",
    "| 2 | 2 |\n",
    "| 3 | 3 |\n",
    "...."
   ]
  },
  {
   "cell_type": "code",
   "execution_count": 45,
   "id": "43cad9e4-0a65-4a1f-8e3b-7632976aad9e",
   "metadata": {},
   "outputs": [],
   "source": [
    "from os import path\n",
    "lineal_map = path.join(\"res\", \"huge_lineal_map.csv\")\n",
    "\n",
    "# Numero de filas\n",
    "num_rows = 5000000"
   ]
  },
  {
   "cell_type": "code",
   "execution_count": 46,
   "id": "219f67fd-9c3e-45f7-941c-e32e29d9d130",
   "metadata": {},
   "outputs": [],
   "source": [
    "# Crea fichero de prueba\n",
    "with open(lineal_map, \"w\") as f:\n",
    "    for i in range(num_rows):\n",
    "        f.write(f\"{i},{i}\\n\")"
   ]
  },
  {
   "cell_type": "code",
   "execution_count": 49,
   "id": "3603390f",
   "metadata": {},
   "outputs": [
    {
     "name": "stdout",
     "output_type": "stream",
     "text": [
      "Note: you may need to restart the kernel to use updated packages.Collecting tensorflow\n",
      "\n",
      "  Downloading tensorflow-2.11.0-cp39-cp39-win_amd64.whl (1.9 kB)\n",
      "Collecting tensorflow-intel==2.11.0\n",
      "  Downloading tensorflow_intel-2.11.0-cp39-cp39-win_amd64.whl (266.3 MB)\n",
      "Requirement already satisfied: packaging in c:\\users\\acasa\\anaconda3\\lib\\site-packages (from tensorflow-intel==2.11.0->tensorflow) (21.0)\n",
      "Collecting tensorflow-io-gcs-filesystem>=0.23.1\n",
      "  Downloading tensorflow_io_gcs_filesystem-0.28.0-cp39-cp39-win_amd64.whl (1.5 MB)\n",
      "Collecting gast<=0.4.0,>=0.2.1\n",
      "  Downloading gast-0.4.0-py3-none-any.whl (9.8 kB)\n",
      "Requirement already satisfied: numpy>=1.20 in c:\\users\\acasa\\anaconda3\\lib\\site-packages (from tensorflow-intel==2.11.0->tensorflow) (1.20.3)\n",
      "Requirement already satisfied: h5py>=2.9.0 in c:\\users\\acasa\\anaconda3\\lib\\site-packages (from tensorflow-intel==2.11.0->tensorflow) (3.2.1)\n",
      "Collecting protobuf<3.20,>=3.9.2\n",
      "  Downloading protobuf-3.19.6-cp39-cp39-win_amd64.whl (895 kB)\n",
      "Requirement already satisfied: wrapt>=1.11.0 in c:\\users\\acasa\\anaconda3\\lib\\site-packages (from tensorflow-intel==2.11.0->tensorflow) (1.12.1)\n",
      "Collecting opt-einsum>=2.3.2\n",
      "  Downloading opt_einsum-3.3.0-py3-none-any.whl (65 kB)\n",
      "Requirement already satisfied: typing-extensions>=3.6.6 in c:\\users\\acasa\\anaconda3\\lib\\site-packages (from tensorflow-intel==2.11.0->tensorflow) (3.10.0.2)\n",
      "Collecting keras<2.12,>=2.11.0\n",
      "  Downloading keras-2.11.0-py2.py3-none-any.whl (1.7 MB)\n",
      "Collecting termcolor>=1.1.0\n",
      "  Downloading termcolor-2.1.1-py3-none-any.whl (6.2 kB)\n",
      "Collecting tensorboard<2.12,>=2.11\n",
      "  Downloading tensorboard-2.11.0-py3-none-any.whl (6.0 MB)\n",
      "Collecting tensorflow-estimator<2.12,>=2.11.0\n",
      "  Downloading tensorflow_estimator-2.11.0-py2.py3-none-any.whl (439 kB)\n",
      "Collecting absl-py>=1.0.0\n",
      "  Downloading absl_py-1.3.0-py3-none-any.whl (124 kB)\n",
      "Collecting flatbuffers>=2.0\n",
      "  Downloading flatbuffers-22.11.23-py2.py3-none-any.whl (26 kB)\n",
      "Collecting google-pasta>=0.1.1\n",
      "  Downloading google_pasta-0.2.0-py3-none-any.whl (57 kB)\n",
      "Requirement already satisfied: setuptools in c:\\users\\acasa\\anaconda3\\lib\\site-packages (from tensorflow-intel==2.11.0->tensorflow) (58.0.4)\n",
      "Requirement already satisfied: six>=1.12.0 in c:\\users\\acasa\\anaconda3\\lib\\site-packages (from tensorflow-intel==2.11.0->tensorflow) (1.16.0)\n",
      "Collecting grpcio<2.0,>=1.24.3\n",
      "  Downloading grpcio-1.51.1-cp39-cp39-win_amd64.whl (3.7 MB)\n",
      "Collecting libclang>=13.0.0\n",
      "  Downloading libclang-14.0.6-py2.py3-none-win_amd64.whl (14.2 MB)\n",
      "Collecting astunparse>=1.6.0\n",
      "  Downloading astunparse-1.6.3-py2.py3-none-any.whl (12 kB)\n",
      "Requirement already satisfied: wheel<1.0,>=0.23.0 in c:\\users\\acasa\\anaconda3\\lib\\site-packages (from astunparse>=1.6.0->tensorflow-intel==2.11.0->tensorflow) (0.37.0)\n",
      "Collecting tensorboard-plugin-wit>=1.6.0\n",
      "  Downloading tensorboard_plugin_wit-1.8.1-py3-none-any.whl (781 kB)\n",
      "Collecting google-auth<3,>=1.6.3\n",
      "  Downloading google_auth-2.14.1-py2.py3-none-any.whl (175 kB)\n",
      "Collecting markdown>=2.6.8\n",
      "  Downloading Markdown-3.4.1-py3-none-any.whl (93 kB)\n",
      "Collecting google-auth-oauthlib<0.5,>=0.4.1\n",
      "  Downloading google_auth_oauthlib-0.4.6-py2.py3-none-any.whl (18 kB)\n",
      "Requirement already satisfied: requests<3,>=2.21.0 in c:\\users\\acasa\\anaconda3\\lib\\site-packages (from tensorboard<2.12,>=2.11->tensorflow-intel==2.11.0->tensorflow) (2.26.0)\n",
      "Collecting tensorboard-data-server<0.7.0,>=0.6.0\n",
      "  Downloading tensorboard_data_server-0.6.1-py3-none-any.whl (2.4 kB)\n",
      "Requirement already satisfied: werkzeug>=1.0.1 in c:\\users\\acasa\\anaconda3\\lib\\site-packages (from tensorboard<2.12,>=2.11->tensorflow-intel==2.11.0->tensorflow) (2.0.2)\n",
      "Collecting cachetools<6.0,>=2.0.0\n",
      "  Downloading cachetools-5.2.0-py3-none-any.whl (9.3 kB)\n",
      "Collecting pyasn1-modules>=0.2.1\n",
      "  Downloading pyasn1_modules-0.2.8-py2.py3-none-any.whl (155 kB)\n",
      "Collecting rsa<5,>=3.1.4\n",
      "  Downloading rsa-4.9-py3-none-any.whl (34 kB)\n",
      "Collecting requests-oauthlib>=0.7.0\n",
      "  Downloading requests_oauthlib-1.3.1-py2.py3-none-any.whl (23 kB)\n",
      "Requirement already satisfied: importlib-metadata>=4.4 in c:\\users\\acasa\\anaconda3\\lib\\site-packages (from markdown>=2.6.8->tensorboard<2.12,>=2.11->tensorflow-intel==2.11.0->tensorflow) (4.8.1)\n",
      "Requirement already satisfied: zipp>=0.5 in c:\\users\\acasa\\anaconda3\\lib\\site-packages (from importlib-metadata>=4.4->markdown>=2.6.8->tensorboard<2.12,>=2.11->tensorflow-intel==2.11.0->tensorflow) (3.6.0)\n",
      "Collecting pyasn1<0.5.0,>=0.4.6\n",
      "  Downloading pyasn1-0.4.8-py2.py3-none-any.whl (77 kB)\n",
      "Requirement already satisfied: certifi>=2017.4.17 in c:\\users\\acasa\\anaconda3\\lib\\site-packages (from requests<3,>=2.21.0->tensorboard<2.12,>=2.11->tensorflow-intel==2.11.0->tensorflow) (2021.10.8)\n",
      "Requirement already satisfied: charset-normalizer~=2.0.0 in c:\\users\\acasa\\anaconda3\\lib\\site-packages (from requests<3,>=2.21.0->tensorboard<2.12,>=2.11->tensorflow-intel==2.11.0->tensorflow) (2.0.4)\n",
      "Requirement already satisfied: idna<4,>=2.5 in c:\\users\\acasa\\anaconda3\\lib\\site-packages (from requests<3,>=2.21.0->tensorboard<2.12,>=2.11->tensorflow-intel==2.11.0->tensorflow) (3.2)\n",
      "Requirement already satisfied: urllib3<1.27,>=1.21.1 in c:\\users\\acasa\\anaconda3\\lib\\site-packages (from requests<3,>=2.21.0->tensorboard<2.12,>=2.11->tensorflow-intel==2.11.0->tensorflow) (1.26.7)\n",
      "Collecting oauthlib>=3.0.0\n",
      "  Downloading oauthlib-3.2.2-py3-none-any.whl (151 kB)\n",
      "Requirement already satisfied: pyparsing>=2.0.2 in c:\\users\\acasa\\anaconda3\\lib\\site-packages (from packaging->tensorflow-intel==2.11.0->tensorflow) (3.0.4)\n",
      "Installing collected packages: pyasn1, rsa, pyasn1-modules, oauthlib, cachetools, requests-oauthlib, google-auth, tensorboard-plugin-wit, tensorboard-data-server, protobuf, markdown, grpcio, google-auth-oauthlib, absl-py, termcolor, tensorflow-io-gcs-filesystem, tensorflow-estimator, tensorboard, opt-einsum, libclang, keras, google-pasta, gast, flatbuffers, astunparse, tensorflow-intel, tensorflow\n",
      "Successfully installed absl-py-1.3.0 astunparse-1.6.3 cachetools-5.2.0 flatbuffers-22.11.23 gast-0.4.0 google-auth-2.14.1 google-auth-oauthlib-0.4.6 google-pasta-0.2.0 grpcio-1.51.1 keras-2.11.0 libclang-14.0.6 markdown-3.4.1 oauthlib-3.2.2 opt-einsum-3.3.0 protobuf-3.19.6 pyasn1-0.4.8 pyasn1-modules-0.2.8 requests-oauthlib-1.3.1 rsa-4.9 tensorboard-2.11.0 tensorboard-data-server-0.6.1 tensorboard-plugin-wit-1.8.1 tensorflow-2.11.0 tensorflow-estimator-2.11.0 tensorflow-intel-2.11.0 tensorflow-io-gcs-filesystem-0.28.0 termcolor-2.1.1\n"
     ]
    }
   ],
   "source": [
    "pip install tensorflow"
   ]
  },
  {
   "cell_type": "code",
   "execution_count": 52,
   "id": "31f9c56e-e302-4d80-98aa-a727cf6efa15",
   "metadata": {},
   "outputs": [],
   "source": [
    "import tensorflow as tf\n",
    "from tensorflow.keras.models import Sequential\n",
    "from tensorflow.keras.layers import Dense\n",
    "import numpy as np"
   ]
  },
  {
   "cell_type": "markdown",
   "id": "3c7adb40-fd0c-417c-903d-705e15701cd2",
   "metadata": {},
   "source": [
    "- Función para leer el fichero en batches"
   ]
  },
  {
   "cell_type": "code",
   "execution_count": 53,
   "id": "a64679cc-67a7-4fab-904a-c455878918d1",
   "metadata": {},
   "outputs": [],
   "source": [
    "batch_size = 250"
   ]
  },
  {
   "cell_type": "code",
   "execution_count": null,
   "id": "64884aad-2534-42fd-9ff9-3bc74bb2aded",
   "metadata": {},
   "outputs": [],
   "source": [
    "# Carga Datos\n",
    "def generate_arrays_from_file(path, batchsize):\n",
    "    inputs = []\n",
    "    targets = []\n",
    "    batchcount = 0\n",
    "    while True:\n",
    "        with open(path) as f:\n",
    "            for line in f:\n",
    "                x,y = line.split(',')\n",
    "                inputs.append(x)\n",
    "                targets.append(y)\n",
    "                batchcount += 1\n",
    "                if batchcount > batchsize:\n",
    "                    X = np.array(inputs, dtype='float32')\n",
    "                    y = np.array(targets, dtype='float32')\n",
    "                    yield (X, y)\n",
    "                    inputs = []\n",
    "                    targets = []\n",
    "                    batchcount = 0"
   ]
  },
  {
   "cell_type": "code",
   "execution_count": null,
   "id": "8663fb99-6593-45ab-ae6b-eecb0e303b75",
   "metadata": {},
   "outputs": [],
   "source": [
    "# Crea el modelo\n",
    "model = Sequential()\n",
    "model.add(Dense(16, input_dim=1, activation='relu'))\n",
    "model.add(Dense(8, activation='relu'))\n",
    "model.add(Dense(1, activation='linear'))"
   ]
  },
  {
   "cell_type": "code",
   "execution_count": null,
   "id": "4a0cb350-b13a-4cb3-82d0-df1943324ee3",
   "metadata": {},
   "outputs": [],
   "source": [
    "# Compila el modelo\n",
    "model.compile(loss='mean_absolute_error',\n",
    "              optimizer=tf.keras.optimizers.Adam(),\n",
    "              metrics=['mean_squared_error'])"
   ]
  },
  {
   "cell_type": "code",
   "execution_count": null,
   "id": "3fa324b5-7a19-4856-8ace-0075e95bf44a",
   "metadata": {
    "tags": []
   },
   "outputs": [],
   "source": [
    "# Entrena el modelo\n",
    "model.fit(generate_arrays_from_file(lineal_map, batch_size), \n",
    "            steps_per_epoch=num_rows / batch_size, epochs=2)"
   ]
  },
  {
   "cell_type": "code",
   "execution_count": null,
   "id": "d93682cb-43f7-43cb-84bc-61a715d5f5a1",
   "metadata": {},
   "outputs": [],
   "source": [
    "model.predict([13504, 22330, 98771])"
   ]
  },
  {
   "cell_type": "markdown",
   "id": "6e61340a-ba4c-431e-bff2-ee87b9e658da",
   "metadata": {},
   "source": [
    "## Generadores de datos de imágenes con Keras\n",
    "\n",
    "- ImageDataGenerator"
   ]
  },
  {
   "cell_type": "markdown",
   "id": "9ea4c7c8-df61-44bb-b301-565e6f6727ec",
   "metadata": {},
   "source": [
    "### flow_from_directory\n",
    "- Alimentar el generador desde un directorio de imágenes\n",
    "- Fotos de una misma categoría deben ubicarse en una carpeta con el nombre de la clase\n",
    "- Tamaño de lotes\n",
    "- Redimensión de imágenes"
   ]
  },
  {
   "cell_type": "code",
   "execution_count": null,
   "id": "5a139bf5-63e3-4b8f-a767-7fbec672b034",
   "metadata": {},
   "outputs": [],
   "source": [
    "import matplotlib.pyplot as plt\n",
    "import numpy as np\n",
    "from tensorflow.keras.preprocessing.image import ImageDataGenerator"
   ]
  },
  {
   "cell_type": "code",
   "execution_count": null,
   "id": "9bd377ae-608d-40e6-82b7-ee7bb6e1c553",
   "metadata": {},
   "outputs": [],
   "source": [
    "from os import path\n",
    "images_folder = path.join(\"res\", \"images\")\n",
    "n_images = 22"
   ]
  },
  {
   "cell_type": "code",
   "execution_count": null,
   "id": "27083820-2396-4ff9-8cad-59458f63f9bc",
   "metadata": {},
   "outputs": [],
   "source": [
    "# Apuntar al generador al directorio de imagenes\n",
    "data_generator = ImageDataGenerator()\n",
    "generator = data_generator.flow_from_directory(images_folder, batch_size=1, target_size=(300, 300))"
   ]
  },
  {
   "cell_type": "code",
   "execution_count": null,
   "id": "5f5cfcf8-b2a8-44dd-837e-ba57a4236f53",
   "metadata": {},
   "outputs": [],
   "source": [
    "print(f\"{generator.class_indices}\")\n",
    "indices_classes = {v: k for k, v in generator.class_indices.items()}"
   ]
  },
  {
   "cell_type": "code",
   "execution_count": null,
   "id": "757a82bd-04fc-4628-874a-2e3e3e1baa42",
   "metadata": {
    "tags": []
   },
   "outputs": [],
   "source": [
    "for _ in range(n_images):\n",
    "    images, labels = next(generator)\n",
    "    plt.imshow((images[0].astype(int)))\n",
    "    plt.show()\n",
    "\n",
    "    print(f\"Label = {indices_classes[np.argmax(labels[0])]} {labels[0]}\")"
   ]
  },
  {
   "cell_type": "markdown",
   "id": "1516da03-bc60-4665-bb8b-a08b4cf8ac3f",
   "metadata": {},
   "source": [
    "- Usar generador como conjunto de datos para entrenamiento o para validación"
   ]
  },
  {
   "cell_type": "code",
   "execution_count": null,
   "id": "451ee719-e9bb-4408-b26f-7b5773f1e0a9",
   "metadata": {},
   "outputs": [],
   "source": [
    "#model.fit(generator, epochs = epochs, validation_data = generator_val)"
   ]
  },
  {
   "cell_type": "markdown",
   "id": "f9f2bfdf-3be2-46a5-b9f0-c88c6b2d5f85",
   "metadata": {},
   "source": [
    "### flow\n",
    "\n",
    "- Alimentar el generador desde arrays NumPy\n",
    "- MNIST https://en.wikipedia.org/wiki/MNIST_database"
   ]
  },
  {
   "cell_type": "code",
   "execution_count": null,
   "id": "18139581-c6fd-474e-993b-a01c317cdfbb",
   "metadata": {},
   "outputs": [],
   "source": [
    "from tensorflow.keras.layers import Dense, Flatten, Conv2D, MaxPool2D\n",
    "from tensorflow.keras.models import Sequential\n",
    "from tensorflow.keras.preprocessing.image import ImageDataGenerator\n",
    "from tensorflow.keras.datasets import mnist\n",
    "import numpy as np\n",
    "import matplotlib.pyplot as plt"
   ]
  },
  {
   "cell_type": "code",
   "execution_count": null,
   "id": "2268073f-ecd1-4fd6-b834-63c746e9a763",
   "metadata": {},
   "outputs": [],
   "source": [
    "# Carga dataset\n",
    "(x_train, y_train), (x_test, y_test) = mnist.load_data()\n",
    "\n",
    "print(x_train.shape)\n",
    "x_train = np.expand_dims(x_train, axis=-1)  #to fit flow rank 4 demands (nimages, width, height, depth)\n",
    "x_test = np.expand_dims(x_test, axis=-1)\n",
    "print(x_train.shape)  \n",
    "\n",
    "print(type(x_train))"
   ]
  },
  {
   "cell_type": "code",
   "execution_count": null,
   "id": "dc5f6165-c58a-437c-88bd-1feeeca41bae",
   "metadata": {},
   "outputs": [],
   "source": [
    "# Crear y compilar modelo\n",
    "model = Sequential()\n",
    "model.add(Conv2D(32,(3,3),activation='relu',input_shape=(28,28,1)))\n",
    "model.add(MaxPool2D((2,2)))\n",
    "model.add(Conv2D(64,(3,3),activation='relu'))\n",
    "model.add(MaxPool2D((2,2)))\n",
    "model.add(Flatten())\n",
    "model.add(Dense(512,activation='relu'))\n",
    "model.add(Dense(10,activation='softmax'))\n",
    " \n",
    "model.compile(loss='sparse_categorical_crossentropy', optimizer='Adam', metrics=['accuracy'])"
   ]
  },
  {
   "cell_type": "code",
   "execution_count": null,
   "id": "b4fee06a-87f5-4779-ab0f-8900045d1eac",
   "metadata": {},
   "outputs": [],
   "source": [
    "datagen = ImageDataGenerator(rescale=1/255.,validation_split=0.2)"
   ]
  },
  {
   "cell_type": "code",
   "execution_count": null,
   "id": "780c4593-92fa-4f0e-845c-301dd8b16f9e",
   "metadata": {},
   "outputs": [],
   "source": [
    "my_batch_size = 64"
   ]
  },
  {
   "cell_type": "code",
   "execution_count": null,
   "id": "9f6af292-7f79-47b1-ac12-be5b84bb9ab1",
   "metadata": {},
   "outputs": [],
   "source": [
    "# Generadores para entrenamiento y validacion\n",
    "training_generator = datagen.flow(x_train, y_train, batch_size=my_batch_size,subset='training',seed=7)\n",
    "validation_generator = datagen.flow(x_train, y_train, batch_size=my_batch_size,subset='validation',seed=7)"
   ]
  },
  {
   "cell_type": "code",
   "execution_count": null,
   "id": "4d6a5969-7f86-4b0d-bd6c-9db43eea0814",
   "metadata": {
    "tags": []
   },
   "outputs": [],
   "source": [
    "# Visualiza imagenes del generador\n",
    "plt.figure(figsize=(10,5))\n",
    "for i in range(6):\n",
    "    plt.subplot(2,3,i+1)\n",
    "    for x,y in training_generator:\n",
    "        plt.imshow((x[0]/255).reshape(28,28),cmap='gray')\n",
    "        plt.title(f'y={y[0]}')\n",
    "        plt.axis('off')\n",
    "        break\n",
    "plt.tight_layout()\n",
    "plt.show()"
   ]
  },
  {
   "cell_type": "code",
   "execution_count": null,
   "id": "0131d774-6996-42d1-a1d0-cb14cb888e18",
   "metadata": {},
   "outputs": [],
   "source": [
    "# Entrena el modelo\n",
    "model.fit(training_generator, steps_per_epoch=(len(x_train)*0.8)//my_batch_size, epochs=4, \n",
    "          validation_data=validation_generator, validation_steps=(len(x_train)*0.2)//my_batch_size)"
   ]
  },
  {
   "cell_type": "code",
   "execution_count": null,
   "id": "5fb4fdcc-40f6-4d6a-996f-f1a400366493",
   "metadata": {},
   "outputs": [],
   "source": [
    "# Verificar precision del entrenamiento\n",
    "score = model.evaluate(x_test, y_test, verbose=0)\n",
    "print(f\"Accuracy={score[1]}\")"
   ]
  },
  {
   "cell_type": "markdown",
   "id": "70622094-04b2-46f1-9e6e-1ce407573ae4",
   "metadata": {},
   "source": [
    "### Augmentations\n",
    "- Transformaciones, variaciones de imágenes\n",
    "- Data Augmentation\n",
    "- https://www.pexels.com/photo/brown-animal-1454786/"
   ]
  },
  {
   "cell_type": "code",
   "execution_count": null,
   "id": "635fd2e4-b250-468b-b62a-629bcb46b138",
   "metadata": {},
   "outputs": [],
   "source": [
    "import numpy as np\n",
    "import matplotlib.pyplot as plt\n",
    "from tensorflow.keras.preprocessing.image import load_img, ImageDataGenerator, img_to_array\n",
    "import tensorflow.keras"
   ]
  },
  {
   "cell_type": "code",
   "execution_count": null,
   "id": "b09b7bf0-f442-4e08-8af2-1f78adbc2b46",
   "metadata": {},
   "outputs": [],
   "source": [
    "from os import path\n",
    "meerkat_path = path.join(\"res\", \"meerkat.jpg\")"
   ]
  },
  {
   "cell_type": "code",
   "execution_count": null,
   "id": "04614d64-a6c0-4c95-9b7f-3f6596c4a168",
   "metadata": {},
   "outputs": [],
   "source": [
    "# Carga la imagen, convierte a ndarray y expande las dimensiones\n",
    "img = load_img(meerkat_path)\n",
    "img = img_to_array(img)\n",
    "\n",
    "print(img.shape)\n",
    "img = np.expand_dims(img, axis=0)\n",
    "print(img.shape)"
   ]
  },
  {
   "cell_type": "code",
   "execution_count": null,
   "id": "b76b43f9-f571-4335-9e55-2c15b6b359cb",
   "metadata": {
    "tags": []
   },
   "outputs": [],
   "source": [
    "# Visualizar muestras de augmentations\n",
    "def show_augmentations(generator):\n",
    "    plt.figure(figsize=(5,5))\n",
    "    for i in range(6):\n",
    "        plt.subplot(2,3,i+1)\n",
    "        for x in generator:\n",
    "            plt.imshow(x[0]/255.)\n",
    "            plt.xticks([])\n",
    "            plt.yticks([])\n",
    "            break\n",
    "    plt.tight_layout()\n",
    "    plt.show()"
   ]
  },
  {
   "cell_type": "markdown",
   "id": "8c535316-df30-486c-adac-fb36d4080d6e",
   "metadata": {},
   "source": [
    "| Método | Descripción | Valor Muestra |\n",
    "|--------|-------------|---------------|\n",
    "| rotation_range | Rotación | 45 |\n",
    "| width_shift_range | Desplazamiento horizontal | 0.3 |\n",
    "| height_shift_range | Desplazamiento vertical | 0.3 |\n",
    "| brightness_range | Rango de brillo | [0.1, 0.9] |\n",
    "| rescale | Normaliza valores de pixels a un rango | 1/255. |\n",
    "| shear_range | Shear | 45 |\n",
    "| zoom_range | Zoom | 0.5 |\n",
    "| channel_shift_range | Canales | 100 |\n",
    "| horizontal_flip | Espejo en horizontal | True |\n",
    "| vertical_flip | Espejo en vertical | True |\n",
    "| preprocessing_function | Aplica función | f() |"
   ]
  },
  {
   "cell_type": "code",
   "execution_count": null,
   "id": "a33f84b7-9ccf-47bf-a9bb-7f7e5718da59",
   "metadata": {
    "tags": []
   },
   "outputs": [],
   "source": [
    "# Crear un generador con el metodo de augmentation\n",
    "image_gen = ImageDataGenerator(rotation_range = 45)                   # rotation\n",
    "# image_gen = ImageDataGenerator(width_shift_range = 0.2)               # desplazamiento horizontal\n",
    "# image_gen = ImageDataGenerator(brightness_range = [0.1, 0.9])         # brillo\n",
    "# image_gen = ImageDataGenerator(rescale = 1/255.)                      # normaliza valores de pixel (0,255) a (0,1)\n",
    "# image_gen = ImageDataGenerator(shear_range = 40)                      # shear\n",
    "# image_gen = ImageDataGenerator(zoom_range = 0.5)                      # zoom\n",
    "# image_gen = ImageDataGenerator(channel_shift_range = 255)             # canales de color\n",
    "# image_gen = ImageDataGenerator(vertical_flip = True)                  # flip\n",
    "# image_gen = ImageDataGenerator(preprocessing_function = blur)         # custom function\n",
    "\n",
    "generator = image_gen.flow(img, batch_size=1)\n",
    "\n",
    "show_augmentations(generator)"
   ]
  },
  {
   "cell_type": "code",
   "execution_count": null,
   "id": "ecf63cee-26fd-4c2d-8bba-49887d5bad6f",
   "metadata": {},
   "outputs": [],
   "source": [
    "import cv2\n",
    "\n",
    "def blur(img):\n",
    "    return (cv2.blur(img,(16,16)))"
   ]
  },
  {
   "cell_type": "markdown",
   "id": "bbb8b934-80d6-4ec6-a58d-29962492d413",
   "metadata": {},
   "source": [
    "## Generadores de datos custom con Keras\n",
    "\n",
    "- A medida\n",
    "- Sequence, clase base\n",
    "https://www.tensorflow.org/api_docs/python/tf/keras/utils/Sequence"
   ]
  },
  {
   "cell_type": "code",
   "execution_count": null,
   "id": "a4b00de7-ee37-4c88-af8f-1f2d0cee84c6",
   "metadata": {},
   "outputs": [],
   "source": [
    "from tensorflow.keras.models import Sequential\n",
    "import tensorflow as tf"
   ]
  },
  {
   "cell_type": "code",
   "execution_count": null,
   "id": "4a37466e-546e-4ca7-b10c-e18df6e71432",
   "metadata": {},
   "outputs": [],
   "source": [
    "# Clase debe sobreescribir algunos metodos \n",
    "class CustomDataGenerator(tf.keras.utils.Sequence):\n",
    "    \n",
    "    # Inicializacion\n",
    "    def __init__(self, data, batch_size, *args, **kwargs):\n",
    "        self.data = data\n",
    "        self.batch_size = batch_size\n",
    "        pass\n",
    "\n",
    "    # Devuelve el numero de batches\n",
    "    def __len__(self):    \n",
    "        return total_data / self.batch_size\n",
    "\n",
    "    # Devuelve un batch de datos\n",
    "    def __getitem__(self, index):\n",
    "        return X, y\n",
    "\n",
    "    # Metodo opcional para ejecutar algo al final de cada epoch, (mezclar datos)\n",
    "    def on_epoch_end(self):\n",
    "        pass"
   ]
  },
  {
   "cell_type": "code",
   "execution_count": null,
   "id": "f38dfa02-df18-4569-a013-b0666375d6d5",
   "metadata": {},
   "outputs": [],
   "source": [
    "class CustomDataGenerator(tf.keras.utils.Sequence):\n",
    "    \n",
    "    # Inicializacion\n",
    "    def __init__(self, data, x_col, y_col=None, batch_size=32, num_classes=None, shuffle=True):\n",
    "        self.batch_size = batch_size\n",
    "        self.data = data\n",
    "        self.indices = self.data.index.tolist()\n",
    "        self.num_classes = num_classes\n",
    "        self.shuffle = shuffle\n",
    "        self.x_col = x_col\n",
    "        self.y_col = y_col\n",
    "        self.on_epoch_end()\n",
    "\n",
    "    # Devuelve el numero de batches\n",
    "    def __len__(self):\n",
    "        return len(self.indices) // self.batch_size\n",
    "\n",
    "    # Devuelve un batch de datos\n",
    "    def __getitem__(self, index):\n",
    "        # Genera indices del batch\n",
    "        index = self.index[index * self.batch_size:(index + 1) * self.batch_size]\n",
    "        # Encuentra la lista de ID's\n",
    "        batch = [self.indices[k] for k in index]\n",
    "        \n",
    "        # Genera los datos\n",
    "        X, y = self.__get_data(batch)\n",
    "        return X, y\n",
    "\n",
    "    # Metodo opcional para ejecutar algo al final de cada epoch, (mezclar datos)\n",
    "    def on_epoch_end(self):\n",
    "        self.index = np.arange(len(self.indices))\n",
    "        if self.shuffle == True:\n",
    "            np.random.shuffle(self.index)\n",
    "\n",
    "    # Metodo privado para la generacion de datos\n",
    "    def __get_data(self, batch):\n",
    "        X = []  # logica para cargar los datos de ficheros\n",
    "        y = []  # logica para las variables target\n",
    "        \n",
    "        # Generar los datos\n",
    "        for i, id in enumerate(batch):\n",
    "            # Guardar un sample\n",
    "            X[i,] = # logica para generar un sample (preprocesar/aumentar)\n",
    "            y[i] = # etiquetas\n",
    "\n",
    "        return X, y      "
   ]
  },
  {
   "cell_type": "code",
   "execution_count": null,
   "id": "a6091e52-e163-4b22-b882-ad545a0c6351",
   "metadata": {},
   "outputs": [],
   "source": [
    "# Usar un custom data set generator\n",
    "train_generator = CustomDataGenerator(dataframe, batch_size = 32, num_classes = 2, shuffle = True)\n",
    "validation_generator = CustomDataGenerator(dataframe, batch_size = 32, num_classes = 2, shuffle = True)\n",
    "\n",
    "model.fit(train_generator, epochs, validation_data=validation_generator)"
   ]
  }
 ],
 "metadata": {
  "kernelspec": {
   "display_name": "Python 3.9.7 ('base')",
   "language": "python",
   "name": "python3"
  },
  "language_info": {
   "codemirror_mode": {
    "name": "ipython",
    "version": 3
   },
   "file_extension": ".py",
   "mimetype": "text/x-python",
   "name": "python",
   "nbconvert_exporter": "python",
   "pygments_lexer": "ipython3",
   "version": "3.9.7"
  },
  "vscode": {
   "interpreter": {
    "hash": "9a65927f5967699fcd722c82a9c185cfa0040c4b95e3af20a6eefdab7483f21b"
   }
  }
 },
 "nbformat": 4,
 "nbformat_minor": 5
}
