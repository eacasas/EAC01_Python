{
 "cells": [
  {
   "cell_type": "markdown",
   "id": "f37dc7b1-6e66-4d6d-811a-6280f57edc61",
   "metadata": {},
   "source": [
    "# Valenbici\n",
    "\n",
    "<img src=\"../img/valenbici.jpg\">"
   ]
  },
  {
   "cell_type": "markdown",
   "id": "7db73775-46f1-4bad-8f6a-943291e2a9e6",
   "metadata": {},
   "source": [
    "- http://www.valenbisi.es/service/carto/json\n",
    "- http://www.valenbisi.es/service/stationdetails/valence/63"
   ]
  },
  {
   "cell_type": "code",
   "execution_count": 1,
   "id": "68931815-c6be-420c-bb35-720870f31233",
   "metadata": {},
   "outputs": [],
   "source": [
    "import pandas as pd"
   ]
  },
  {
   "cell_type": "code",
   "execution_count": 2,
   "id": "93a7e7bd-c338-43b4-8ae3-8c8c229512b4",
   "metadata": {},
   "outputs": [],
   "source": [
    "from os import path\n",
    "bicis_path = path.join('res','estaciones_bici.csv')"
   ]
  },
  {
   "cell_type": "code",
   "execution_count": 3,
   "id": "dd1ec212-02a7-44f1-9d24-c0b8cf51b889",
   "metadata": {},
   "outputs": [],
   "source": [
    "bicis = pd.read_csv(bicis_path, sep=';')"
   ]
  },
  {
   "cell_type": "code",
   "execution_count": 4,
   "id": "4f6c5a5c-af98-4d45-a535-fdd979fd4f6b",
   "metadata": {},
   "outputs": [],
   "source": [
    "data = bicis[['station', 'total', 'download_date', 'available']]"
   ]
  },
  {
   "cell_type": "code",
   "execution_count": 5,
   "id": "b8dc0bae-1cb7-4bb7-b10e-690031a3e090",
   "metadata": {},
   "outputs": [
    {
     "data": {
      "text/html": [
       "<div>\n",
       "<style scoped>\n",
       "    .dataframe tbody tr th:only-of-type {\n",
       "        vertical-align: middle;\n",
       "    }\n",
       "\n",
       "    .dataframe tbody tr th {\n",
       "        vertical-align: top;\n",
       "    }\n",
       "\n",
       "    .dataframe thead th {\n",
       "        text-align: right;\n",
       "    }\n",
       "</style>\n",
       "<table border=\"1\" class=\"dataframe\">\n",
       "  <thead>\n",
       "    <tr style=\"text-align: right;\">\n",
       "      <th></th>\n",
       "      <th>station</th>\n",
       "      <th>total</th>\n",
       "      <th>download_date</th>\n",
       "      <th>available</th>\n",
       "    </tr>\n",
       "  </thead>\n",
       "  <tbody>\n",
       "    <tr>\n",
       "      <th>0</th>\n",
       "      <td>64</td>\n",
       "      <td>20</td>\n",
       "      <td>2019-02-10 17:25:37.787</td>\n",
       "      <td>9</td>\n",
       "    </tr>\n",
       "    <tr>\n",
       "      <th>1</th>\n",
       "      <td>73</td>\n",
       "      <td>20</td>\n",
       "      <td>2019-02-10 17:25:37.787</td>\n",
       "      <td>6</td>\n",
       "    </tr>\n",
       "    <tr>\n",
       "      <th>2</th>\n",
       "      <td>63</td>\n",
       "      <td>20</td>\n",
       "      <td>2019-02-10 18:13:39.827</td>\n",
       "      <td>20</td>\n",
       "    </tr>\n",
       "    <tr>\n",
       "      <th>3</th>\n",
       "      <td>64</td>\n",
       "      <td>20</td>\n",
       "      <td>2019-02-10 18:13:39.827</td>\n",
       "      <td>6</td>\n",
       "    </tr>\n",
       "    <tr>\n",
       "      <th>4</th>\n",
       "      <td>65</td>\n",
       "      <td>19</td>\n",
       "      <td>2019-02-10 18:13:39.827</td>\n",
       "      <td>9</td>\n",
       "    </tr>\n",
       "  </tbody>\n",
       "</table>\n",
       "</div>"
      ],
      "text/plain": [
       "   station  total            download_date  available\n",
       "0       64     20  2019-02-10 17:25:37.787          9\n",
       "1       73     20  2019-02-10 17:25:37.787          6\n",
       "2       63     20  2019-02-10 18:13:39.827         20\n",
       "3       64     20  2019-02-10 18:13:39.827          6\n",
       "4       65     19  2019-02-10 18:13:39.827          9"
      ]
     },
     "metadata": {},
     "output_type": "display_data"
    }
   ],
   "source": [
    "display(data.head())"
   ]
  },
  {
   "cell_type": "code",
   "execution_count": 6,
   "id": "fcea6d5c-55ae-450e-a1e8-89491cdb608c",
   "metadata": {},
   "outputs": [
    {
     "name": "stdout",
     "output_type": "stream",
     "text": [
      "<class 'pandas.core.frame.DataFrame'>\n",
      "RangeIndex: 27547 entries, 0 to 27546\n",
      "Data columns (total 4 columns):\n",
      " #   Column         Non-Null Count  Dtype \n",
      "---  ------         --------------  ----- \n",
      " 0   station        27547 non-null  int64 \n",
      " 1   total          27547 non-null  int64 \n",
      " 2   download_date  27547 non-null  object\n",
      " 3   available      27547 non-null  int64 \n",
      "dtypes: int64(3), object(1)\n",
      "memory usage: 861.0+ KB\n"
     ]
    },
    {
     "data": {
      "text/plain": [
       "None"
      ]
     },
     "metadata": {},
     "output_type": "display_data"
    }
   ],
   "source": [
    "display(data.info())"
   ]
  },
  {
   "cell_type": "code",
   "execution_count": 7,
   "id": "ef9c36a9-4882-4750-b8ad-6004640bdca7",
   "metadata": {},
   "outputs": [
    {
     "data": {
      "text/html": [
       "<div>\n",
       "<style scoped>\n",
       "    .dataframe tbody tr th:only-of-type {\n",
       "        vertical-align: middle;\n",
       "    }\n",
       "\n",
       "    .dataframe tbody tr th {\n",
       "        vertical-align: top;\n",
       "    }\n",
       "\n",
       "    .dataframe thead th {\n",
       "        text-align: right;\n",
       "    }\n",
       "</style>\n",
       "<table border=\"1\" class=\"dataframe\">\n",
       "  <thead>\n",
       "    <tr style=\"text-align: right;\">\n",
       "      <th></th>\n",
       "      <th>station</th>\n",
       "      <th>total</th>\n",
       "      <th>download_date</th>\n",
       "      <th>available</th>\n",
       "    </tr>\n",
       "  </thead>\n",
       "  <tbody>\n",
       "    <tr>\n",
       "      <th>count</th>\n",
       "      <td>27547.000000</td>\n",
       "      <td>27547.000000</td>\n",
       "      <td>27547</td>\n",
       "      <td>27547.000000</td>\n",
       "    </tr>\n",
       "    <tr>\n",
       "      <th>unique</th>\n",
       "      <td>NaN</td>\n",
       "      <td>NaN</td>\n",
       "      <td>105</td>\n",
       "      <td>NaN</td>\n",
       "    </tr>\n",
       "    <tr>\n",
       "      <th>top</th>\n",
       "      <td>NaN</td>\n",
       "      <td>NaN</td>\n",
       "      <td>2019-02-11 09:14:47.430</td>\n",
       "      <td>NaN</td>\n",
       "    </tr>\n",
       "    <tr>\n",
       "      <th>freq</th>\n",
       "      <td>NaN</td>\n",
       "      <td>NaN</td>\n",
       "      <td>276</td>\n",
       "      <td>NaN</td>\n",
       "    </tr>\n",
       "    <tr>\n",
       "      <th>mean</th>\n",
       "      <td>138.449196</td>\n",
       "      <td>19.915381</td>\n",
       "      <td>NaN</td>\n",
       "      <td>8.974444</td>\n",
       "    </tr>\n",
       "    <tr>\n",
       "      <th>std</th>\n",
       "      <td>79.657747</td>\n",
       "      <td>5.570912</td>\n",
       "      <td>NaN</td>\n",
       "      <td>7.307137</td>\n",
       "    </tr>\n",
       "    <tr>\n",
       "      <th>min</th>\n",
       "      <td>1.000000</td>\n",
       "      <td>10.000000</td>\n",
       "      <td>NaN</td>\n",
       "      <td>0.000000</td>\n",
       "    </tr>\n",
       "    <tr>\n",
       "      <th>25%</th>\n",
       "      <td>69.000000</td>\n",
       "      <td>15.000000</td>\n",
       "      <td>NaN</td>\n",
       "      <td>3.000000</td>\n",
       "    </tr>\n",
       "    <tr>\n",
       "      <th>50%</th>\n",
       "      <td>139.000000</td>\n",
       "      <td>20.000000</td>\n",
       "      <td>NaN</td>\n",
       "      <td>8.000000</td>\n",
       "    </tr>\n",
       "    <tr>\n",
       "      <th>75%</th>\n",
       "      <td>207.000000</td>\n",
       "      <td>20.000000</td>\n",
       "      <td>NaN</td>\n",
       "      <td>14.000000</td>\n",
       "    </tr>\n",
       "    <tr>\n",
       "      <th>max</th>\n",
       "      <td>276.000000</td>\n",
       "      <td>40.000000</td>\n",
       "      <td>NaN</td>\n",
       "      <td>40.000000</td>\n",
       "    </tr>\n",
       "  </tbody>\n",
       "</table>\n",
       "</div>"
      ],
      "text/plain": [
       "             station         total            download_date     available\n",
       "count   27547.000000  27547.000000                    27547  27547.000000\n",
       "unique           NaN           NaN                      105           NaN\n",
       "top              NaN           NaN  2019-02-11 09:14:47.430           NaN\n",
       "freq             NaN           NaN                      276           NaN\n",
       "mean      138.449196     19.915381                      NaN      8.974444\n",
       "std        79.657747      5.570912                      NaN      7.307137\n",
       "min         1.000000     10.000000                      NaN      0.000000\n",
       "25%        69.000000     15.000000                      NaN      3.000000\n",
       "50%       139.000000     20.000000                      NaN      8.000000\n",
       "75%       207.000000     20.000000                      NaN     14.000000\n",
       "max       276.000000     40.000000                      NaN     40.000000"
      ]
     },
     "metadata": {},
     "output_type": "display_data"
    }
   ],
   "source": [
    "display(data.describe(include='all'))"
   ]
  },
  {
   "cell_type": "markdown",
   "id": "df9a353a",
   "metadata": {},
   "source": [
    "#### Actividad\n",
    "- 01 - Carga de datos de csv (estaciones_bici.csv) en un DataFrame\n",
    "- 02 - Obtención del número de estaciones que tienen un total de 30 bornetas\n",
    "- 03 - Número de estación con la media más alta de bicis disponibles\n",
    "- 04 - Realizar el histograma de bicis disponibles de la estación del punto anterior\n",
    "- 05 - Realizar gráfica con  la línea temporal de bicis disponibles de la estación del punto anterior. Pista, es necesario cambiar el índice a uno tipo fecha"
   ]
  },
  {
   "cell_type": "code",
   "execution_count": null,
   "id": "08d9147b",
   "metadata": {},
   "outputs": [],
   "source": []
  }
 ],
 "metadata": {
  "kernelspec": {
   "display_name": "Python 3.9.7 ('base')",
   "language": "python",
   "name": "python3"
  },
  "language_info": {
   "codemirror_mode": {
    "name": "ipython",
    "version": 3
   },
   "file_extension": ".py",
   "mimetype": "text/x-python",
   "name": "python",
   "nbconvert_exporter": "python",
   "pygments_lexer": "ipython3",
   "version": "3.9.7"
  },
  "vscode": {
   "interpreter": {
    "hash": "9a65927f5967699fcd722c82a9c185cfa0040c4b95e3af20a6eefdab7483f21b"
   }
  }
 },
 "nbformat": 4,
 "nbformat_minor": 5
}
