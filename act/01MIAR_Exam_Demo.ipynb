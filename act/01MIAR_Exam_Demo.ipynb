{
 "cells": [
  {
   "cell_type": "markdown",
   "id": "cffbcd0e-dc00-4547-ac87-ef95eb5bbb51",
   "metadata": {},
   "source": [
    "# Examen Demo"
   ]
  },
  {
   "cell_type": "code",
   "execution_count": 2,
   "id": "8ef7d433-2f37-43b7-95ad-5c65b99f39b9",
   "metadata": {},
   "outputs": [],
   "source": [
    "# Your imports HERE !!!!\n",
    "import numpy as np"
   ]
  },
  {
   "cell_type": "markdown",
   "id": "0ddfb619-f1e8-4d7f-9bb5-b08686efabf2",
   "metadata": {
    "tags": []
   },
   "source": [
    "## 01\n",
    "- La serie de Fibonacci es una sucesión de números, en la cual cada número es la suma de los dos anteriores. Los dos primeros son siempre 0 y 1.\n",
    "  - $F_0 = 0$\n",
    "  - $F_1 = 1$\n",
    "  - $F_n = F_{n-1} + F_{n-2}$\n",
    "- Crear una serie de Fibonacci hasta un número *n* usando una función lambda."
   ]
  },
  {
   "cell_type": "code",
   "execution_count": 3,
   "id": "9f6f8961-e7d9-413e-91f5-ff8e9a35279a",
   "metadata": {},
   "outputs": [
    {
     "ename": "NameError",
     "evalue": "name 'fibonacci_lambda' is not defined",
     "output_type": "error",
     "traceback": [
      "\u001b[1;31m---------------------------------------------------------------------------\u001b[0m",
      "\u001b[1;31mNameError\u001b[0m                                 Traceback (most recent call last)",
      "\u001b[1;32m~\\AppData\\Local\\Temp/ipykernel_46288/2859707517.py\u001b[0m in \u001b[0;36m<module>\u001b[1;34m\u001b[0m\n\u001b[0;32m      1\u001b[0m \u001b[0mexpected_fibo_serie\u001b[0m \u001b[1;33m=\u001b[0m \u001b[1;33m[\u001b[0m\u001b[1;36m0\u001b[0m\u001b[1;33m,\u001b[0m\u001b[1;36m1\u001b[0m\u001b[1;33m,\u001b[0m\u001b[1;36m1\u001b[0m\u001b[1;33m,\u001b[0m\u001b[1;36m2\u001b[0m\u001b[1;33m,\u001b[0m\u001b[1;36m3\u001b[0m\u001b[1;33m,\u001b[0m\u001b[1;36m5\u001b[0m\u001b[1;33m,\u001b[0m\u001b[1;36m8\u001b[0m\u001b[1;33m,\u001b[0m\u001b[1;36m13\u001b[0m\u001b[1;33m,\u001b[0m\u001b[1;36m21\u001b[0m\u001b[1;33m,\u001b[0m\u001b[1;36m34\u001b[0m\u001b[1;33m,\u001b[0m\u001b[1;36m55\u001b[0m\u001b[1;33m,\u001b[0m\u001b[1;36m89\u001b[0m\u001b[1;33m,\u001b[0m\u001b[1;36m144\u001b[0m\u001b[1;33m,\u001b[0m\u001b[1;36m233\u001b[0m\u001b[1;33m,\u001b[0m\u001b[1;36m377\u001b[0m\u001b[1;33m,\u001b[0m\u001b[1;36m610\u001b[0m\u001b[1;33m,\u001b[0m\u001b[1;36m987\u001b[0m\u001b[1;33m,\u001b[0m\u001b[1;36m1597\u001b[0m\u001b[1;33m]\u001b[0m\u001b[1;33m\u001b[0m\u001b[1;33m\u001b[0m\u001b[0m\n\u001b[1;32m----> 2\u001b[1;33m \u001b[0mfibo_serie\u001b[0m \u001b[1;33m=\u001b[0m \u001b[0mfibonacci_lambda\u001b[0m\u001b[1;33m(\u001b[0m\u001b[0mlen\u001b[0m\u001b[1;33m(\u001b[0m\u001b[0mexpected_fibo_serie\u001b[0m\u001b[1;33m)\u001b[0m\u001b[1;33m)\u001b[0m  \u001b[1;31m# This calls your lambda function fibonacci_lambda\u001b[0m\u001b[1;33m\u001b[0m\u001b[1;33m\u001b[0m\u001b[0m\n\u001b[0m\u001b[0;32m      3\u001b[0m \u001b[1;32massert\u001b[0m\u001b[1;33m(\u001b[0m\u001b[0mexpected_fibo_serie\u001b[0m \u001b[1;33m==\u001b[0m \u001b[0mfibo_serie\u001b[0m\u001b[1;33m)\u001b[0m  \u001b[1;31m# This will fail if the serie is not correct\u001b[0m\u001b[1;33m\u001b[0m\u001b[1;33m\u001b[0m\u001b[0m\n",
      "\u001b[1;31mNameError\u001b[0m: name 'fibonacci_lambda' is not defined"
     ]
    }
   ],
   "source": [
    "expected_fibo_serie = [0,1,1,2,3,5,8,13,21,34,55,89,144,233,377,610,987,1597]\n",
    "fibo_serie = fibonacci_lambda(len(expected_fibo_serie))  # This calls your lambda function fibonacci_lambda\n",
    "assert(expected_fibo_serie == fibo_serie)  # This will fail if the serie is not correct"
   ]
  },
  {
   "cell_type": "code",
   "execution_count": null,
   "id": "7f9d090c-d087-4694-8249-3e89f5e866cb",
   "metadata": {},
   "outputs": [
    {
     "name": "stdout",
     "output_type": "stream",
     "text": [
      "[0, 1, 1, 2, 3, 5, 8, 13, 21, 34]\n"
     ]
    }
   ],
   "source": [
    "# Your solution HERE !!!!\n",
    "from functools import reduce # necesario para reduce\n",
    "\n",
    "\n",
    "#expected_fibo_serie = lambda n:reduce(lambda x,y: x+y,[0,1]),n+1\n",
    "fibonacci_lambda= lambda n: reduce(lambda x,y:x+[x[-1]+x[-2]], range(n-2),[0,1])\n",
    "\n",
    "print(fibonacci_lambda(10))\n",
    "\n",
    "\n"
   ]
  },
  {
   "cell_type": "markdown",
   "id": "3168850c-f9bb-4060-b6e3-06813ec86e54",
   "metadata": {},
   "source": [
    "## 02\n",
    "- Crear una función que reciba un array de NumPy y devuelva otro en el cual estén marcados como True los elementos duplicados (a partir de la segunda ocurrencia), y como False los no repetidos o las primeras ocurrencias de los duplicados."
   ]
  },
  {
   "cell_type": "code",
   "execution_count": null,
   "id": "bcc96612-dff4-4779-b4df-2595aa235309",
   "metadata": {},
   "outputs": [
    {
     "name": "stdout",
     "output_type": "stream",
     "text": [
      "[ True  True  True  True  True  True  True  True  True  True  True  True\n",
      "  True  True]\n",
      "[12  5 13  3  0  9  7  4  6]\n"
     ]
    }
   ],
   "source": [
    "numbers = np.array([4, 4, 4, 3, 8, 1, 9, 6, 1, 5, 9, 4, 0, 2])\n",
    "expected_output = np.array([False, True, True, False, False, False, False, False, True, False, True, True, False, False])\n",
    "output = find_duplicates(numbers)   # This calls your function find_duplicates\n",
    "assert(np.array_equal(expected_output, output))  # This will fail if the result is not as expected"
   ]
  },
  {
   "cell_type": "code",
   "execution_count": 9,
   "id": "76618e23-4928-4040-9f7f-f4b08ff4abb2",
   "metadata": {},
   "outputs": [
    {
     "name": "stdout",
     "output_type": "stream",
     "text": [
      "[0 1 2 3 4 5 6 8 9]\n",
      "[12  5 13  3  0  9  7  4  6]\n",
      "[False  True  True False False False False False  True False  True  True\n",
      " False False]\n"
     ]
    }
   ],
   "source": [
    "# Your solution HERE !!!!\n",
    "\n",
    "def find_duplicates(array):\n",
    "    a=np.full(array.size,True)\n",
    "    _,mask= np.unique(array, return_index=True)\n",
    "    \n",
    "    print(_)\n",
    "    print(mask)\n",
    "    a[mask]=False\n",
    "    return a\n",
    "\n",
    "\n",
    "numbers = np.array([4, 4, 4, 3, 8, 1, 9, 6, 1, 5, 9, 4, 0, 2])\n",
    "\n",
    "print(find_duplicates(numbers))"
   ]
  },
  {
   "cell_type": "code",
   "execution_count": 12,
   "id": "46c39fae",
   "metadata": {},
   "outputs": [
    {
     "name": "stdout",
     "output_type": "stream",
     "text": [
      "[0 1 2 3 4 5 6 8 9]\n",
      "[12  5 13  3  0  9  7  4  6]\n",
      "[False  True  True False False False False False  True False  True  True\n",
      " False False]\n"
     ]
    }
   ],
   "source": [
    "def find_duplicates(array):\n",
    "    a=np.full(array.size,True)\n",
    "    _,mask= np.unique(array, return_index=True)    \n",
    "    print(_)\n",
    "    print(mask)\n",
    "    a[mask]=False\n",
    "    return a\n",
    "\n",
    "numbers = np.array([4, 4, 4, 3, 8, 1, 9, 6, 1, 5, 9, 4, 0, 2])\n",
    "\n",
    "print(find_duplicates(numbers))"
   ]
  },
  {
   "cell_type": "markdown",
   "id": "93e1a9cd-ee85-48b0-b5e5-3d37aeeddb6e",
   "metadata": {
    "tags": []
   },
   "source": [
    "## 03\n",
    "- Resolución de dos sistemas de ecuaciones\n",
    "    - $ A : \\begin{cases} -9x +  4y = 20 \\\\ -7y + 16x = 80                         \\end{cases}$\n",
    "    \n",
    "    - $ B : \\begin{cases} x - 2y + 3z = 7 \\\\ 2x + y + z = 4 \\\\ -3x + 2y -2z = -10 \\end{cases}$\n",
    "- Verifica por código los resultados"
   ]
  },
  {
   "cell_type": "code",
   "execution_count": 28,
   "id": "2c19ea5f",
   "metadata": {},
   "outputs": [
    {
     "data": {
      "text/plain": [
       "7.0"
      ]
     },
     "execution_count": 28,
     "metadata": {},
     "output_type": "execute_result"
    }
   ],
   "source": [
    "a = np.array([[1,-2,3],[2,1,1],[-3,2,-2]])\n",
    "b = np.array([7,4,-10])\n",
    "\n",
    "x,y,z = np.linalg.solve(a,b)\n",
    "\n",
    "j= x -2*y + 3*z\n",
    "j"
   ]
  },
  {
   "cell_type": "code",
   "execution_count": 20,
   "id": "bbcc2811-859f-4023-bdbd-298750502ead",
   "metadata": {},
   "outputs": [
    {
     "data": {
      "text/plain": [
       "20.0"
      ]
     },
     "execution_count": 20,
     "metadata": {},
     "output_type": "execute_result"
    }
   ],
   "source": [
    "# Your solution HERE !!!!\n",
    "\n",
    "import numpy as np\n",
    "\n",
    "a = np.array([[-9,4],[16,-7]])\n",
    "b= np.array([20,80])\n",
    "\n",
    "x, y = np.linalg.solve(a,b)\n",
    "\n",
    "\n",
    "z=(-9*x) + (4*y)\n",
    "z=(-9*x) + (4*y)\n",
    "z"
   ]
  },
  {
   "cell_type": "markdown",
   "id": "655fe747-7f14-42dd-8a9a-6b532517bede",
   "metadata": {
    "tags": []
   },
   "source": [
    "## 04\n",
    "- Crear un objeto Series con 10 elementos, que contenga más de un tipo básico, con índices de tipo string\n",
    "- Demuestra que los datos con índices posicionales son los mismos que los obtenidos con índices semánticos, seleccionando a través de slicing, al menos 4 elementos de la serie anterior"
   ]
  },
  {
   "cell_type": "code",
   "execution_count": 36,
   "id": "ce7f3e5d-781e-49f5-9ab8-f8e6593ab327",
   "metadata": {},
   "outputs": [
    {
     "data": {
      "text/plain": [
       "a       1\n",
       "b       2\n",
       "c       3\n",
       "d       4\n",
       "e       5\n",
       "f       6\n",
       "g       X\n",
       "h    True\n",
       "i       Y\n",
       "j      10\n",
       "dtype: object"
      ]
     },
     "execution_count": 36,
     "metadata": {},
     "output_type": "execute_result"
    }
   ],
   "source": [
    "# Your solution HERE !!!!\n",
    "\n",
    "#import pandas as pd\n",
    "\n",
    "series = pd.Series([1,2,3,4,5,6,'X',True,'Y',10], index=list('abcdefghij'))\n",
    "\n",
    "series"
   ]
  },
  {
   "cell_type": "code",
   "execution_count": 46,
   "id": "a84a6bd3",
   "metadata": {},
   "outputs": [],
   "source": [
    "a=series[:4]\n",
    "b=series[:'d']\n",
    "b\n",
    "assert(np.array_equal(a,b))"
   ]
  },
  {
   "cell_type": "markdown",
   "id": "3f12a152-8257-491a-9b2f-270607831cc0",
   "metadata": {
    "tags": []
   },
   "source": [
    "## 05\n",
    "- Crear un DataFrame de dimensiones 10x10, con números aleatorios en el rango `[0,20]`\n",
    "- Reemplazar todos aquellos elementos menores de 5 por NaN\n",
    "- Averiguar cuantos elementos tienen Nan por fila"
   ]
  },
  {
   "cell_type": "code",
   "execution_count": 61,
   "id": "e6c62f70-14cb-446c-86eb-5428f36f627f",
   "metadata": {},
   "outputs": [
    {
     "data": {
      "text/html": [
       "<div>\n",
       "<style scoped>\n",
       "    .dataframe tbody tr th:only-of-type {\n",
       "        vertical-align: middle;\n",
       "    }\n",
       "\n",
       "    .dataframe tbody tr th {\n",
       "        vertical-align: top;\n",
       "    }\n",
       "\n",
       "    .dataframe thead th {\n",
       "        text-align: right;\n",
       "    }\n",
       "</style>\n",
       "<table border=\"1\" class=\"dataframe\">\n",
       "  <thead>\n",
       "    <tr style=\"text-align: right;\">\n",
       "      <th></th>\n",
       "      <th>0</th>\n",
       "      <th>1</th>\n",
       "      <th>2</th>\n",
       "      <th>3</th>\n",
       "      <th>4</th>\n",
       "      <th>5</th>\n",
       "      <th>6</th>\n",
       "      <th>7</th>\n",
       "      <th>8</th>\n",
       "      <th>9</th>\n",
       "    </tr>\n",
       "  </thead>\n",
       "  <tbody>\n",
       "    <tr>\n",
       "      <th>0</th>\n",
       "      <td>13</td>\n",
       "      <td>2</td>\n",
       "      <td>7</td>\n",
       "      <td>1</td>\n",
       "      <td>19</td>\n",
       "      <td>10</td>\n",
       "      <td>16</td>\n",
       "      <td>4</td>\n",
       "      <td>1</td>\n",
       "      <td>11</td>\n",
       "    </tr>\n",
       "    <tr>\n",
       "      <th>1</th>\n",
       "      <td>11</td>\n",
       "      <td>4</td>\n",
       "      <td>11</td>\n",
       "      <td>0</td>\n",
       "      <td>3</td>\n",
       "      <td>12</td>\n",
       "      <td>11</td>\n",
       "      <td>1</td>\n",
       "      <td>12</td>\n",
       "      <td>15</td>\n",
       "    </tr>\n",
       "    <tr>\n",
       "      <th>2</th>\n",
       "      <td>4</td>\n",
       "      <td>9</td>\n",
       "      <td>8</td>\n",
       "      <td>0</td>\n",
       "      <td>14</td>\n",
       "      <td>11</td>\n",
       "      <td>9</td>\n",
       "      <td>0</td>\n",
       "      <td>12</td>\n",
       "      <td>8</td>\n",
       "    </tr>\n",
       "    <tr>\n",
       "      <th>3</th>\n",
       "      <td>1</td>\n",
       "      <td>4</td>\n",
       "      <td>1</td>\n",
       "      <td>2</td>\n",
       "      <td>14</td>\n",
       "      <td>13</td>\n",
       "      <td>3</td>\n",
       "      <td>8</td>\n",
       "      <td>14</td>\n",
       "      <td>13</td>\n",
       "    </tr>\n",
       "    <tr>\n",
       "      <th>4</th>\n",
       "      <td>2</td>\n",
       "      <td>3</td>\n",
       "      <td>8</td>\n",
       "      <td>13</td>\n",
       "      <td>3</td>\n",
       "      <td>15</td>\n",
       "      <td>1</td>\n",
       "      <td>1</td>\n",
       "      <td>18</td>\n",
       "      <td>11</td>\n",
       "    </tr>\n",
       "    <tr>\n",
       "      <th>5</th>\n",
       "      <td>3</td>\n",
       "      <td>14</td>\n",
       "      <td>6</td>\n",
       "      <td>7</td>\n",
       "      <td>9</td>\n",
       "      <td>13</td>\n",
       "      <td>3</td>\n",
       "      <td>3</td>\n",
       "      <td>12</td>\n",
       "      <td>13</td>\n",
       "    </tr>\n",
       "    <tr>\n",
       "      <th>6</th>\n",
       "      <td>14</td>\n",
       "      <td>1</td>\n",
       "      <td>10</td>\n",
       "      <td>12</td>\n",
       "      <td>16</td>\n",
       "      <td>19</td>\n",
       "      <td>19</td>\n",
       "      <td>12</td>\n",
       "      <td>14</td>\n",
       "      <td>7</td>\n",
       "    </tr>\n",
       "    <tr>\n",
       "      <th>7</th>\n",
       "      <td>10</td>\n",
       "      <td>6</td>\n",
       "      <td>6</td>\n",
       "      <td>4</td>\n",
       "      <td>5</td>\n",
       "      <td>6</td>\n",
       "      <td>11</td>\n",
       "      <td>11</td>\n",
       "      <td>14</td>\n",
       "      <td>13</td>\n",
       "    </tr>\n",
       "    <tr>\n",
       "      <th>8</th>\n",
       "      <td>13</td>\n",
       "      <td>11</td>\n",
       "      <td>16</td>\n",
       "      <td>12</td>\n",
       "      <td>0</td>\n",
       "      <td>6</td>\n",
       "      <td>18</td>\n",
       "      <td>13</td>\n",
       "      <td>4</td>\n",
       "      <td>9</td>\n",
       "    </tr>\n",
       "    <tr>\n",
       "      <th>9</th>\n",
       "      <td>4</td>\n",
       "      <td>14</td>\n",
       "      <td>6</td>\n",
       "      <td>19</td>\n",
       "      <td>14</td>\n",
       "      <td>8</td>\n",
       "      <td>17</td>\n",
       "      <td>7</td>\n",
       "      <td>18</td>\n",
       "      <td>10</td>\n",
       "    </tr>\n",
       "  </tbody>\n",
       "</table>\n",
       "</div>"
      ],
      "text/plain": [
       "    0   1   2   3   4   5   6   7   8   9\n",
       "0  13   2   7   1  19  10  16   4   1  11\n",
       "1  11   4  11   0   3  12  11   1  12  15\n",
       "2   4   9   8   0  14  11   9   0  12   8\n",
       "3   1   4   1   2  14  13   3   8  14  13\n",
       "4   2   3   8  13   3  15   1   1  18  11\n",
       "5   3  14   6   7   9  13   3   3  12  13\n",
       "6  14   1  10  12  16  19  19  12  14   7\n",
       "7  10   6   6   4   5   6  11  11  14  13\n",
       "8  13  11  16  12   0   6  18  13   4   9\n",
       "9   4  14   6  19  14   8  17   7  18  10"
      ]
     },
     "metadata": {},
     "output_type": "display_data"
    },
    {
     "data": {
      "text/html": [
       "<div>\n",
       "<style scoped>\n",
       "    .dataframe tbody tr th:only-of-type {\n",
       "        vertical-align: middle;\n",
       "    }\n",
       "\n",
       "    .dataframe tbody tr th {\n",
       "        vertical-align: top;\n",
       "    }\n",
       "\n",
       "    .dataframe thead th {\n",
       "        text-align: right;\n",
       "    }\n",
       "</style>\n",
       "<table border=\"1\" class=\"dataframe\">\n",
       "  <thead>\n",
       "    <tr style=\"text-align: right;\">\n",
       "      <th></th>\n",
       "      <th>0</th>\n",
       "      <th>1</th>\n",
       "      <th>2</th>\n",
       "      <th>3</th>\n",
       "      <th>4</th>\n",
       "      <th>5</th>\n",
       "      <th>6</th>\n",
       "      <th>7</th>\n",
       "      <th>8</th>\n",
       "      <th>9</th>\n",
       "    </tr>\n",
       "  </thead>\n",
       "  <tbody>\n",
       "    <tr>\n",
       "      <th>0</th>\n",
       "      <td>13</td>\n",
       "      <td>2</td>\n",
       "      <td>7</td>\n",
       "      <td>1</td>\n",
       "      <td>19.0</td>\n",
       "      <td>10</td>\n",
       "      <td>16</td>\n",
       "      <td>4</td>\n",
       "      <td>1</td>\n",
       "      <td>11</td>\n",
       "    </tr>\n",
       "    <tr>\n",
       "      <th>1</th>\n",
       "      <td>11</td>\n",
       "      <td>4</td>\n",
       "      <td>11</td>\n",
       "      <td>0</td>\n",
       "      <td>3.0</td>\n",
       "      <td>12</td>\n",
       "      <td>11</td>\n",
       "      <td>1</td>\n",
       "      <td>12</td>\n",
       "      <td>15</td>\n",
       "    </tr>\n",
       "    <tr>\n",
       "      <th>2</th>\n",
       "      <td>4</td>\n",
       "      <td>9</td>\n",
       "      <td>8</td>\n",
       "      <td>0</td>\n",
       "      <td>14.0</td>\n",
       "      <td>11</td>\n",
       "      <td>9</td>\n",
       "      <td>0</td>\n",
       "      <td>12</td>\n",
       "      <td>8</td>\n",
       "    </tr>\n",
       "    <tr>\n",
       "      <th>3</th>\n",
       "      <td>1</td>\n",
       "      <td>4</td>\n",
       "      <td>1</td>\n",
       "      <td>2</td>\n",
       "      <td>14.0</td>\n",
       "      <td>13</td>\n",
       "      <td>3</td>\n",
       "      <td>8</td>\n",
       "      <td>14</td>\n",
       "      <td>13</td>\n",
       "    </tr>\n",
       "    <tr>\n",
       "      <th>4</th>\n",
       "      <td>2</td>\n",
       "      <td>3</td>\n",
       "      <td>8</td>\n",
       "      <td>13</td>\n",
       "      <td>3.0</td>\n",
       "      <td>15</td>\n",
       "      <td>1</td>\n",
       "      <td>1</td>\n",
       "      <td>18</td>\n",
       "      <td>11</td>\n",
       "    </tr>\n",
       "    <tr>\n",
       "      <th>5</th>\n",
       "      <td>3</td>\n",
       "      <td>14</td>\n",
       "      <td>6</td>\n",
       "      <td>7</td>\n",
       "      <td>9.0</td>\n",
       "      <td>13</td>\n",
       "      <td>3</td>\n",
       "      <td>3</td>\n",
       "      <td>12</td>\n",
       "      <td>13</td>\n",
       "    </tr>\n",
       "    <tr>\n",
       "      <th>6</th>\n",
       "      <td>14</td>\n",
       "      <td>1</td>\n",
       "      <td>10</td>\n",
       "      <td>12</td>\n",
       "      <td>16.0</td>\n",
       "      <td>19</td>\n",
       "      <td>19</td>\n",
       "      <td>12</td>\n",
       "      <td>14</td>\n",
       "      <td>7</td>\n",
       "    </tr>\n",
       "    <tr>\n",
       "      <th>7</th>\n",
       "      <td>10</td>\n",
       "      <td>6</td>\n",
       "      <td>6</td>\n",
       "      <td>4</td>\n",
       "      <td>NaN</td>\n",
       "      <td>6</td>\n",
       "      <td>11</td>\n",
       "      <td>11</td>\n",
       "      <td>14</td>\n",
       "      <td>13</td>\n",
       "    </tr>\n",
       "    <tr>\n",
       "      <th>8</th>\n",
       "      <td>13</td>\n",
       "      <td>11</td>\n",
       "      <td>16</td>\n",
       "      <td>12</td>\n",
       "      <td>0.0</td>\n",
       "      <td>6</td>\n",
       "      <td>18</td>\n",
       "      <td>13</td>\n",
       "      <td>4</td>\n",
       "      <td>9</td>\n",
       "    </tr>\n",
       "    <tr>\n",
       "      <th>9</th>\n",
       "      <td>4</td>\n",
       "      <td>14</td>\n",
       "      <td>6</td>\n",
       "      <td>19</td>\n",
       "      <td>14.0</td>\n",
       "      <td>8</td>\n",
       "      <td>17</td>\n",
       "      <td>7</td>\n",
       "      <td>18</td>\n",
       "      <td>10</td>\n",
       "    </tr>\n",
       "  </tbody>\n",
       "</table>\n",
       "</div>"
      ],
      "text/plain": [
       "    0   1   2   3     4   5   6   7   8   9\n",
       "0  13   2   7   1  19.0  10  16   4   1  11\n",
       "1  11   4  11   0   3.0  12  11   1  12  15\n",
       "2   4   9   8   0  14.0  11   9   0  12   8\n",
       "3   1   4   1   2  14.0  13   3   8  14  13\n",
       "4   2   3   8  13   3.0  15   1   1  18  11\n",
       "5   3  14   6   7   9.0  13   3   3  12  13\n",
       "6  14   1  10  12  16.0  19  19  12  14   7\n",
       "7  10   6   6   4   NaN   6  11  11  14  13\n",
       "8  13  11  16  12   0.0   6  18  13   4   9\n",
       "9   4  14   6  19  14.0   8  17   7  18  10"
      ]
     },
     "metadata": {},
     "output_type": "display_data"
    },
    {
     "data": {
      "text/plain": [
       "0    0\n",
       "1    0\n",
       "2    0\n",
       "3    0\n",
       "4    0\n",
       "5    0\n",
       "6    0\n",
       "7    1\n",
       "8    0\n",
       "9    0\n",
       "dtype: int64"
      ]
     },
     "execution_count": 61,
     "metadata": {},
     "output_type": "execute_result"
    }
   ],
   "source": [
    "# Your solution HERE !!!!\n",
    "from random import shuffle\n",
    "\n",
    "df = pd.DataFrame(np.random.randint(20, size=(10,10)))\n",
    "display(df)\n",
    "df[df==5]=np.nan\n",
    "display(df)\n",
    "df.isna().sum(axis=1)"
   ]
  },
  {
   "cell_type": "markdown",
   "id": "8ba8d87a-190e-48ab-9235-04d875ef994e",
   "metadata": {
    "tags": []
   },
   "source": [
    "## 06\n",
    "- Dada una lista de elementos, crea una función que devuelva un dataframe sin los elementos duplicados"
   ]
  },
  {
   "cell_type": "code",
   "execution_count": 67,
   "id": "18d7bb34-b613-497e-b59b-aca2ec09863d",
   "metadata": {},
   "outputs": [],
   "source": [
    "serie = ['a','b','c','a','c','a','g']\n",
    "expected_output = pd.DataFrame(['a','b','c','g'])\n",
    "output = remove_duplicates(serie)   # This will call tour function remove_duplicates\n",
    "assert(expected_output.equals(output))  # This will fail if the result is not as expected"
   ]
  },
  {
   "cell_type": "code",
   "execution_count": 66,
   "id": "ee636cf0-9bff-497e-b4d9-ab42ac4b166a",
   "metadata": {},
   "outputs": [
    {
     "data": {
      "text/html": [
       "<div>\n",
       "<style scoped>\n",
       "    .dataframe tbody tr th:only-of-type {\n",
       "        vertical-align: middle;\n",
       "    }\n",
       "\n",
       "    .dataframe tbody tr th {\n",
       "        vertical-align: top;\n",
       "    }\n",
       "\n",
       "    .dataframe thead th {\n",
       "        text-align: right;\n",
       "    }\n",
       "</style>\n",
       "<table border=\"1\" class=\"dataframe\">\n",
       "  <thead>\n",
       "    <tr style=\"text-align: right;\">\n",
       "      <th></th>\n",
       "      <th>0</th>\n",
       "    </tr>\n",
       "  </thead>\n",
       "  <tbody>\n",
       "    <tr>\n",
       "      <th>0</th>\n",
       "      <td>a</td>\n",
       "    </tr>\n",
       "    <tr>\n",
       "      <th>1</th>\n",
       "      <td>b</td>\n",
       "    </tr>\n",
       "    <tr>\n",
       "      <th>2</th>\n",
       "      <td>c</td>\n",
       "    </tr>\n",
       "    <tr>\n",
       "      <th>3</th>\n",
       "      <td>g</td>\n",
       "    </tr>\n",
       "  </tbody>\n",
       "</table>\n",
       "</div>"
      ],
      "text/plain": [
       "   0\n",
       "0  a\n",
       "1  b\n",
       "2  c\n",
       "3  g"
      ]
     },
     "execution_count": 66,
     "metadata": {},
     "output_type": "execute_result"
    }
   ],
   "source": [
    "# Your solution HERE !!!!\n",
    "\n",
    "def remove_duplicates(serie):\n",
    "    return pd.DataFrame(np.unique(serie))\n",
    "\n",
    "\n",
    "remove_duplicates(serie)"
   ]
  },
  {
   "cell_type": "markdown",
   "id": "eb52b109-d2f2-4d8a-b81d-babd5d44f2a9",
   "metadata": {
    "tags": []
   },
   "source": [
    "## 07\n",
    "- La serie de Fibonacci es una sucesión de números, en la cual cada número es la suma de los dos anteriores. Los dos primeros son siempre 0 y 1.\n",
    "  - $F_0 = 0$\n",
    "  - $F_1 = 1$\n",
    "  - $F_n = F_{n-1} + F_{n-2}$\n",
    "- Crear un generador infinito de números de Fibonacci."
   ]
  },
  {
   "cell_type": "code",
   "execution_count": 3,
   "id": "7d6520cc-3253-499d-909a-d3573c38fd41",
   "metadata": {},
   "outputs": [],
   "source": [
    "fibo = [0,1,1,2,3,5,8,13,21,34,55,89,144,233,377,610,987,1597]\n",
    "g = fibonacci_generator()  # This calls tour function fibonacci_generator\n",
    "expected_output = [next(g) for n in range(len(fibo))]\n",
    "assert(fibo == expected_output)  # This will fail if the output is not as expected"
   ]
  },
  {
   "cell_type": "code",
   "execution_count": 2,
   "id": "9d395c62-a894-48ce-990b-cf60d34ec065",
   "metadata": {},
   "outputs": [],
   "source": [
    "# Your solution HERE !!!!\n",
    "def fibonacci_generator():\n",
    "    init = [0,1]    \n",
    "    while True:        \n",
    "        init.append(init[-1]+init[-2])\n",
    "        yield init[-3]\n",
    "        #init[-1]\n"
   ]
  },
  {
   "cell_type": "code",
   "execution_count": 206,
   "id": "319f6692",
   "metadata": {},
   "outputs": [],
   "source": [
    "# Your solution HERE !!!!\n",
    "def fibonacci_generator():\n",
    "    init = [0,1]    \n",
    "    while True:\n",
    "        yield init[-2]\n",
    "        init.append(sum(init[-2:]))\n"
   ]
  },
  {
   "cell_type": "code",
   "execution_count": 203,
   "id": "e1ce992b",
   "metadata": {},
   "outputs": [
    {
     "data": {
      "text/plain": [
       "8"
      ]
     },
     "execution_count": 203,
     "metadata": {},
     "output_type": "execute_result"
    }
   ],
   "source": [
    "init = [0,1,1,2,3,5] \n",
    "sum(init[-2:])"
   ]
  },
  {
   "cell_type": "code",
   "execution_count": 220,
   "id": "42ee27ae",
   "metadata": {},
   "outputs": [
    {
     "data": {
      "text/plain": [
       "4181"
      ]
     },
     "execution_count": 220,
     "metadata": {},
     "output_type": "execute_result"
    }
   ],
   "source": [
    "next(g)"
   ]
  },
  {
   "cell_type": "code",
   "execution_count": 218,
   "id": "d64d2951",
   "metadata": {},
   "outputs": [
    {
     "name": "stdout",
     "output_type": "stream",
     "text": [
      "[0, 1, 1, 2, 3, 5, 8, 13, 21, 34, 55, 89, 144, 233, 377, 610, 987, 1597]\n"
     ]
    }
   ],
   "source": [
    "\n",
    "g = fibonacci_generator()\n",
    "expected_output = [next(g) for n in range(len(fibo))]\n",
    "\n",
    "print(expected_output)"
   ]
  },
  {
   "cell_type": "markdown",
   "id": "ae093f1d-b4e5-4ac3-a0a8-c6aecb8a084d",
   "metadata": {
    "tags": []
   },
   "source": [
    "## 08\n",
    "- Crear una función que reciba una Serie de Pandas y devuelva esa misma serie, reemplazando los espacios en blanco por el carácter menos frecuente en dicha serie."
   ]
  },
  {
   "cell_type": "code",
   "execution_count": 201,
   "id": "02390a36-6e74-4e34-b46a-e1612771863e",
   "metadata": {},
   "outputs": [],
   "source": [
    "serie = pd.Series(list('bba cabc fdabba aacbbfe'))\n",
    "expected_output = pd.Series(list('bbaecabcefdabbaeaacbbfe'))\n",
    "output = clean_whitespace_replace(serie)  # This calls your function clean_whitespace_replace\n",
    "assert(expected_output.equals(output))  # This will fail if result is not as expected"
   ]
  },
  {
   "cell_type": "code",
   "execution_count": 199,
   "id": "0472c9a4-ce23-42e2-9090-ee4695d6057a",
   "metadata": {},
   "outputs": [],
   "source": [
    "# Your solution HERE !!!!\n",
    "\n",
    "def clean_whitespace_replace(serie):\n",
    "     serie[serie==' '] =serie.value_counts().index[-1]\n",
    "     return serie"
   ]
  },
  {
   "cell_type": "code",
   "execution_count": 200,
   "id": "cb184038",
   "metadata": {},
   "outputs": [
    {
     "name": "stdout",
     "output_type": "stream",
     "text": [
      "0     b\n",
      "1     b\n",
      "2     a\n",
      "3     e\n",
      "4     c\n",
      "5     a\n",
      "6     b\n",
      "7     c\n",
      "8     e\n",
      "9     f\n",
      "10    d\n",
      "11    a\n",
      "12    b\n",
      "13    b\n",
      "14    a\n",
      "15    e\n",
      "16    a\n",
      "17    a\n",
      "18    c\n",
      "19    b\n",
      "20    b\n",
      "21    f\n",
      "22    e\n",
      "dtype: object\n"
     ]
    }
   ],
   "source": [
    "serie = pd.Series(list('bba cabc fdabba aacbbfe'))\n",
    "print(clean_whitespace_replace(serie))"
   ]
  }
 ],
 "metadata": {
  "kernelspec": {
   "display_name": "Python 3.9.7 ('base')",
   "language": "python",
   "name": "python3"
  },
  "language_info": {
   "codemirror_mode": {
    "name": "ipython",
    "version": 3
   },
   "file_extension": ".py",
   "mimetype": "text/x-python",
   "name": "python",
   "nbconvert_exporter": "python",
   "pygments_lexer": "ipython3",
   "version": "3.9.7"
  },
  "vscode": {
   "interpreter": {
    "hash": "9a65927f5967699fcd722c82a9c185cfa0040c4b95e3af20a6eefdab7483f21b"
   }
  }
 },
 "nbformat": 4,
 "nbformat_minor": 5
}
