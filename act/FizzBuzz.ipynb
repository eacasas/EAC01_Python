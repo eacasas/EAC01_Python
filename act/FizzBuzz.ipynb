{
 "cells": [
  {
   "cell_type": "code",
   "execution_count": 1,
   "id": "257772be-bd19-4217-9311-e8febfd97746",
   "metadata": {},
   "outputs": [
    {
     "name": "stdout",
     "output_type": "stream",
     "text": [
      "1 ,2 ,Fizz ,4 ,buzz ,Fizz ,7 ,8 ,Fizz ,buzz ,11 ,Fizz ,13 ,14 ,Fizzbuzz ,16 ,17 ,Fizz ,19 ,buzz ,Fizz ,22 ,23 ,Fizz ,buzz ,26 ,Fizz ,28 ,29 ,Fizzbuzz ,31 ,32 ,Fizz ,34 ,buzz ,Fizz ,37 ,38 ,Fizz ,buzz ,41 ,Fizz ,43 ,44 ,Fizzbuzz ,46 ,47 ,Fizz ,49 ,buzz ,Fizz ,52 ,53 ,Fizz ,buzz ,56 ,Fizz ,58 ,59 ,Fizzbuzz ,61 ,62 ,Fizz ,64 ,buzz ,Fizz ,67 ,68 ,Fizz ,buzz ,71 ,Fizz ,73 ,74 ,Fizzbuzz ,76 ,77 ,Fizz ,79 ,buzz ,Fizz ,82 ,83 ,Fizz ,buzz ,86 ,Fizz ,88 ,89 ,Fizzbuzz ,91 ,92 ,Fizz ,94 ,buzz ,Fizz ,97 ,98 ,Fizz ,"
     ]
    }
   ],
   "source": [
    "for num in range(1,100):\n",
    "    if num % 3 == 0 and num % 5 == 0:\n",
    "        print(f'Fizzbuzz', end = \" \"',')\n",
    "    elif num % 3 == 0:\n",
    "        print(f'Fizz', end = \" \"',')\n",
    "    elif num % 5 == 0:\n",
    "        print(f'buzz', end = \" \"',')\n",
    "    else:\n",
    "        print(f'{num}', end = \" \"',')"
   ]
  },
  {
   "cell_type": "code",
   "execution_count": 4,
   "id": "83d1fba7-defd-4b62-a0d0-65032df30cb2",
   "metadata": {},
   "outputs": [
    {
     "name": "stdout",
     "output_type": "stream",
     "text": [
      "[1, 2, 'Fizz', 4, 'Buzz', 'Fizz', 7, 8, 'Fizz', 'Buzz', 11, 'Fizz', 13, 14, 'FizzBuzz', 16, 17, 'Fizz', 19, 'Buzz', 'Fizz', 22, 23, 'Fizz', 'Buzz', 26, 'Fizz', 28, 29, 'FizzBuzz', 31, 32, 'Fizz', 34, 'Buzz', 'Fizz', 37, 38, 'Fizz', 'Buzz', 41, 'Fizz', 43, 44, 'FizzBuzz', 46, 47, 'Fizz', 49, 'Buzz', 'Fizz', 52, 53, 'Fizz', 'Buzz', 56, 'Fizz', 58, 59, 'FizzBuzz', 61, 62, 'Fizz', 64, 'Buzz', 'Fizz', 67, 68, 'Fizz', 'Buzz', 71, 'Fizz', 73, 74, 'FizzBuzz', 76, 77, 'Fizz', 79, 'Buzz', 'Fizz', 82, 83, 'Fizz', 'Buzz', 86, 'Fizz', 88, 89, 'FizzBuzz', 91, 92, 'Fizz', 94, 'Buzz', 'Fizz', 97, 98, 'Fizz']\n"
     ]
    }
   ],
   "source": [
    "def fizzbuzz_filter(x):\n",
    "    if x%3==0 or x%5==0:\n",
    "        return \"Fizz\"*(not x%3) + \"Buzz\"*(not x%5)\n",
    "    else:\n",
    "        return x\n",
    "\n",
    "lista = list(map(fizzbuzz_filter,list(range(1,100))))\n",
    "# lista[0] = 0\n",
    "\n",
    "print(lista)"
   ]
  },
  {
   "cell_type": "code",
   "execution_count": 5,
   "id": "d0d2ae73-12c3-40bd-9800-85dc6f695f64",
   "metadata": {},
   "outputs": [
    {
     "name": "stdout",
     "output_type": "stream",
     "text": [
      "1,2,Fizz,4,Buzz,Fizz,7,8,Fizz,Buzz,11,Fizz,13,14,FizzBuzz,16,17,Fizz,19,Buzz,Fizz,22,23,Fizz,Buzz,26,Fizz,28,29,FizzBuzz,31,32,Fizz,34,Buzz,Fizz,37,38,Fizz,Buzz,41,Fizz,43,44,FizzBuzz,46,47,Fizz,49,Buzz,Fizz,52,53,Fizz,Buzz,56,Fizz,58,59,FizzBuzz,61,62,Fizz,64,Buzz,Fizz,67,68,Fizz,Buzz,71,Fizz,73,74,FizzBuzz,76,77,Fizz,79,Buzz,Fizz,82,83,Fizz,Buzz,86,Fizz,88,89,FizzBuzz,91,92,Fizz,94,Buzz,Fizz,97,98,Fizz\n"
     ]
    }
   ],
   "source": [
    "print(\",\".join([\"FizzBuzz\" if x % 3 == 0 and x % 5 == 0 else \"Fizz\" if x % 3 == 0 else \"Buzz\" if x % 5 == 0 else str(x) for x in range(1,100)]))"
   ]
  },
  {
   "cell_type": "code",
   "execution_count": 6,
   "id": "9cb7ecc5-8550-43c5-b4da-f8f67a635767",
   "metadata": {
    "tags": []
   },
   "outputs": [
    {
     "name": "stdout",
     "output_type": "stream",
     "text": [
      "1\n",
      "2\n",
      "Fizz\n",
      "4\n",
      "Buzz\n",
      "Fizz\n",
      "7\n",
      "8\n",
      "Fizz\n",
      "Buzz\n",
      "11\n",
      "Fizz\n",
      "13\n",
      "14\n",
      "FizzBuzz\n",
      "16\n",
      "17\n",
      "Fizz\n",
      "19\n",
      "Buzz\n",
      "Fizz\n",
      "22\n",
      "23\n",
      "Fizz\n",
      "Buzz\n",
      "26\n",
      "Fizz\n",
      "28\n",
      "29\n",
      "FizzBuzz\n",
      "31\n",
      "32\n",
      "Fizz\n",
      "34\n",
      "Buzz\n",
      "Fizz\n",
      "37\n",
      "38\n",
      "Fizz\n",
      "Buzz\n",
      "41\n",
      "Fizz\n",
      "43\n",
      "44\n",
      "FizzBuzz\n",
      "46\n",
      "47\n",
      "Fizz\n",
      "49\n",
      "Buzz\n",
      "Fizz\n",
      "52\n",
      "53\n",
      "Fizz\n",
      "Buzz\n",
      "56\n",
      "Fizz\n",
      "58\n",
      "59\n",
      "FizzBuzz\n",
      "61\n",
      "62\n",
      "Fizz\n",
      "64\n",
      "Buzz\n",
      "Fizz\n",
      "67\n",
      "68\n",
      "Fizz\n",
      "Buzz\n",
      "71\n",
      "Fizz\n",
      "73\n",
      "74\n",
      "FizzBuzz\n",
      "76\n",
      "77\n",
      "Fizz\n",
      "79\n",
      "Buzz\n",
      "Fizz\n",
      "82\n",
      "83\n",
      "Fizz\n",
      "Buzz\n",
      "86\n",
      "Fizz\n",
      "88\n",
      "89\n",
      "FizzBuzz\n",
      "91\n",
      "92\n",
      "Fizz\n",
      "94\n",
      "Buzz\n",
      "Fizz\n",
      "97\n",
      "98\n",
      "Fizz\n"
     ]
    }
   ],
   "source": [
    "for dato1 in [\"FizzBuzz\" if not valor1 % 15 else \"Buzz\" if not valor1 % 5 else \"Fizz\" if not valor1 % 3 else valor1 for valor1 in range(1,100)]:\n",
    "    print(dato1)"
   ]
  },
  {
   "cell_type": "code",
   "execution_count": 7,
   "id": "34ca6087-8526-492d-8287-6ad5ec9608b1",
   "metadata": {},
   "outputs": [
    {
     "name": "stdout",
     "output_type": "stream",
     "text": [
      "['FizzBuzz', 1, 2, 'Fizz', 4, 'Buzz', 'Fizz', 7, 8, 'Fizz', 'Buzz', 11, 'Fizz', 13, 14, 'FizzBuzz', 16, 17, 'Fizz', 19, 'Buzz', 'Fizz', 22, 23, 'Fizz', 'Buzz', 26, 'Fizz', 28, 29, 'FizzBuzz', 31, 32, 'Fizz', 34, 'Buzz', 'Fizz', 37, 38, 'Fizz', 'Buzz', 41, 'Fizz', 43, 44, 'FizzBuzz', 46, 47, 'Fizz', 49, 'Buzz', 'Fizz', 52, 53, 'Fizz', 'Buzz', 56, 'Fizz', 58, 59, 'FizzBuzz', 61, 62, 'Fizz', 64, 'Buzz', 'Fizz', 67, 68, 'Fizz', 'Buzz', 71, 'Fizz', 73, 74, 'FizzBuzz', 76, 77, 'Fizz', 79, 'Buzz', 'Fizz', 82, 83, 'Fizz', 'Buzz', 86, 'Fizz', 88, 89, 'FizzBuzz', 91, 92, 'Fizz', 94, 'Buzz', 'Fizz', 97, 98, 'Fizz']\n"
     ]
    }
   ],
   "source": [
    "lista3 = list(range(0,100))\n",
    "\n",
    "for im3 in range(0,100,3):\n",
    "    lista3[im3] = 'Fizz'\n",
    "\n",
    "for im5 in range(0,100,5):\n",
    "    lista3[im5] = 'Buzz'\n",
    "\n",
    "for im15 in range(0,100,15):\n",
    "    lista3[im15] = 'FizzBuzz'\n",
    "\n",
    "print(lista3)"
   ]
  },
  {
   "cell_type": "code",
   "execution_count": 2,
   "id": "579dc3af-df2a-4165-892a-52b6c02a81a1",
   "metadata": {
    "tags": []
   },
   "outputs": [
    {
     "name": "stdout",
     "output_type": "stream",
     "text": [
      "1\n",
      "2\n",
      "Fizz\n",
      "4\n",
      "Buzz\n",
      "Fizz\n",
      "7\n",
      "8\n",
      "Fizz\n",
      "Buzz\n",
      "11\n",
      "Fizz\n",
      "13\n",
      "14\n",
      "FizzBuzz\n",
      "16\n",
      "17\n",
      "Fizz\n",
      "19\n",
      "Buzz\n",
      "Fizz\n",
      "22\n",
      "23\n",
      "Fizz\n",
      "Buzz\n",
      "26\n",
      "Fizz\n",
      "28\n",
      "29\n"
     ]
    }
   ],
   "source": [
    "for i in range(1,30):\n",
    "    fizz = 'Fizz' if i % 3 == 0 else ''\n",
    "    buzz = 'Buzz' if i % 5 == 0 else ''\n",
    "    print(f\"{fizz}{buzz}\" or i)"
   ]
  },
  {
   "cell_type": "code",
   "execution_count": 3,
   "id": "bb88e587-f055-43dd-a1fd-594aaca83e2b",
   "metadata": {},
   "outputs": [
    {
     "name": "stdout",
     "output_type": "stream",
     "text": [
      "1 2 Fizz 4 Buzz Fizz 7 8 Fizz Buzz 11 Fizz 13 14 FizzBuzz 16 17 Fizz 19 Buzz Fizz 22 23 Fizz Buzz 26 Fizz 28 29\n"
     ]
    }
   ],
   "source": [
    "print(*map(lambda i: 'Fizz' * (not i%3) + 'Buzz' * (not i%5) or i, range(1,30)))"
   ]
  }
 ],
 "metadata": {
  "kernelspec": {
   "display_name": "Python 3.9.7 ('base')",
   "language": "python",
   "name": "python3"
  },
  "language_info": {
   "codemirror_mode": {
    "name": "ipython",
    "version": 3
   },
   "file_extension": ".py",
   "mimetype": "text/x-python",
   "name": "python",
   "nbconvert_exporter": "python",
   "pygments_lexer": "ipython3",
   "version": "3.9.7"
  },
  "vscode": {
   "interpreter": {
    "hash": "9a65927f5967699fcd722c82a9c185cfa0040c4b95e3af20a6eefdab7483f21b"
   }
  }
 },
 "nbformat": 4,
 "nbformat_minor": 5
}
