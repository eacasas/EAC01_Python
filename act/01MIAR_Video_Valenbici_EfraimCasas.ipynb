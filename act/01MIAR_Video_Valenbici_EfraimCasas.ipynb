{
 "cells": [
  {
   "cell_type": "markdown",
   "id": "f37dc7b1-6e66-4d6d-811a-6280f57edc61",
   "metadata": {},
   "source": [
    "<img src=\"../img/viu_logo.png\" width=\"200\">\n",
    "\n",
    "## 01MIAR - Actividad Valenbici\n",
    "\n",
    "\n",
    "\n",
    "Autor: *EFRAIM ALBERTO CASAS*\n",
    "\n"
   ]
  },
  {
   "cell_type": "markdown",
   "id": "7db73775-46f1-4bad-8f6a-943291e2a9e6",
   "metadata": {},
   "source": [
    "Servicios desde donde se recopiló la información:\n",
    "- http://www.valenbisi.es/service/carto/json\n",
    "- http://www.valenbisi.es/service/stationdetails/valence/63"
   ]
  },
  {
   "cell_type": "markdown",
   "id": "94d2b6aa",
   "metadata": {},
   "source": [
    "#### Actividad\n",
    "# Punto 01 \n",
    "\n",
    "#### Carga de datos de csv (estaciones_bici.csv) en un DataFrame\n"
   ]
  },
  {
   "cell_type": "code",
   "execution_count": 84,
   "id": "68931815-c6be-420c-bb35-720870f31233",
   "metadata": {},
   "outputs": [],
   "source": [
    "import pandas as pd\n",
    "\n",
    "from os import path\n",
    "#Para el ejemplo debe estar creado en archivo dentro de la carpeta res\n",
    "bicis_path = path.join('res','estaciones_bici.csv')\n",
    "bicis = pd.read_csv(bicis_path, sep=';')\n",
    "data = bicis[['station', 'total', 'download_date', 'available']]\n"
   ]
  },
  {
   "cell_type": "markdown",
   "id": "55d60b3a",
   "metadata": {},
   "source": [
    "### Validación de la Información"
   ]
  },
  {
   "cell_type": "code",
   "execution_count": 77,
   "id": "93a7e7bd-c338-43b4-8ae3-8c8c229512b4",
   "metadata": {},
   "outputs": [
    {
     "data": {
      "text/html": [
       "<div>\n",
       "<style scoped>\n",
       "    .dataframe tbody tr th:only-of-type {\n",
       "        vertical-align: middle;\n",
       "    }\n",
       "\n",
       "    .dataframe tbody tr th {\n",
       "        vertical-align: top;\n",
       "    }\n",
       "\n",
       "    .dataframe thead th {\n",
       "        text-align: right;\n",
       "    }\n",
       "</style>\n",
       "<table border=\"1\" class=\"dataframe\">\n",
       "  <thead>\n",
       "    <tr style=\"text-align: right;\">\n",
       "      <th></th>\n",
       "      <th>station</th>\n",
       "      <th>total</th>\n",
       "      <th>download_date</th>\n",
       "      <th>available</th>\n",
       "    </tr>\n",
       "  </thead>\n",
       "  <tbody>\n",
       "    <tr>\n",
       "      <th>0</th>\n",
       "      <td>64</td>\n",
       "      <td>20</td>\n",
       "      <td>2019-02-10 17:25:37.787</td>\n",
       "      <td>9</td>\n",
       "    </tr>\n",
       "    <tr>\n",
       "      <th>1</th>\n",
       "      <td>73</td>\n",
       "      <td>20</td>\n",
       "      <td>2019-02-10 17:25:37.787</td>\n",
       "      <td>6</td>\n",
       "    </tr>\n",
       "    <tr>\n",
       "      <th>2</th>\n",
       "      <td>63</td>\n",
       "      <td>20</td>\n",
       "      <td>2019-02-10 18:13:39.827</td>\n",
       "      <td>20</td>\n",
       "    </tr>\n",
       "    <tr>\n",
       "      <th>3</th>\n",
       "      <td>64</td>\n",
       "      <td>20</td>\n",
       "      <td>2019-02-10 18:13:39.827</td>\n",
       "      <td>6</td>\n",
       "    </tr>\n",
       "    <tr>\n",
       "      <th>4</th>\n",
       "      <td>65</td>\n",
       "      <td>19</td>\n",
       "      <td>2019-02-10 18:13:39.827</td>\n",
       "      <td>9</td>\n",
       "    </tr>\n",
       "  </tbody>\n",
       "</table>\n",
       "</div>"
      ],
      "text/plain": [
       "   station  total            download_date  available\n",
       "0       64     20  2019-02-10 17:25:37.787          9\n",
       "1       73     20  2019-02-10 17:25:37.787          6\n",
       "2       63     20  2019-02-10 18:13:39.827         20\n",
       "3       64     20  2019-02-10 18:13:39.827          6\n",
       "4       65     19  2019-02-10 18:13:39.827          9"
      ]
     },
     "metadata": {},
     "output_type": "display_data"
    }
   ],
   "source": [
    "display(data.head())"
   ]
  },
  {
   "cell_type": "code",
   "execution_count": 78,
   "id": "3a3c30b4",
   "metadata": {},
   "outputs": [
    {
     "data": {
      "text/html": [
       "<div>\n",
       "<style scoped>\n",
       "    .dataframe tbody tr th:only-of-type {\n",
       "        vertical-align: middle;\n",
       "    }\n",
       "\n",
       "    .dataframe tbody tr th {\n",
       "        vertical-align: top;\n",
       "    }\n",
       "\n",
       "    .dataframe thead th {\n",
       "        text-align: right;\n",
       "    }\n",
       "</style>\n",
       "<table border=\"1\" class=\"dataframe\">\n",
       "  <thead>\n",
       "    <tr style=\"text-align: right;\">\n",
       "      <th></th>\n",
       "      <th>station</th>\n",
       "      <th>total</th>\n",
       "      <th>download_date</th>\n",
       "      <th>available</th>\n",
       "    </tr>\n",
       "  </thead>\n",
       "  <tbody>\n",
       "    <tr>\n",
       "      <th>2428</th>\n",
       "      <td>226</td>\n",
       "      <td>30</td>\n",
       "      <td>2019-02-10 20:17:52.989</td>\n",
       "      <td>3</td>\n",
       "    </tr>\n",
       "    <tr>\n",
       "      <th>17288</th>\n",
       "      <td>208</td>\n",
       "      <td>20</td>\n",
       "      <td>2019-02-11 12:52:05.359</td>\n",
       "      <td>9</td>\n",
       "    </tr>\n",
       "    <tr>\n",
       "      <th>24642</th>\n",
       "      <td>108</td>\n",
       "      <td>15</td>\n",
       "      <td>2019-02-11 20:53:17.889</td>\n",
       "      <td>8</td>\n",
       "    </tr>\n",
       "    <tr>\n",
       "      <th>14587</th>\n",
       "      <td>273</td>\n",
       "      <td>15</td>\n",
       "      <td>2019-02-11 09:45:54.189</td>\n",
       "      <td>5</td>\n",
       "    </tr>\n",
       "    <tr>\n",
       "      <th>19047</th>\n",
       "      <td>102</td>\n",
       "      <td>20</td>\n",
       "      <td>2019-02-11 14:56:18.388</td>\n",
       "      <td>13</td>\n",
       "    </tr>\n",
       "    <tr>\n",
       "      <th>19382</th>\n",
       "      <td>79</td>\n",
       "      <td>20</td>\n",
       "      <td>2019-02-11 15:27:22.300</td>\n",
       "      <td>5</td>\n",
       "    </tr>\n",
       "    <tr>\n",
       "      <th>771</th>\n",
       "      <td>225</td>\n",
       "      <td>20</td>\n",
       "      <td>2019-02-10 18:44:43.728</td>\n",
       "      <td>0</td>\n",
       "    </tr>\n",
       "    <tr>\n",
       "      <th>22222</th>\n",
       "      <td>122</td>\n",
       "      <td>15</td>\n",
       "      <td>2019-02-11 18:02:38.152</td>\n",
       "      <td>3</td>\n",
       "    </tr>\n",
       "    <tr>\n",
       "      <th>12731</th>\n",
       "      <td>38</td>\n",
       "      <td>20</td>\n",
       "      <td>2019-02-11 08:12:42.093</td>\n",
       "      <td>8</td>\n",
       "    </tr>\n",
       "    <tr>\n",
       "      <th>20315</th>\n",
       "      <td>9</td>\n",
       "      <td>25</td>\n",
       "      <td>2019-02-11 16:13:54.894</td>\n",
       "      <td>19</td>\n",
       "    </tr>\n",
       "  </tbody>\n",
       "</table>\n",
       "</div>"
      ],
      "text/plain": [
       "       station  total            download_date  available\n",
       "2428       226     30  2019-02-10 20:17:52.989          3\n",
       "17288      208     20  2019-02-11 12:52:05.359          9\n",
       "24642      108     15  2019-02-11 20:53:17.889          8\n",
       "14587      273     15  2019-02-11 09:45:54.189          5\n",
       "19047      102     20  2019-02-11 14:56:18.388         13\n",
       "19382       79     20  2019-02-11 15:27:22.300          5\n",
       "771        225     20  2019-02-10 18:44:43.728          0\n",
       "22222      122     15  2019-02-11 18:02:38.152          3\n",
       "12731       38     20  2019-02-11 08:12:42.093          8\n",
       "20315        9     25  2019-02-11 16:13:54.894         19"
      ]
     },
     "metadata": {},
     "output_type": "display_data"
    }
   ],
   "source": [
    "display(data.sample(10))"
   ]
  },
  {
   "cell_type": "code",
   "execution_count": 79,
   "id": "dd1ec212-02a7-44f1-9d24-c0b8cf51b889",
   "metadata": {},
   "outputs": [
    {
     "name": "stdout",
     "output_type": "stream",
     "text": [
      "<class 'pandas.core.frame.DataFrame'>\n",
      "RangeIndex: 27547 entries, 0 to 27546\n",
      "Data columns (total 4 columns):\n",
      " #   Column         Non-Null Count  Dtype \n",
      "---  ------         --------------  ----- \n",
      " 0   station        27547 non-null  int64 \n",
      " 1   total          27547 non-null  int64 \n",
      " 2   download_date  27547 non-null  object\n",
      " 3   available      27547 non-null  int64 \n",
      "dtypes: int64(3), object(1)\n",
      "memory usage: 861.0+ KB\n"
     ]
    },
    {
     "data": {
      "text/plain": [
       "None"
      ]
     },
     "metadata": {},
     "output_type": "display_data"
    }
   ],
   "source": [
    "display(data.info())"
   ]
  },
  {
   "cell_type": "code",
   "execution_count": 80,
   "id": "4f6c5a5c-af98-4d45-a535-fdd979fd4f6b",
   "metadata": {},
   "outputs": [
    {
     "data": {
      "text/html": [
       "<div>\n",
       "<style scoped>\n",
       "    .dataframe tbody tr th:only-of-type {\n",
       "        vertical-align: middle;\n",
       "    }\n",
       "\n",
       "    .dataframe tbody tr th {\n",
       "        vertical-align: top;\n",
       "    }\n",
       "\n",
       "    .dataframe thead th {\n",
       "        text-align: right;\n",
       "    }\n",
       "</style>\n",
       "<table border=\"1\" class=\"dataframe\">\n",
       "  <thead>\n",
       "    <tr style=\"text-align: right;\">\n",
       "      <th></th>\n",
       "      <th>station</th>\n",
       "      <th>total</th>\n",
       "      <th>download_date</th>\n",
       "      <th>available</th>\n",
       "    </tr>\n",
       "  </thead>\n",
       "  <tbody>\n",
       "    <tr>\n",
       "      <th>count</th>\n",
       "      <td>27547.000000</td>\n",
       "      <td>27547.000000</td>\n",
       "      <td>27547</td>\n",
       "      <td>27547.000000</td>\n",
       "    </tr>\n",
       "    <tr>\n",
       "      <th>unique</th>\n",
       "      <td>NaN</td>\n",
       "      <td>NaN</td>\n",
       "      <td>105</td>\n",
       "      <td>NaN</td>\n",
       "    </tr>\n",
       "    <tr>\n",
       "      <th>top</th>\n",
       "      <td>NaN</td>\n",
       "      <td>NaN</td>\n",
       "      <td>2019-02-11 09:14:47.430</td>\n",
       "      <td>NaN</td>\n",
       "    </tr>\n",
       "    <tr>\n",
       "      <th>freq</th>\n",
       "      <td>NaN</td>\n",
       "      <td>NaN</td>\n",
       "      <td>276</td>\n",
       "      <td>NaN</td>\n",
       "    </tr>\n",
       "    <tr>\n",
       "      <th>mean</th>\n",
       "      <td>138.449196</td>\n",
       "      <td>19.915381</td>\n",
       "      <td>NaN</td>\n",
       "      <td>8.974444</td>\n",
       "    </tr>\n",
       "    <tr>\n",
       "      <th>std</th>\n",
       "      <td>79.657747</td>\n",
       "      <td>5.570912</td>\n",
       "      <td>NaN</td>\n",
       "      <td>7.307137</td>\n",
       "    </tr>\n",
       "    <tr>\n",
       "      <th>min</th>\n",
       "      <td>1.000000</td>\n",
       "      <td>10.000000</td>\n",
       "      <td>NaN</td>\n",
       "      <td>0.000000</td>\n",
       "    </tr>\n",
       "    <tr>\n",
       "      <th>25%</th>\n",
       "      <td>69.000000</td>\n",
       "      <td>15.000000</td>\n",
       "      <td>NaN</td>\n",
       "      <td>3.000000</td>\n",
       "    </tr>\n",
       "    <tr>\n",
       "      <th>50%</th>\n",
       "      <td>139.000000</td>\n",
       "      <td>20.000000</td>\n",
       "      <td>NaN</td>\n",
       "      <td>8.000000</td>\n",
       "    </tr>\n",
       "    <tr>\n",
       "      <th>75%</th>\n",
       "      <td>207.000000</td>\n",
       "      <td>20.000000</td>\n",
       "      <td>NaN</td>\n",
       "      <td>14.000000</td>\n",
       "    </tr>\n",
       "    <tr>\n",
       "      <th>max</th>\n",
       "      <td>276.000000</td>\n",
       "      <td>40.000000</td>\n",
       "      <td>NaN</td>\n",
       "      <td>40.000000</td>\n",
       "    </tr>\n",
       "  </tbody>\n",
       "</table>\n",
       "</div>"
      ],
      "text/plain": [
       "             station         total            download_date     available\n",
       "count   27547.000000  27547.000000                    27547  27547.000000\n",
       "unique           NaN           NaN                      105           NaN\n",
       "top              NaN           NaN  2019-02-11 09:14:47.430           NaN\n",
       "freq             NaN           NaN                      276           NaN\n",
       "mean      138.449196     19.915381                      NaN      8.974444\n",
       "std        79.657747      5.570912                      NaN      7.307137\n",
       "min         1.000000     10.000000                      NaN      0.000000\n",
       "25%        69.000000     15.000000                      NaN      3.000000\n",
       "50%       139.000000     20.000000                      NaN      8.000000\n",
       "75%       207.000000     20.000000                      NaN     14.000000\n",
       "max       276.000000     40.000000                      NaN     40.000000"
      ]
     },
     "metadata": {},
     "output_type": "display_data"
    }
   ],
   "source": [
    "display(data.describe(include='all'))"
   ]
  },
  {
   "cell_type": "markdown",
   "id": "df9a353a",
   "metadata": {},
   "source": [
    "\n",
    "# Punto 02 \n",
    "\n",
    "#### Obtención del número de estaciones que tienen un total de 30 bornetas\n"
   ]
  },
  {
   "cell_type": "code",
   "execution_count": 81,
   "id": "08d9147b",
   "metadata": {},
   "outputs": [
    {
     "name": "stdout",
     "output_type": "stream",
     "text": [
      "Número de estaciones con 30 bornetas: 11\n"
     ]
    }
   ],
   "source": [
    "\n",
    "#Listado con mas de 30\n",
    "data_total_30=data[data['total']==30]\n",
    "\n",
    "#Estaciones unicas con 30 bornetas\n",
    "num_total_30=len(pd.unique(data_total_30['station']))\n",
    "\n",
    "print(f'Número de estaciones con 30 bornetas: { num_total_30}')\n",
    "\n"
   ]
  },
  {
   "cell_type": "markdown",
   "id": "2aaaa7c9",
   "metadata": {},
   "source": [
    "### Otra forma de hacerlo"
   ]
  },
  {
   "cell_type": "code",
   "execution_count": 22,
   "id": "921992bf",
   "metadata": {},
   "outputs": [
    {
     "name": "stdout",
     "output_type": "stream",
     "text": [
      "Número de estaciones con 30 bornetas forma 2: 11\n"
     ]
    }
   ],
   "source": [
    "#Otra forma de hacerlo\n",
    "\n",
    "#Agrupamos por estación\n",
    "data_group=data.groupby('station').max()\n",
    "\n",
    "#Contamos dentro de la agrupación\n",
    "num_total_30=len(data_group[data_group['total']==30])\n",
    "\n",
    "print(f'Número de estaciones con 30 bornetas forma 2: { num_total_30}')\n"
   ]
  },
  {
   "cell_type": "markdown",
   "id": "4c3aa9b7",
   "metadata": {},
   "source": [
    "# Punto 03 \n",
    "\n",
    "#### Número de estación con la media más alta de bicis disponibles\n"
   ]
  },
  {
   "cell_type": "code",
   "execution_count": 24,
   "id": "06b330d0",
   "metadata": {},
   "outputs": [
    {
     "name": "stdout",
     "output_type": "stream",
     "text": [
      "Estación con la media más alta: 50\n"
     ]
    }
   ],
   "source": [
    "#Se agrupan los datos por estación\n",
    "data_mean_by_station=data.groupby('station').mean()\n",
    "\n",
    "#Se asigna la estación con mayor media de bicicletas disponibles\n",
    "most_available_station=data_mean_by_station['available'].idxmax()\n",
    "\n",
    "print(f'Estación con la media más alta: {most_available_station}')\n",
    "\n"
   ]
  },
  {
   "cell_type": "markdown",
   "id": "c2d49f82",
   "metadata": {},
   "source": [
    "### Verificación"
   ]
  },
  {
   "cell_type": "code",
   "execution_count": 82,
   "id": "d77c2d68",
   "metadata": {},
   "outputs": [
    {
     "data": {
      "text/html": [
       "<div>\n",
       "<style scoped>\n",
       "    .dataframe tbody tr th:only-of-type {\n",
       "        vertical-align: middle;\n",
       "    }\n",
       "\n",
       "    .dataframe tbody tr th {\n",
       "        vertical-align: top;\n",
       "    }\n",
       "\n",
       "    .dataframe thead th {\n",
       "        text-align: right;\n",
       "    }\n",
       "</style>\n",
       "<table border=\"1\" class=\"dataframe\">\n",
       "  <thead>\n",
       "    <tr style=\"text-align: right;\">\n",
       "      <th></th>\n",
       "      <th>total</th>\n",
       "      <th>available</th>\n",
       "    </tr>\n",
       "    <tr>\n",
       "      <th>station</th>\n",
       "      <th></th>\n",
       "      <th></th>\n",
       "    </tr>\n",
       "  </thead>\n",
       "  <tbody>\n",
       "    <tr>\n",
       "      <th>50</th>\n",
       "      <td>40.0</td>\n",
       "      <td>31.260000</td>\n",
       "    </tr>\n",
       "    <tr>\n",
       "      <th>112</th>\n",
       "      <td>40.0</td>\n",
       "      <td>24.868687</td>\n",
       "    </tr>\n",
       "    <tr>\n",
       "      <th>93</th>\n",
       "      <td>38.0</td>\n",
       "      <td>23.767677</td>\n",
       "    </tr>\n",
       "    <tr>\n",
       "      <th>90</th>\n",
       "      <td>40.0</td>\n",
       "      <td>22.656566</td>\n",
       "    </tr>\n",
       "    <tr>\n",
       "      <th>53</th>\n",
       "      <td>25.0</td>\n",
       "      <td>22.151515</td>\n",
       "    </tr>\n",
       "    <tr>\n",
       "      <th>...</th>\n",
       "      <td>...</td>\n",
       "      <td>...</td>\n",
       "    </tr>\n",
       "    <tr>\n",
       "      <th>269</th>\n",
       "      <td>15.0</td>\n",
       "      <td>1.000000</td>\n",
       "    </tr>\n",
       "    <tr>\n",
       "      <th>240</th>\n",
       "      <td>20.0</td>\n",
       "      <td>0.990000</td>\n",
       "    </tr>\n",
       "    <tr>\n",
       "      <th>266</th>\n",
       "      <td>18.0</td>\n",
       "      <td>0.363636</td>\n",
       "    </tr>\n",
       "    <tr>\n",
       "      <th>270</th>\n",
       "      <td>16.0</td>\n",
       "      <td>0.340000</td>\n",
       "    </tr>\n",
       "    <tr>\n",
       "      <th>268</th>\n",
       "      <td>10.0</td>\n",
       "      <td>0.232323</td>\n",
       "    </tr>\n",
       "  </tbody>\n",
       "</table>\n",
       "<p>276 rows × 2 columns</p>\n",
       "</div>"
      ],
      "text/plain": [
       "         total  available\n",
       "station                  \n",
       "50        40.0  31.260000\n",
       "112       40.0  24.868687\n",
       "93        38.0  23.767677\n",
       "90        40.0  22.656566\n",
       "53        25.0  22.151515\n",
       "...        ...        ...\n",
       "269       15.0   1.000000\n",
       "240       20.0   0.990000\n",
       "266       18.0   0.363636\n",
       "270       16.0   0.340000\n",
       "268       10.0   0.232323\n",
       "\n",
       "[276 rows x 2 columns]"
      ]
     },
     "metadata": {},
     "output_type": "display_data"
    }
   ],
   "source": [
    "#Se ordena y se muestra  con el fin de verificar que se la misma estación\n",
    "display(data_mean_by_station.sort_values(by='available', ascending=False))"
   ]
  },
  {
   "cell_type": "markdown",
   "id": "def7ea08",
   "metadata": {},
   "source": [
    "# Punto 04 \n",
    "\n",
    "#### Realizar el histograma de bicis disponibles de la estación del punto anterior\n"
   ]
  },
  {
   "cell_type": "code",
   "execution_count": 83,
   "id": "9d6254c5",
   "metadata": {},
   "outputs": [
    {
     "data": {
      "text/html": [
       "<div>\n",
       "<style scoped>\n",
       "    .dataframe tbody tr th:only-of-type {\n",
       "        vertical-align: middle;\n",
       "    }\n",
       "\n",
       "    .dataframe tbody tr th {\n",
       "        vertical-align: top;\n",
       "    }\n",
       "\n",
       "    .dataframe thead th {\n",
       "        text-align: right;\n",
       "    }\n",
       "</style>\n",
       "<table border=\"1\" class=\"dataframe\">\n",
       "  <thead>\n",
       "    <tr style=\"text-align: right;\">\n",
       "      <th></th>\n",
       "      <th>station</th>\n",
       "      <th>total</th>\n",
       "      <th>download_date</th>\n",
       "      <th>available</th>\n",
       "    </tr>\n",
       "  </thead>\n",
       "  <tbody>\n",
       "    <tr>\n",
       "      <th>17435</th>\n",
       "      <td>50</td>\n",
       "      <td>40</td>\n",
       "      <td>2019-02-11 13:23:06.921</td>\n",
       "      <td>29</td>\n",
       "    </tr>\n",
       "    <tr>\n",
       "      <th>3937</th>\n",
       "      <td>50</td>\n",
       "      <td>40</td>\n",
       "      <td>2019-02-10 22:06:31.767</td>\n",
       "      <td>28</td>\n",
       "    </tr>\n",
       "    <tr>\n",
       "      <th>20268</th>\n",
       "      <td>50</td>\n",
       "      <td>40</td>\n",
       "      <td>2019-02-11 16:13:54.894</td>\n",
       "      <td>32</td>\n",
       "    </tr>\n",
       "    <tr>\n",
       "      <th>26791</th>\n",
       "      <td>50</td>\n",
       "      <td>40</td>\n",
       "      <td>2019-02-11 23:12:58.602</td>\n",
       "      <td>33</td>\n",
       "    </tr>\n",
       "    <tr>\n",
       "      <th>14122</th>\n",
       "      <td>50</td>\n",
       "      <td>40</td>\n",
       "      <td>2019-02-11 09:30:22.964</td>\n",
       "      <td>40</td>\n",
       "    </tr>\n",
       "    <tr>\n",
       "      <th>6975</th>\n",
       "      <td>50</td>\n",
       "      <td>40</td>\n",
       "      <td>2019-02-11 01:44:00.899</td>\n",
       "      <td>27</td>\n",
       "    </tr>\n",
       "    <tr>\n",
       "      <th>7251</th>\n",
       "      <td>50</td>\n",
       "      <td>40</td>\n",
       "      <td>2019-02-11 01:59:34.790</td>\n",
       "      <td>27</td>\n",
       "    </tr>\n",
       "    <tr>\n",
       "      <th>27067</th>\n",
       "      <td>50</td>\n",
       "      <td>40</td>\n",
       "      <td>2019-02-11 23:28:29.903</td>\n",
       "      <td>32</td>\n",
       "    </tr>\n",
       "    <tr>\n",
       "      <th>10258</th>\n",
       "      <td>50</td>\n",
       "      <td>40</td>\n",
       "      <td>2019-02-11 05:05:57.243</td>\n",
       "      <td>27</td>\n",
       "    </tr>\n",
       "    <tr>\n",
       "      <th>24684</th>\n",
       "      <td>50</td>\n",
       "      <td>40</td>\n",
       "      <td>2019-02-11 20:53:17.889</td>\n",
       "      <td>32</td>\n",
       "    </tr>\n",
       "  </tbody>\n",
       "</table>\n",
       "</div>"
      ],
      "text/plain": [
       "       station  total            download_date  available\n",
       "17435       50     40  2019-02-11 13:23:06.921         29\n",
       "3937        50     40  2019-02-10 22:06:31.767         28\n",
       "20268       50     40  2019-02-11 16:13:54.894         32\n",
       "26791       50     40  2019-02-11 23:12:58.602         33\n",
       "14122       50     40  2019-02-11 09:30:22.964         40\n",
       "6975        50     40  2019-02-11 01:44:00.899         27\n",
       "7251        50     40  2019-02-11 01:59:34.790         27\n",
       "27067       50     40  2019-02-11 23:28:29.903         32\n",
       "10258       50     40  2019-02-11 05:05:57.243         27\n",
       "24684       50     40  2019-02-11 20:53:17.889         32"
      ]
     },
     "metadata": {},
     "output_type": "display_data"
    }
   ],
   "source": [
    "#Se crea un Dataframe solo con la info de la estación con mas bicis disponibles\n",
    "data_only_most_available=data[data['station']==most_available_station].copy()\n",
    "\n",
    "display(data_only_most_available.sample(10))"
   ]
  },
  {
   "cell_type": "code",
   "execution_count": 67,
   "id": "4b0cc471",
   "metadata": {},
   "outputs": [
    {
     "data": {
      "image/png": "[encoded data removed]",
      "text/plain": [
       "<Figure size 1440x576 with 1 Axes>"
      ]
     },
     "metadata": {
      "needs_background": "light"
     },
     "output_type": "display_data"
    }
   ],
   "source": [
    "import matplotlib.pyplot as plt\n",
    "\n",
    "\n",
    "intervalos = range(min(data_only_most_available['available']), \n",
    "                    max(data_only_most_available['available']) + 2) \n",
    "\n",
    "plt.hist(x=data_only_most_available['available'],  \n",
    "        bins=intervalos,  \n",
    "        color='#6087b8',\n",
    "         label='Bicicletas disponibles',linewidth=1,alpha=0.8\n",
    "        , rwidth=0.85)\n",
    "\n",
    "plt.gcf().set_size_inches(20, 8)\n",
    "plt.title('Histograma de bicicletas disponibles' )\n",
    "plt.xlabel('Bicicletas Disponibles')\n",
    "plt.ylabel('Frecuencia')\n",
    "plt.show()\n"
   ]
  },
  {
   "cell_type": "markdown",
   "id": "ba3b79ee",
   "metadata": {},
   "source": [
    "### Con Seaborn"
   ]
  },
  {
   "cell_type": "code",
   "execution_count": 74,
   "id": "6917741f",
   "metadata": {},
   "outputs": [
    {
     "data": {
      "image/png": "[encoded data removed]",
      "text/plain": [
       "<Figure size 1440x576 with 1 Axes>"
      ]
     },
     "metadata": {
      "needs_background": "light"
     },
     "output_type": "display_data"
    }
   ],
   "source": [
    "import seaborn as sns\n",
    "\n",
    "sns.displot(data_only_most_available['available'],             \n",
    "            kde=True, \n",
    "            bins=intervalos, \n",
    "            rug=True)\n",
    "plt.gcf().set_size_inches(20, 8)\n",
    "plt.title('Histograma de bicicletas disponibles' )\n",
    "plt.xlabel('Bicicletas Disponibles')\n",
    "plt.ylabel('Frecuencia')\n",
    "plt.show()"
   ]
  },
  {
   "cell_type": "code",
   "execution_count": 49,
   "id": "d658d81a",
   "metadata": {},
   "outputs": [
    {
     "data": {
      "text/html": [
       "<div>\n",
       "<style scoped>\n",
       "    .dataframe tbody tr th:only-of-type {\n",
       "        vertical-align: middle;\n",
       "    }\n",
       "\n",
       "    .dataframe tbody tr th {\n",
       "        vertical-align: top;\n",
       "    }\n",
       "\n",
       "    .dataframe thead th {\n",
       "        text-align: right;\n",
       "    }\n",
       "</style>\n",
       "<table border=\"1\" class=\"dataframe\">\n",
       "  <thead>\n",
       "    <tr style=\"text-align: right;\">\n",
       "      <th></th>\n",
       "      <th>station</th>\n",
       "      <th>total</th>\n",
       "      <th>download_date</th>\n",
       "    </tr>\n",
       "    <tr>\n",
       "      <th>available</th>\n",
       "      <th></th>\n",
       "      <th></th>\n",
       "      <th></th>\n",
       "    </tr>\n",
       "  </thead>\n",
       "  <tbody>\n",
       "    <tr>\n",
       "      <th>27</th>\n",
       "      <td>21</td>\n",
       "      <td>21</td>\n",
       "      <td>21</td>\n",
       "    </tr>\n",
       "    <tr>\n",
       "      <th>33</th>\n",
       "      <td>18</td>\n",
       "      <td>18</td>\n",
       "      <td>18</td>\n",
       "    </tr>\n",
       "    <tr>\n",
       "      <th>32</th>\n",
       "      <td>14</td>\n",
       "      <td>14</td>\n",
       "      <td>14</td>\n",
       "    </tr>\n",
       "    <tr>\n",
       "      <th>28</th>\n",
       "      <td>12</td>\n",
       "      <td>12</td>\n",
       "      <td>12</td>\n",
       "    </tr>\n",
       "    <tr>\n",
       "      <th>34</th>\n",
       "      <td>9</td>\n",
       "      <td>9</td>\n",
       "      <td>9</td>\n",
       "    </tr>\n",
       "    <tr>\n",
       "      <th>31</th>\n",
       "      <td>5</td>\n",
       "      <td>5</td>\n",
       "      <td>5</td>\n",
       "    </tr>\n",
       "    <tr>\n",
       "      <th>29</th>\n",
       "      <td>4</td>\n",
       "      <td>4</td>\n",
       "      <td>4</td>\n",
       "    </tr>\n",
       "    <tr>\n",
       "      <th>40</th>\n",
       "      <td>4</td>\n",
       "      <td>4</td>\n",
       "      <td>4</td>\n",
       "    </tr>\n",
       "    <tr>\n",
       "      <th>36</th>\n",
       "      <td>3</td>\n",
       "      <td>3</td>\n",
       "      <td>3</td>\n",
       "    </tr>\n",
       "    <tr>\n",
       "      <th>39</th>\n",
       "      <td>3</td>\n",
       "      <td>3</td>\n",
       "      <td>3</td>\n",
       "    </tr>\n",
       "    <tr>\n",
       "      <th>26</th>\n",
       "      <td>2</td>\n",
       "      <td>2</td>\n",
       "      <td>2</td>\n",
       "    </tr>\n",
       "    <tr>\n",
       "      <th>30</th>\n",
       "      <td>2</td>\n",
       "      <td>2</td>\n",
       "      <td>2</td>\n",
       "    </tr>\n",
       "    <tr>\n",
       "      <th>35</th>\n",
       "      <td>2</td>\n",
       "      <td>2</td>\n",
       "      <td>2</td>\n",
       "    </tr>\n",
       "    <tr>\n",
       "      <th>37</th>\n",
       "      <td>1</td>\n",
       "      <td>1</td>\n",
       "      <td>1</td>\n",
       "    </tr>\n",
       "  </tbody>\n",
       "</table>\n",
       "</div>"
      ],
      "text/plain": [
       "           station  total  download_date\n",
       "available                               \n",
       "27              21     21             21\n",
       "33              18     18             18\n",
       "32              14     14             14\n",
       "28              12     12             12\n",
       "34               9      9              9\n",
       "31               5      5              5\n",
       "29               4      4              4\n",
       "40               4      4              4\n",
       "36               3      3              3\n",
       "39               3      3              3\n",
       "26               2      2              2\n",
       "30               2      2              2\n",
       "35               2      2              2\n",
       "37               1      1              1"
      ]
     },
     "execution_count": 49,
     "metadata": {},
     "output_type": "execute_result"
    }
   ],
   "source": [
    "#mostrar la informacón de forma tabular\n",
    "\n",
    "data_only_most_available.groupby(by='available').count().sort_values(by='station',ascending=False )"
   ]
  },
  {
   "cell_type": "markdown",
   "id": "1a672fc1",
   "metadata": {},
   "source": [
    "# Punto 05  \n",
    "#### Realizar gráfica con  la línea temporal de bicis disponibles de la estación del punto anterior. Pista, es necesario cambiar el índice a uno tipo fecha"
   ]
  },
  {
   "cell_type": "code",
   "execution_count": 92,
   "id": "0c2f599c",
   "metadata": {},
   "outputs": [
    {
     "data": {
      "image/png": "[encoded data removed]",
      "text/plain": [
       "<Figure size 1440x576 with 1 Axes>"
      ]
     },
     "metadata": {
      "needs_background": "light"
     },
     "output_type": "display_data"
    }
   ],
   "source": [
    "from datetime import datetime\n",
    "\n",
    "\n",
    "\n",
    "format='%Y-%m-%d %H:%M:%S.%f'\n",
    "data_only_most_available['download_date'] = pd.to_datetime(data_only_most_available['download_date'], format=format)\n",
    "\n",
    "#Esta sería otra forma más directa, \n",
    "# (personalmente prefiero especificar el formato para evitar problemas posteriores  cuando se hacen despliegues en ambientes productivos)\n",
    "#data_only_most_available['download_date'] = data_only_most_available['download_date'].astype('datetime64') #Otra forma\n",
    "\n",
    "#Se crea el gráfico\n",
    "plt.plot( data_only_most_available['download_date'], \n",
    "          data_only_most_available['available'], 'co--',\n",
    "         label='Bicicletas disponibles',linewidth=1,alpha=0.8)\n",
    "\n",
    "plt.legend(loc='best') \n",
    "plt.xlabel('Día')\n",
    "plt.title('Bicicletas disponibles en la estación 50')\n",
    "\n",
    "plt.xticks(rotation=90)\n",
    "plt.gcf().set_size_inches(20, 8)\n",
    "plt.grid()\n",
    "plt.show()"
   ]
  },
  {
   "cell_type": "markdown",
   "id": "61cac3a0",
   "metadata": {},
   "source": [
    "### Con Seaborn"
   ]
  },
  {
   "cell_type": "code",
   "execution_count": 94,
   "id": "7ad1a5ff",
   "metadata": {},
   "outputs": [
    {
     "name": "stderr",
     "output_type": "stream",
     "text": [
      "No handles with labels found to put in legend.\n"
     ]
    },
    {
     "data": {
      "image/png": "[encoded data removed]",
      "text/plain": [
       "<Figure size 1440x576 with 1 Axes>"
      ]
     },
     "metadata": {
      "needs_background": "light"
     },
     "output_type": "display_data"
    }
   ],
   "source": [
    "sns.lineplot(data = data_only_most_available,\n",
    "             x ='download_date',\n",
    "             y ='available',\n",
    "             markers=True,\n",
    "             dashes=False)\n",
    "\n",
    "plt.legend(loc='best') \n",
    "plt.xlabel('Día')\n",
    "plt.title('Bicicletas disponibles en la estación 50')\n",
    "\n",
    "plt.xticks(rotation=90)\n",
    "plt.gcf().set_size_inches(20, 8)\n",
    "plt.grid()\n",
    "plt.show()"
   ]
  }
 ],
 "metadata": {
  "kernelspec": {
   "display_name": "Python 3.9.7 ('base')",
   "language": "python",
   "name": "python3"
  },
  "language_info": {
   "codemirror_mode": {
    "name": "ipython",
    "version": 3
   },
   "file_extension": ".py",
   "mimetype": "text/x-python",
   "name": "python",
   "nbconvert_exporter": "python",
   "pygments_lexer": "ipython3",
   "version": "3.9.7"
  },
  "vscode": {
   "interpreter": {
    "hash": "9a65927f5967699fcd722c82a9c185cfa0040c4b95e3af20a6eefdab7483f21b"
   }
  }
 },
 "nbformat": 4,
 "nbformat_minor": 5
}
