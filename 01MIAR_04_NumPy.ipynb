{
 "cells": [
  {
   "cell_type": "markdown",
   "metadata": {
    "slideshow": {
     "slide_type": "slide"
    }
   },
   "source": [
    "\n",
    "<img src=\"img/viu_logo.png\" width=\"200\">\n",
    "\n",
    "## 01MIAR - NumPy\n",
    "\n",
    "![logo](img/python_logo.png)\n",
    "\n",
    "*Ivan Fuertes*"
   ]
  },
  {
   "cell_type": "markdown",
   "metadata": {
    "slideshow": {
     "slide_type": "subslide"
    }
   },
   "source": [
    "# Sumario\n",
    "- ndarray\n",
    "- creacion y modificacion de ndarrays\n",
    "- indexacion y slicing\n",
    "- estadistica descriptiva\n",
    "- filtrado de datos con where\n",
    "- algebra lineal\n",
    "- Valores aleatorios\n",
    "- Leer y escribir NumPy ndarrays"
   ]
  },
  {
   "cell_type": "markdown",
   "metadata": {
    "slideshow": {
     "slide_type": "slide"
    }
   },
   "source": [
    "# NumPy ndarray\n",
    "- NumPy (__Num__ erical __Py__ thon) es la de facto librería estándar para análisis numérico en Python\n",
    "- Estructura de datos multidimensional eficiente (escrita en C): ndarray\n",
    "- Colección de funciones para álgebra lineal, estadística descriptiva\n",
    "- Ayuda al procesamiento de datos (np.where)"
   ]
  },
  {
   "cell_type": "code",
   "execution_count": 2,
   "metadata": {},
   "outputs": [],
   "source": [
    "#importar libreria\n",
    "import numpy as np"
   ]
  },
  {
   "cell_type": "code",
   "execution_count": 3,
   "metadata": {
    "slideshow": {
     "slide_type": "fragment"
    }
   },
   "outputs": [
    {
     "name": "stdout",
     "output_type": "stream",
     "text": [
      "[['onions' 'carrots' 'celery']\n",
      " ['apples' 'oranges' 'grapes']]\n",
      "<class 'numpy.ndarray'>\n"
     ]
    }
   ],
   "source": [
    "shopping_list = [ ['onions','carrots','celery'], ['apples','oranges','grapes'] ] # 2D\n",
    "array = np.array(shopping_list) # convertir una lista en una ndarray\n",
    "print(array)\n",
    "print(type(array))"
   ]
  },
  {
   "cell_type": "markdown",
   "metadata": {
    "slideshow": {
     "slide_type": "subslide"
    }
   },
   "source": [
    "## Formas de crear ndarrays"
   ]
  },
  {
   "cell_type": "code",
   "execution_count": 4,
   "metadata": {
    "slideshow": {
     "slide_type": "fragment"
    }
   },
   "outputs": [
    {
     "name": "stdout",
     "output_type": "stream",
     "text": [
      "[100  10   1]\n",
      "[ 1  2  3  4  5  6  7  8  9 10 11 12 13 14 15 16 17 18 19]\n",
      "[2 4 6 8]\n"
     ]
    }
   ],
   "source": [
    "print(np.array([100,10,1])) # array a partir de una lista\n",
    "print(np.array(list(range(1,20))))\n",
    "print(np.arange(2,10,2))    # array a partir de una secuencia(range) 1D"
   ]
  },
  {
   "cell_type": "code",
   "execution_count": 6,
   "metadata": {
    "slideshow": {
     "slide_type": "fragment"
    }
   },
   "outputs": [
    {
     "name": "stdout",
     "output_type": "stream",
     "text": [
      "[0. 0. 0. 0. 0.]\n",
      "[[1. 1.]\n",
      " [1. 1.]]\n",
      "[[[0.00000000e+000 0.00000000e+000]\n",
      "  [0.00000000e+000 0.00000000e+000]]\n",
      "\n",
      " [[0.00000000e+000 7.37145944e-321]\n",
      "  [2.55896905e-307 2.44771196e-307]]]\n",
      "[[-3 -3]\n",
      " [-3 -3]\n",
      " [-3 -3]\n",
      " [-3 -3]\n",
      " [-3 -3]]\n",
      "[[1. 0. 0.]\n",
      " [0. 1. 0.]\n",
      " [0. 0. 1.]]\n"
     ]
    }
   ],
   "source": [
    "# Generar arrays con valores fijos\n",
    "print(np.zeros(5))       # 1D\n",
    "print(np.ones((2,2)))    # matrix 2x2\n",
    "print(np.empty((2,2,2))) # matrix 2x2x2, no inicializados\n",
    "print(np.full((5,2),-3)) # matrix 5x2\n",
    "print(np.eye(3))         # matrix identity"
   ]
  },
  {
   "cell_type": "markdown",
   "metadata": {
    "slideshow": {
     "slide_type": "subslide"
    }
   },
   "source": [
    "## Obtener información sobre ndarray"
   ]
  },
  {
   "cell_type": "code",
   "execution_count": 5,
   "metadata": {
    "scrolled": true,
    "slideshow": {
     "slide_type": "fragment"
    }
   },
   "outputs": [
    {
     "name": "stdout",
     "output_type": "stream",
     "text": [
      "[ 2 71  0 19 71]\n",
      "1\n",
      "2\n",
      "(array([0, 1, 3, 4], dtype=int64),)\n"
     ]
    }
   ],
   "source": [
    "my_ndarray = np.array([2,71,0,19,71])\n",
    "print(my_ndarray)\n",
    "\n",
    "print(my_ndarray.argmax())    # índice del valor más alto\n",
    "print(my_ndarray.argmin())    # índice del valor más bajo\n",
    "print(my_ndarray.nonzero())   # retorna los índices de los elementos distintos a 0"
   ]
  },
  {
   "cell_type": "code",
   "execution_count": null,
   "metadata": {},
   "outputs": [],
   "source": [
    "my_ndarray = np.full((5,2),-3) # matrix 5x2\n",
    "print(my_ndarray)\n",
    "\n",
    "print(my_ndarray.size)        # número de elementos\n",
    "print(my_ndarray.shape)       # dimensiones\n",
    "print(my_ndarray.ndim)        # número de dimensiones"
   ]
  },
  {
   "cell_type": "markdown",
   "metadata": {
    "slideshow": {
     "slide_type": "subslide"
    }
   },
   "source": [
    "#### Redimensionar los datos"
   ]
  },
  {
   "cell_type": "code",
   "execution_count": 6,
   "metadata": {
    "slideshow": {
     "slide_type": "fragment"
    }
   },
   "outputs": [
    {
     "name": "stdout",
     "output_type": "stream",
     "text": [
      "(1, 8)\n",
      "[[ 10  71]\n",
      " [ 21  19]\n",
      " [213 412]\n",
      " [111  98]]\n",
      "[[ 10  71  21  19]\n",
      " [213 412 111  98]]\n"
     ]
    }
   ],
   "source": [
    "my_ndarray = np.array([[10, 71, 21, 19, 213, 412, 111, 98]])  # matrix 1x8\n",
    "print(my_ndarray.shape)\n",
    "\n",
    "# cambiar las dimensiones a 4x2\n",
    "new_dims = my_ndarray.reshape(4, 2)\n",
    "print(new_dims)\n",
    "\n",
    "# cambiar las dimensiones a 2x4\n",
    "new_dims = my_ndarray.reshape(2, 4) # qué sucede si utilizamos otros valores?\n",
    "print(new_dims)"
   ]
  },
  {
   "cell_type": "code",
   "execution_count": 7,
   "metadata": {
    "slideshow": {
     "slide_type": "fragment"
    }
   },
   "outputs": [
    {
     "name": "stdout",
     "output_type": "stream",
     "text": [
      "[[ 0  1  2  3]\n",
      " [ 4  5  6  7]\n",
      " [ 8  9 10 11]\n",
      " [12 13 14 15]]\n",
      "[[ 0  4  8 12]\n",
      " [ 1  5  9 13]\n",
      " [ 2  6 10 14]\n",
      " [ 3  7 11 15]]\n"
     ]
    }
   ],
   "source": [
    "# Cambiar ejes\n",
    "new_dims = np.arange(16).reshape(4,4)\n",
    "\n",
    "print(new_dims)\n",
    "print(new_dims.swapaxes(0,1))"
   ]
  },
  {
   "cell_type": "code",
   "execution_count": 8,
   "metadata": {
    "slideshow": {
     "slide_type": "fragment"
    }
   },
   "outputs": [
    {
     "name": "stdout",
     "output_type": "stream",
     "text": [
      "[[0 1 2]\n",
      " [3 4 5]\n",
      " [6 7 8]]\n",
      "[0 1 2 3 4 5 6 7 8]\n"
     ]
    }
   ],
   "source": [
    "# reducir a 1D\n",
    "new_dims = np.arange(9).reshape(3,3)\n",
    "\n",
    "print(new_dims)\n",
    "print(new_dims.flatten())"
   ]
  },
  {
   "cell_type": "markdown",
   "metadata": {
    "slideshow": {
     "slide_type": "subslide"
    }
   },
   "source": [
    "## Manipulación de ndarrays"
   ]
  },
  {
   "cell_type": "code",
   "execution_count": 9,
   "metadata": {
    "slideshow": {
     "slide_type": "fragment"
    }
   },
   "outputs": [
    {
     "name": "stdout",
     "output_type": "stream",
     "text": [
      "[ 2  9 10 17]\n"
     ]
    }
   ],
   "source": [
    "# ordenar\n",
    "array1 = np.array([10,2,9,17])\n",
    "array1.sort()\n",
    "print(array1)"
   ]
  },
  {
   "cell_type": "code",
   "execution_count": 10,
   "metadata": {
    "slideshow": {
     "slide_type": "fragment"
    }
   },
   "outputs": [
    {
     "name": "stdout",
     "output_type": "stream",
     "text": [
      "[0 0 0 0 0 0 1 1 1 1 1 1]\n",
      "[[0 0 0 0 0 0]\n",
      " [1 1 1 1 1 1]]\n"
     ]
    }
   ],
   "source": [
    "# Juntar dos arrays\n",
    "a1 = [0,0,0,0,0,0]\n",
    "a2 = [1,1,1,1,1,1]\n",
    "print(np.hstack((a1,a2))) # una al lado de la otra\n",
    "print(np.vstack((a1,a2))) # una encima de la otra"
   ]
  },
  {
   "cell_type": "code",
   "execution_count": 11,
   "metadata": {
    "slideshow": {
     "slide_type": "fragment"
    }
   },
   "outputs": [
    {
     "name": "stdout",
     "output_type": "stream",
     "text": [
      "[[ 0  1  2  3]\n",
      " [ 4  5  6  7]\n",
      " [ 8  9 10 11]\n",
      " [12 13 14 15]]\n",
      "[array([[0, 1, 2, 3],\n",
      "       [4, 5, 6, 7]]), array([[ 8,  9, 10, 11],\n",
      "       [12, 13, 14, 15]])]\n",
      "[array([[0, 1, 2, 3],\n",
      "       [4, 5, 6, 7]]), array([[ 8,  9, 10, 11]]), array([[12, 13, 14, 15]])]\n"
     ]
    }
   ],
   "source": [
    "# dividir un array\n",
    "array = np.arange(16).reshape(4,4)\n",
    "\n",
    "print(array)\n",
    "print(np.array_split(array,2)) # divide array en 2 partes iguales\n",
    "print(np.array_split(array,3)) # divide array en 3 partes \"iguales\""
   ]
  },
  {
   "cell_type": "code",
   "execution_count": 14,
   "metadata": {},
   "outputs": [
    {
     "name": "stdout",
     "output_type": "stream",
     "text": [
      "[0 1 2 3 4 5 6 7]\n",
      "[ 8  9 10 11 12 13 14 15]\n"
     ]
    }
   ],
   "source": [
    "array = np.arange(16)\n",
    "x,y = np.array_split(array,2)\n",
    "\n",
    "print(x)\n",
    "print(y)"
   ]
  },
  {
   "cell_type": "code",
   "execution_count": 15,
   "metadata": {
    "scrolled": true,
    "slideshow": {
     "slide_type": "fragment"
    }
   },
   "outputs": [
    {
     "name": "stdout",
     "output_type": "stream",
     "text": [
      "[[ 0  1  2  3]\n",
      " [ 4  5  6  7]\n",
      " [ 8  9 10 11]\n",
      " [12 13 14 15]]\n",
      "[array([[ 0,  1,  2,  3],\n",
      "       [ 4,  5,  6,  7],\n",
      "       [ 8,  9, 10, 11]]), array([[12, 13, 14, 15]])]\n"
     ]
    }
   ],
   "source": [
    "# dividir un array\n",
    "array = np.arange(16).reshape(4,4)\n",
    "\n",
    "print(array)\n",
    "print(np.array_split(array,[3], axis = 0)) # divide array, por la fila 3"
   ]
  },
  {
   "cell_type": "code",
   "execution_count": 27,
   "metadata": {},
   "outputs": [
    {
     "name": "stdout",
     "output_type": "stream",
     "text": [
      "[[ 0  1  2  3]\n",
      " [ 4  5  6  7]\n",
      " [ 8  9 10 11]\n",
      " [12 13 14 15]]\n",
      "[]\n",
      "[[ 0  1  2  3]\n",
      " [ 4  5  6  7]\n",
      " [ 8  9 10 11]]\n",
      "[[12 13 14 15]]\n"
     ]
    }
   ],
   "source": [
    "array = np.arange(16).reshape(4,4)\n",
    "\n",
    "print(array)\n",
    "x,y,z=np.array_split(array,[0,3], axis = 0)\n",
    "print(x)\n",
    "print(y)\n",
    "print(z)"
   ]
  },
  {
   "cell_type": "code",
   "execution_count": 28,
   "metadata": {
    "slideshow": {
     "slide_type": "fragment"
    }
   },
   "outputs": [
    {
     "name": "stdout",
     "output_type": "stream",
     "text": [
      "[[ 0  1  2  3  4  5  6  7]\n",
      " [ 8  9 10 11 12 13 14 15]\n",
      " [16 17 18 19 20 21 22 23]\n",
      " [24 25 26 27 28 29 30 31]\n",
      " [32 33 34 35 36 37 38 39]\n",
      " [40 41 42 43 44 45 46 47]\n",
      " [48 49 50 51 52 53 54 55]\n",
      " [56 57 58 59 60 61 62 63]]\n",
      "[array([[0, 1, 2, 3, 4, 5, 6, 7]]), array([[ 8,  9, 10, 11, 12, 13, 14, 15],\n",
      "       [16, 17, 18, 19, 20, 21, 22, 23]]), array([[24, 25, 26, 27, 28, 29, 30, 31],\n",
      "       [32, 33, 34, 35, 36, 37, 38, 39],\n",
      "       [40, 41, 42, 43, 44, 45, 46, 47]]), array([[48, 49, 50, 51, 52, 53, 54, 55],\n",
      "       [56, 57, 58, 59, 60, 61, 62, 63]])]\n",
      "[array([[ 0],\n",
      "       [ 8],\n",
      "       [16],\n",
      "       [24],\n",
      "       [32],\n",
      "       [40],\n",
      "       [48],\n",
      "       [56]]), array([[ 1,  2],\n",
      "       [ 9, 10],\n",
      "       [17, 18],\n",
      "       [25, 26],\n",
      "       [33, 34],\n",
      "       [41, 42],\n",
      "       [49, 50],\n",
      "       [57, 58]]), array([[ 3,  4,  5,  6,  7],\n",
      "       [11, 12, 13, 14, 15],\n",
      "       [19, 20, 21, 22, 23],\n",
      "       [27, 28, 29, 30, 31],\n",
      "       [35, 36, 37, 38, 39],\n",
      "       [43, 44, 45, 46, 47],\n",
      "       [51, 52, 53, 54, 55],\n",
      "       [59, 60, 61, 62, 63]])]\n"
     ]
    }
   ],
   "source": [
    "array = np.arange(64).reshape(8,8)\n",
    "print(array)\n",
    "print(np.array_split(array, [1, 3, 6], axis = 0))  # divide array por la fila 1 y 3 y 6\n",
    "\n",
    "print(np.array_split(array, [1, 3], axis = 1))  # divide array por la columna 1 y 3\n",
    "# axis = n_dimensions - 1"
   ]
  },
  {
   "cell_type": "markdown",
   "metadata": {
    "slideshow": {
     "slide_type": "slide"
    }
   },
   "source": [
    "# Índices y slicing\n",
    "- De manera análoga a índices y slicing para listas"
   ]
  },
  {
   "cell_type": "code",
   "execution_count": 29,
   "metadata": {
    "slideshow": {
     "slide_type": "fragment"
    }
   },
   "outputs": [
    {
     "name": "stdout",
     "output_type": "stream",
     "text": [
      "[10 11 12 13 14 15]\n",
      "15\n",
      "[10 11 12 13 14]\n"
     ]
    }
   ],
   "source": [
    "array = np.arange(10, 16)\n",
    "print(array)\n",
    "print(array[-1])    # acceso unidimensional\n",
    "print(array[0:-1])  # slice"
   ]
  },
  {
   "cell_type": "code",
   "execution_count": 30,
   "metadata": {
    "slideshow": {
     "slide_type": "fragment"
    }
   },
   "outputs": [
    {
     "name": "stdout",
     "output_type": "stream",
     "text": [
      "[[ 0  1  2  3]\n",
      " [ 4  5  6  7]\n",
      " [ 8  9 10 11]\n",
      " [12 13 14 15]]\n",
      "1\n",
      "[[1 2]\n",
      " [5 6]]\n"
     ]
    }
   ],
   "source": [
    "# bidimensional\n",
    "array = np.arange(16).reshape(4,4)\n",
    "print(array)\n",
    "print(array[0, 1]) # fila, columna\n",
    "print(array[0:2, 1:3])"
   ]
  },
  {
   "cell_type": "code",
   "execution_count": 31,
   "metadata": {
    "slideshow": {
     "slide_type": "fragment"
    }
   },
   "outputs": [
    {
     "name": "stdout",
     "output_type": "stream",
     "text": [
      "[[[ 0  1  2  3  4  5]\n",
      "  [ 6  7  8  9 10 11]\n",
      "  [12 13 14 15 16 17]]\n",
      "\n",
      " [[18 19 20 21 22 23]\n",
      "  [24 25 26 27 28 29]\n",
      "  [30 31 32 33 34 35]]]\n",
      "34\n"
     ]
    }
   ],
   "source": [
    "# multidimensional\n",
    "array = np.arange(36).reshape(2,3,6)\n",
    "print(array)\n",
    "print(array[1, 2, 4])"
   ]
  },
  {
   "cell_type": "markdown",
   "metadata": {
    "slideshow": {
     "slide_type": "subslide"
    }
   },
   "source": [
    "#### NumPy es row major"
   ]
  },
  {
   "cell_type": "code",
   "execution_count": 32,
   "metadata": {
    "slideshow": {
     "slide_type": "fragment"
    }
   },
   "outputs": [
    {
     "name": "stdout",
     "output_type": "stream",
     "text": [
      "[[1 2 3]\n",
      " [4 5 6]]\n",
      "[[1 3 5]\n",
      " [2 4 6]]\n"
     ]
    }
   ],
   "source": [
    "row_major = np.array([1, 2, 3, 4, 5, 6])\n",
    "row_major = row_major.reshape(2,3,order='C')  # by default, row major\n",
    "print(row_major)\n",
    "\n",
    "col_major = np.array([1, 2, 3, 4, 5, 6])\n",
    "col_major = col_major.reshape(2,3,order='F')  # col major\n",
    "print(col_major)"
   ]
  },
  {
   "cell_type": "markdown",
   "metadata": {
    "slideshow": {
     "slide_type": "subslide"
    }
   },
   "source": [
    "#### Slice"
   ]
  },
  {
   "cell_type": "code",
   "execution_count": 33,
   "metadata": {
    "slideshow": {
     "slide_type": "fragment"
    }
   },
   "outputs": [
    {
     "name": "stdout",
     "output_type": "stream",
     "text": [
      "[[0 1 2]\n",
      " [3 4 5]\n",
      " [6 7 8]]\n",
      "[0 3 6]\n"
     ]
    }
   ],
   "source": [
    "# se puede hacer slice por fila o columna\n",
    "array = np.arange(9).reshape(3,3)\n",
    "print(array)\n",
    "print(array[:,0])"
   ]
  },
  {
   "cell_type": "code",
   "execution_count": 34,
   "metadata": {
    "slideshow": {
     "slide_type": "fragment"
    }
   },
   "outputs": [
    {
     "name": "stdout",
     "output_type": "stream",
     "text": [
      "[[0 1 2]\n",
      " [3 4 5]\n",
      " [6 7 8]]\n",
      "[0 1 2]\n"
     ]
    }
   ],
   "source": [
    "# se puede hacer slice por fila o columna\n",
    "array = np.arange(9).reshape(3,3)\n",
    "print(array)\n",
    "print(array[0,:])"
   ]
  },
  {
   "cell_type": "markdown",
   "metadata": {
    "slideshow": {
     "slide_type": "subslide"
    }
   },
   "source": [
    "#### Diferencias entre índices y slicing en listas y ndarrays:\n",
    "- ¡Retornan una referencia, no una copia!"
   ]
  },
  {
   "cell_type": "code",
   "execution_count": 35,
   "metadata": {
    "slideshow": {
     "slide_type": "fragment"
    }
   },
   "outputs": [
    {
     "name": "stdout",
     "output_type": "stream",
     "text": [
      "[0, 1, 2, 3, 4, 5, 6, 7, 8, 9]\n",
      "[222, 1]\n"
     ]
    }
   ],
   "source": [
    "# uso de slice en listas, retorna copia\n",
    "lista = [0,1,2,3,4,5,6,7,8,9]\n",
    "my_copy = lista[0:2]  # devuelve una copia\n",
    "my_copy[0] = 222\n",
    "print(lista)\n",
    "print(my_copy)"
   ]
  },
  {
   "cell_type": "code",
   "execution_count": 36,
   "metadata": {
    "slideshow": {
     "slide_type": "fragment"
    }
   },
   "outputs": [
    {
     "name": "stdout",
     "output_type": "stream",
     "text": [
      "[0 1 2 3 4 5 6 7 8 9]\n",
      "[2 3 4]\n",
      "[  0   1 222   3   4   5   6   7   8   9]\n",
      "[222   3   4]\n"
     ]
    }
   ],
   "source": [
    "# slicing retorna una referencia en ndarrays\n",
    "array = np.arange(10)\n",
    "my_copy = array[2:5]  # devuelve una referencia\n",
    "print(array)\n",
    "print(my_copy)\n",
    "\n",
    "my_copy[0] = 222\n",
    "print(array)\n",
    "print(my_copy)"
   ]
  },
  {
   "cell_type": "code",
   "execution_count": 37,
   "metadata": {
    "slideshow": {
     "slide_type": "fragment"
    }
   },
   "outputs": [
    {
     "name": "stdout",
     "output_type": "stream",
     "text": [
      "[0 1 2 3 4 5 6 7 8 9]\n",
      "[222   3   4]\n"
     ]
    }
   ],
   "source": [
    "# copiar ndarrays\n",
    "array = np.arange(10)\n",
    "my_copy = array[2:5].copy()  # hay que hacer la copia explicitamente\n",
    "my_copy[0] = 222\n",
    "print(array)\n",
    "print(my_copy)"
   ]
  },
  {
   "cell_type": "markdown",
   "metadata": {
    "slideshow": {
     "slide_type": "subslide"
    }
   },
   "source": [
    "- Permite asignar valores a un corte"
   ]
  },
  {
   "cell_type": "code",
   "execution_count": 38,
   "metadata": {
    "slideshow": {
     "slide_type": "fragment"
    }
   },
   "outputs": [
    {
     "name": "stdout",
     "output_type": "stream",
     "text": [
      "[[-1  1]\n",
      " [-1  3]\n",
      " [-1  5]\n",
      " [-1  7]\n",
      " [-1  9]]\n"
     ]
    }
   ],
   "source": [
    "array = np.arange(10).reshape(5,2)\n",
    "array[:, 0] = -1\n",
    "print(array)"
   ]
  },
  {
   "cell_type": "markdown",
   "metadata": {
    "slideshow": {
     "slide_type": "subslide"
    }
   },
   "source": [
    "- Slicing condicionales (mask)"
   ]
  },
  {
   "cell_type": "code",
   "execution_count": 39,
   "metadata": {
    "slideshow": {
     "slide_type": "fragment"
    }
   },
   "outputs": [
    {
     "name": "stdout",
     "output_type": "stream",
     "text": [
      "[-3 -2 -1  0  1  2  3]\n",
      "[ True  True  True False False False False]\n",
      "[-3 -2 -1]\n",
      "[0 0 0 0 1 2 3]\n"
     ]
    }
   ],
   "source": [
    "# slicing condicional\n",
    "array = np.arange(-3,4)\n",
    "print(array)\n",
    "\n",
    "mask = array < 0\n",
    "\n",
    "# mask = (array < 0) | (array > 0)\n",
    "print(mask)\n",
    "\n",
    "print(array[mask])\n",
    "\n",
    "array[mask] = 0\n",
    "print(array)"
   ]
  },
  {
   "cell_type": "code",
   "execution_count": 40,
   "metadata": {},
   "outputs": [
    {
     "name": "stdout",
     "output_type": "stream",
     "text": [
      "[-3 -2 -1  0  1  2  3]\n",
      "[False  True False  True False  True False]\n",
      "[-2  0  2]\n",
      "[-3 -2 -1  0  1  2  3]\n",
      "[-10   0   2]\n"
     ]
    }
   ],
   "source": [
    "# slicing condicional\n",
    "array = np.arange(-3,4)\n",
    "print(array)\n",
    "mask = array % 2 == 0\n",
    "print(mask)\n",
    "\n",
    "array_positive = array[mask]  # devuelve una copia\n",
    "print(array_positive)\n",
    "\n",
    "array_positive[0] = -10\n",
    "print(array)\n",
    "print(array_positive)"
   ]
  },
  {
   "cell_type": "code",
   "execution_count": 41,
   "metadata": {
    "slideshow": {
     "slide_type": "fragment"
    }
   },
   "outputs": [
    {
     "name": "stdout",
     "output_type": "stream",
     "text": [
      "[False  True False  True False  True False]\n",
      "[-3 -2 -1  0  1  2  3]\n",
      "[-2  0  2]\n",
      "[-3 10 -1 10  1 10  3]\n",
      "[-3  0 -1  0  1  0  3]\n"
     ]
    }
   ],
   "source": [
    "# slicing condicional\n",
    "array = np.arange(-3,4)\n",
    "mask = array % 2 == 0\n",
    "print(mask)\n",
    "print(array)\n",
    "print(array[mask])\n",
    "\n",
    "array[mask] = 10 # ??\n",
    "print(array)\n",
    "\n",
    "mask = array == 10\n",
    "array[mask] = 0 # ??\n",
    "print(array)"
   ]
  },
  {
   "cell_type": "markdown",
   "metadata": {
    "slideshow": {
     "slide_type": "slide"
    }
   },
   "source": [
    "# Funciones matemáticas\n",
    "- Aplicar operaciones entre escalares y arrays o entre arrays"
   ]
  },
  {
   "cell_type": "code",
   "execution_count": 42,
   "metadata": {
    "slideshow": {
     "slide_type": "fragment"
    }
   },
   "outputs": [
    {
     "name": "stdout",
     "output_type": "stream",
     "text": [
      "[0, 1, 2, 3, 0, 1, 2, 3]\n"
     ]
    }
   ],
   "source": [
    "# listas y escalares\n",
    "lista = [0,1,2,3]\n",
    "lista *= 2\n",
    "print(lista)"
   ]
  },
  {
   "cell_type": "code",
   "execution_count": 43,
   "metadata": {
    "slideshow": {
     "slide_type": "fragment"
    }
   },
   "outputs": [
    {
     "name": "stdout",
     "output_type": "stream",
     "text": [
      "[2. 2. 2. 2.]\n",
      "[12. 12. 12. 12.]\n"
     ]
    }
   ],
   "source": [
    "# ndarray hace las operaciones sobre los elementos\n",
    "array = np.ones(4) * 2\n",
    "print(array)\n",
    "\n",
    "array += 10\n",
    "print(array)"
   ]
  },
  {
   "cell_type": "code",
   "execution_count": 44,
   "metadata": {
    "slideshow": {
     "slide_type": "fragment"
    }
   },
   "outputs": [
    {
     "name": "stdout",
     "output_type": "stream",
     "text": [
      "[[ 1  2  3  4]\n",
      " [ 5  6  7  8]\n",
      " [ 9 10 11 12]\n",
      " [13 14 15 16]]\n",
      "[[ 2  3  4  5]\n",
      " [ 6  7  8  9]\n",
      " [10 11 12 13]\n",
      " [14 15 16 17]]\n",
      "[[ 3  5  7  9]\n",
      " [11 13 15 17]\n",
      " [19 21 23 25]\n",
      " [27 29 31 33]]\n",
      "[[-1 -1 -1 -1]\n",
      " [-1 -1 -1 -1]\n",
      " [-1 -1 -1 -1]\n",
      " [-1 -1 -1 -1]]\n",
      "[[  2   6  12  20]\n",
      " [ 30  42  56  72]\n",
      " [ 90 110 132 156]\n",
      " [182 210 240 272]]\n",
      "[[0.5        0.66666667 0.75       0.8       ]\n",
      " [0.83333333 0.85714286 0.875      0.88888889]\n",
      " [0.9        0.90909091 0.91666667 0.92307692]\n",
      " [0.92857143 0.93333333 0.9375     0.94117647]]\n"
     ]
    }
   ],
   "source": [
    "# operaciones entre arrays es como operaciones entre matrices\n",
    "array_1 = np.arange(1,17).reshape(4,4)\n",
    "array_2 = np.arange(2,18).reshape(4,4)\n",
    "\n",
    "print(array_1)\n",
    "print(array_2)\n",
    "\n",
    "print(array_1 + array_2)\n",
    "print(array_1 - array_2)\n",
    "print(array_1 * array_2)\n",
    "print(array_1 / array_2)"
   ]
  },
  {
   "cell_type": "markdown",
   "metadata": {
    "slideshow": {
     "slide_type": "fragment"
    }
   },
   "source": [
    "Si las arrays no tienen las mismas dimensiones --> [broadcasting](https://docs.scipy.org/doc/numpy-1.13.0/user/basics.broadcasting.html)\n",
    "- Restricciones"
   ]
  },
  {
   "cell_type": "markdown",
   "metadata": {
    "slideshow": {
     "slide_type": "subslide"
    }
   },
   "source": [
    "## Operadores unarios y binarios\n",
    "\n",
    "| Tipo | Operación | Descripción |\n",
    "|:---------|:-----|:-----|\n",
    "| Unario | *abs* | Valor absoluto de cada elemento |\n",
    "| | *sqrt* | Raíz cuadrada de cada elemento |\n",
    "| | *exp* | e^x, siendo x cad elemento |\n",
    "| | *log, log10, log2* | Logaritmos en distintas bases de cada elemento |\n",
    "| | *sign* | Retorna el signo de cada elemento (-1 para negativo, 0 o 1 para positivo) |\n",
    "| | *ceil* | Redondea cada elemento por arriba |\n",
    "| | *floor* | Redondea cada elemento por abajo |\n",
    "| | *isnan* | Retorna si cada elemento es Nan |\n",
    "| | *cos, sin, tan* | Operaciones trigonométricas en cada elemento |\n",
    "| | *arccos, arcsin, arctan* | Inversas de operaciones trigonométricas en cada elemento |\n",
    "| Binario | *add* | Suma de dos arrays |\n",
    "| | *substract* | Resta de dos arrays |\n",
    "| | *multiply* | Multiplicación de dos arrays |\n",
    "| | *divide* | División de dos arrays |\n",
    "| | *maximum, minimum* | Retorna el valor máximo/mínimo de cada pareja de elementos |\n",
    "| | *equal, not_equal* | Retorna la comparación (igual o no igual) de cada pareja de elementos |\n",
    "| | *greater, greater_equal, less, less_equal* | Retorna la comparación (>, >=, <, <= respectivamente) de cada pareja de elementos |"
   ]
  },
  {
   "cell_type": "code",
   "execution_count": 45,
   "metadata": {
    "slideshow": {
     "slide_type": "subslide"
    }
   },
   "outputs": [
    {
     "data": {
      "text/plain": [
       "array([0.        , 1.        , 1.41421356, 1.73205081, 2.        ])"
      ]
     },
     "execution_count": 45,
     "metadata": {},
     "output_type": "execute_result"
    }
   ],
   "source": [
    "# ejemplos de operadores\n",
    "array = np.arange(5)\n",
    "np.sqrt(array)"
   ]
  },
  {
   "cell_type": "code",
   "execution_count": 69,
   "metadata": {
    "slideshow": {
     "slide_type": "fragment"
    }
   },
   "outputs": [
    {
     "name": "stdout",
     "output_type": "stream",
     "text": [
      "[ True  True False  True]\n",
      "[1. 1. 1.]\n"
     ]
    }
   ],
   "source": [
    "# ejemplos de operadores\n",
    "array1 = np.ones(4)\n",
    "array2 = np.array([0,-1,2,-3])\n",
    "\n",
    "\n",
    "mask=np.greater(array1,array2)\n",
    "print(mask)\n",
    "print(array1[mask])\n",
    "\n"
   ]
  },
  {
   "cell_type": "markdown",
   "metadata": {
    "slideshow": {
     "slide_type": "slide"
    }
   },
   "source": [
    "# Estadística descriptiva\n",
    "- Importante saber la naturaleza de los datos\n",
    "- Valores máximos, mínimos, distribución, etc.\n",
    "\n",
    "| Función | Descripción |\n",
    "|:---------|:-----|\n",
    "| *sum(arr)* | Suma de todos los elementos de *arr* |\n",
    "| *mean(arr)* | Media aritmética de los elementos de *arr* |\n",
    "| *std(arr)* | Desviación estándar de los elementos de *arr* |\n",
    "| *cumsum(arr)* | Devuelve array con la suma acumulada de cada elementos con todos los anteriores |\n",
    "| *cumprod(arr)* | Devuelve array con el producto acumulado de cada elementos con todos los anteriores |\n",
    "| *min(arr), max(arr)* | Mínimo y máximo de *arr* |\n",
    "| *any(arr)* | En array de tipo *bool*, retorna *True* si algún elemento es *True* |\n",
    "| *all(arr)* | En array de tipo *bool*, retorna *True* si todos los elementos son *True* (o >0 en valores numéricos) |\n",
    "| *unique(arr)* | Devuelve un array con valores únicos |\n",
    "| *in1d(arr1, arr2)* | Devuelve un array con bool indicando si cada elemento de *arr1* está en *arr2* |\n",
    "| *union1d(arr1, arr2)* | Devuelve la unión de ambos arrays |\n",
    "| *intersect1d(arr1, arr2)* | Devuelve la intersección de ambos arrays |"
   ]
  },
  {
   "cell_type": "code",
   "execution_count": null,
   "metadata": {
    "slideshow": {
     "slide_type": "subslide"
    }
   },
   "outputs": [],
   "source": [
    "# sum != cumsum\n",
    "array1 = np.arange(9)\n",
    "print(array1)\n",
    "print(array1.sum())\n",
    "print(array1.cumsum())"
   ]
  },
  {
   "cell_type": "code",
   "execution_count": null,
   "metadata": {
    "slideshow": {
     "slide_type": "fragment"
    }
   },
   "outputs": [],
   "source": [
    "# any vs all\n",
    "array1 = np.arange(10).reshape(2,5)\n",
    "print(array1)\n",
    "print(array1.any()) # any para saber si hay elementos True o valores > 0\n",
    "print(array1.all()) # all para saber si TODOS los elementos son True o valores > 0"
   ]
  },
  {
   "cell_type": "code",
   "execution_count": null,
   "metadata": {
    "slideshow": {
     "slide_type": "fragment"
    }
   },
   "outputs": [],
   "source": [
    "# todas las funciones aceptan parametro 'axis' \n",
    "# 0 para columnas, 1 para filas, 2 para profundidad...\n",
    "array1 = np.arange(10).reshape(2,5)\n",
    "print(array1)\n",
    "print(array1.all(axis=0))\n",
    "print(array1.all(axis=1))\n",
    "print(array1.all())"
   ]
  },
  {
   "cell_type": "markdown",
   "metadata": {
    "slideshow": {
     "slide_type": "slide"
    }
   },
   "source": [
    "# Álgebra lineal\n",
    "- numpy.linalg contiene funciones para álgebra lineal\n",
    "- dot product, multiplicación de matrices, cálculo del determinante, factorizaciones..."
   ]
  },
  {
   "cell_type": "markdown",
   "metadata": {
    "slideshow": {
     "slide_type": "fragment"
    }
   },
   "source": [
    "\n",
    "| Función | Descripción |\n",
    "|:---------|:-----|\n",
    "| *dot(mat1, mat2)* | Devuelve el producto escalar entre dos arrays. Si son matrices 2D, es equivalente a la multiplicación de ambas |\n",
    "| *matmul(mat1, mat2)* | Devuelve el producto entre dos matrices |\n",
    "| *trace(mat1, mat2)* | Suma de las diagonales de ambas matrices |\n",
    "| *det(mat)* | Devuelve el determinante de la matriz |\n",
    "| *eig(mat)* | Computa los autovalores y autovectores de la matriz cuadrada *mat* |\n",
    "| *inv(mat)* | Devuelve la inversa de la matriz |\n",
    "| *qr(mat)* | Computa la factorización QR de *mat* |\n",
    "| *solve(A, b)* | Resuelve el sistema lineal de ecuaciones *Ax = b* para *b*, cuando *A* es una matriz cuadrada |"
   ]
  },
  {
   "cell_type": "code",
   "execution_count": 63,
   "metadata": {},
   "outputs": [
    {
     "name": "stdout",
     "output_type": "stream",
     "text": [
      "[[2. 2. 2.]\n",
      " [2. 2. 2.]\n",
      " [2. 2. 2.]]\n",
      "[[1. 0. 0.]\n",
      " [0. 1. 0.]\n",
      " [0. 0. 1.]]\n",
      "[[2. 2. 2.]\n",
      " [2. 2. 2.]\n",
      " [2. 2. 2.]]\n",
      "[[2. 2. 2.]\n",
      " [2. 2. 2.]\n",
      " [2. 2. 2.]]\n"
     ]
    }
   ],
   "source": [
    "A=np.ones(9).reshape(3,3)\n",
    "A=A+1\n",
    "B=np.identity(3)\n",
    "\n",
    "print(A)\n",
    "print(B)\n",
    "\n",
    "c=np.dot(A,B)\n",
    "print(c)\n",
    "\n",
    "d=np.matmul(A,B)\n",
    "print(d)"
   ]
  },
  {
   "cell_type": "code",
   "execution_count": 64,
   "metadata": {
    "slideshow": {
     "slide_type": "subslide"
    }
   },
   "outputs": [
    {
     "name": "stdout",
     "output_type": "stream",
     "text": [
      "[[ 15  18  21]\n",
      " [ 42  54  66]\n",
      " [ 69  90 111]\n",
      " [ 96 126 156]]\n",
      "[[ 15  18  21]\n",
      " [ 42  54  66]\n",
      " [ 69  90 111]\n",
      " [ 96 126 156]]\n",
      "[[ 15  18  21]\n",
      " [ 42  54  66]\n",
      " [ 69  90 111]\n",
      " [ 96 126 156]]\n"
     ]
    }
   ],
   "source": [
    "A = np.arange(12).reshape(4,3)\n",
    "B = np.arange(9).reshape(3,3)\n",
    "\n",
    "print(np.matmul(A,B))\n",
    "print(np.dot(A, B))\n",
    "print(A @ B)"
   ]
  },
  {
   "cell_type": "code",
   "execution_count": 65,
   "metadata": {
    "slideshow": {
     "slide_type": "fragment"
    }
   },
   "outputs": [
    {
     "name": "stdout",
     "output_type": "stream",
     "text": [
      "x=3.6363636363636367, y=0.5454545454545454\n"
     ]
    }
   ],
   "source": [
    "# resolver sistema de ecuaciones\n",
    "# 3x + 2y = 12\n",
    "# x - 3y = 2\n",
    "# Ax = b --> resolver para x\n",
    "\n",
    "a = np.array([ [3,2],[1,-3] ])\n",
    "b  = np.array([12,2])\n",
    "x,y = np.linalg.solve(a,b)\n",
    "print('x=' + str(x) + ', y=' + str(y))"
   ]
  },
  {
   "cell_type": "code",
   "execution_count": null,
   "metadata": {},
   "outputs": [],
   "source": [
    "#matriz identidad\n",
    "np.identity(4)"
   ]
  },
  {
   "cell_type": "markdown",
   "metadata": {
    "slideshow": {
     "slide_type": "slide"
    }
   },
   "source": [
    "# Filtrado de datos\n",
    "- Filtrar y modificar datos numéricos con np.where\n",
    "- Retorna A o B en función de una condición en una array"
   ]
  },
  {
   "cell_type": "code",
   "execution_count": 66,
   "metadata": {
    "slideshow": {
     "slide_type": "fragment"
    }
   },
   "outputs": [
    {
     "name": "stdout",
     "output_type": "stream",
     "text": [
      "[ True False False False  True]\n",
      "[0.99 0.49]\n",
      "[ 1.   14.49 19.99 20.99  1.  ]\n"
     ]
    }
   ],
   "source": [
    "prices = np.array([0.99, 14.49, 19.99, 20.99, 0.49])\n",
    "# mask con los elementos menores de 1\n",
    "\n",
    "mask = np.where(prices < 1, True, False)\n",
    "print(mask)\n",
    "print(prices[mask])\n",
    "\n",
    "print(np.where(prices < 1, 1.0, prices))"
   ]
  },
  {
   "cell_type": "code",
   "execution_count": 70,
   "metadata": {
    "slideshow": {
     "slide_type": "subslide"
    }
   },
   "outputs": [
    {
     "name": "stdout",
     "output_type": "stream",
     "text": [
      "[[ 0.99  0.   19.99]\n",
      " [20.99  0.   12.1 ]]\n"
     ]
    }
   ],
   "source": [
    "# Se puede usar para sustituir datos fuera de rango\n",
    "bank_transfers_values = np.array([0.99, -1.49, 19.99, 20.99, -0.49, 12.1]).reshape(2, 3)\n",
    "\n",
    "clean_data = np.where(bank_transfers_values > 0, bank_transfers_values, 0)\n",
    "print(clean_data)"
   ]
  },
  {
   "cell_type": "code",
   "execution_count": 71,
   "metadata": {
    "slideshow": {
     "slide_type": "fragment"
    }
   },
   "outputs": [
    {
     "name": "stdout",
     "output_type": "stream",
     "text": [
      "[  10.   12. -143.    0.    1.   -3.]\n"
     ]
    }
   ],
   "source": [
    "# limpiar NaN (sustitución)\n",
    "data = [10, 12, -143, np.nan, 1, -3] # np.nan --> NotANumber, elemento especial\n",
    "data_clean = np.where(np.isnan(data),0,data)\n",
    "print(data_clean)"
   ]
  },
  {
   "cell_type": "code",
   "execution_count": 72,
   "metadata": {
    "slideshow": {
     "slide_type": "fragment"
    }
   },
   "outputs": [
    {
     "name": "stdout",
     "output_type": "stream",
     "text": [
      "[[ 0.99 -1.49]\n",
      " [19.99 20.99]\n",
      " [-0.49 12.1 ]]\n",
      "(array([0, 1, 1, 2], dtype=int64), array([0, 0, 1, 1], dtype=int64))\n",
      "[ 0.99 19.99 20.99 12.1 ]\n"
     ]
    }
   ],
   "source": [
    "# np.where puede seleccionar elementos\n",
    "bank_transfers_values = np.array([0.99, -1.49, 19.99, 20.99, -0.49, 12.1]).reshape(3, 2)\n",
    "credits = np.where(bank_transfers_values > 0) # array de índices para los que la condición es True\n",
    "\n",
    "print(bank_transfers_values)\n",
    "print(credits)\n",
    "print(bank_transfers_values[credits]) # es igual que bank_transfers_values[bank_transfers_values > 0]"
   ]
  },
  {
   "cell_type": "code",
   "execution_count": 73,
   "metadata": {
    "slideshow": {
     "slide_type": "fragment"
    }
   },
   "outputs": [
    {
     "name": "stdout",
     "output_type": "stream",
     "text": [
      "[0 1 2 3 4 5]\n",
      "[ 0 10 20 30 40 50]\n",
      "[0 0 1 6 0 2]\n",
      "[ 0  1  2 30  4 50]\n"
     ]
    }
   ],
   "source": [
    "# valor de array dependiendo del valor en array referencia\n",
    "rewards_default = np.arange(6)\n",
    "rewards_upgrade = np.arange(6) * 10\n",
    "daily_points = np.array([0, 0, 1, 6, 0, 2])\n",
    "\n",
    "print(rewards_default)\n",
    "print(rewards_upgrade)\n",
    "print(daily_points)\n",
    "\n",
    "final_rewards = np.where(daily_points > 1, rewards_upgrade, rewards_default)\n",
    "print(final_rewards)"
   ]
  },
  {
   "cell_type": "markdown",
   "metadata": {
    "slideshow": {
     "slide_type": "slide"
    }
   },
   "source": [
    "# Números aleatorios\n",
    "- Python módulo random"
   ]
  },
  {
   "cell_type": "code",
   "execution_count": 74,
   "metadata": {
    "slideshow": {
     "slide_type": "fragment"
    }
   },
   "outputs": [
    {
     "name": "stdout",
     "output_type": "stream",
     "text": [
      "0.2143140206118903\n",
      "2\n",
      "0.6550208717764344\n"
     ]
    }
   ],
   "source": [
    "import random\n",
    "\n",
    "print(random.random()) # número entre 0 y 1\n",
    "print(random.randint(0,5)) # integral entre dos valores\n",
    "print(random.uniform(0,5)) # real entre dos valores"
   ]
  },
  {
   "cell_type": "code",
   "execution_count": 75,
   "metadata": {
    "slideshow": {
     "slide_type": "fragment"
    }
   },
   "outputs": [
    {
     "data": {
      "text/plain": [
       "'Anna'"
      ]
     },
     "execution_count": 75,
     "metadata": {},
     "output_type": "execute_result"
    }
   ],
   "source": [
    "# elegir un elemento al azar dentro de una colección\n",
    "names = ['Marta','Anna','Vanesa']\n",
    "random.choice(names)"
   ]
  },
  {
   "cell_type": "markdown",
   "metadata": {
    "slideshow": {
     "slide_type": "subslide"
    }
   },
   "source": [
    "## NumPy.random\n",
    "- Generar fácilmente listas con valores aleatorios"
   ]
  },
  {
   "cell_type": "code",
   "execution_count": 76,
   "metadata": {
    "slideshow": {
     "slide_type": "fragment"
    }
   },
   "outputs": [
    {
     "name": "stdout",
     "output_type": "stream",
     "text": [
      "0.6266736633722606\n",
      "3\n",
      "[[0 0 4 2]\n",
      " [1 2 0 1]]\n"
     ]
    }
   ],
   "source": [
    "print(np.random.rand()) # número entre 0 y 1\n",
    "print(np.random.randint(0,5)) # integral entre dos valores \n",
    "print(np.random.randint(5, size=(2, 4))) # parametro 'size' para indicar las dimensiones)"
   ]
  },
  {
   "cell_type": "code",
   "execution_count": null,
   "metadata": {
    "slideshow": {
     "slide_type": "fragment"
    }
   },
   "outputs": [],
   "source": [
    "# array de elementos aleatorios (distribucion normal gaussiana, media 0, desviación 1)\n",
    "print(np.random.randn(4,2))"
   ]
  },
  {
   "cell_type": "code",
   "execution_count": null,
   "metadata": {
    "slideshow": {
     "slide_type": "fragment"
    }
   },
   "outputs": [],
   "source": [
    "# otras distribuciones\n",
    "print(np.random.binomial(n=5, p=0.3)) # 'n' intentos, 'p' probabilidad\n",
    "print(np.random.uniform(low=0, high=10)) # distribución uniforme\n",
    "print(np.random.poisson(lam=2, size=(2,2))) # 'lam' número de ocurrencias esperadas, retornar 'size' valores"
   ]
  },
  {
   "cell_type": "markdown",
   "metadata": {
    "slideshow": {
     "slide_type": "subslide"
    }
   },
   "source": [
    "## Random seed\n",
    "- Números pseudo-aleatorios\n",
    "- Ordenadores generan números a partir de ecuaciones\n",
    "- Basadas en un número inicial (seed)\n",
    "- Bueno para reproducibilidad de experimentos"
   ]
  },
  {
   "cell_type": "code",
   "execution_count": 83,
   "metadata": {
    "slideshow": {
     "slide_type": "fragment"
    }
   },
   "outputs": [
    {
     "name": "stdout",
     "output_type": "stream",
     "text": [
      "0.22199317108973948\n",
      "0.22199317108973948\n",
      "0.22199317108973948\n",
      "0.22199317108973948\n",
      "0.22199317108973948\n",
      "\n",
      "0.5488135039273248\n",
      "0.417022004702574\n",
      "0.43599490214200376\n",
      "0.5507979025745755\n",
      "0.9670298390136767\n"
     ]
    }
   ],
   "source": [
    "i = 5\n",
    "for _ in range(5):  \n",
    "    np.random.seed(i) # misma semilla\n",
    "    print(np.random.rand())\n",
    "\n",
    "print()    \n",
    "    \n",
    "for i in range(5):\n",
    "    np.random.seed(i) # diferentes semillas\n",
    "    print(np.random.rand())"
   ]
  },
  {
   "cell_type": "markdown",
   "metadata": {
    "slideshow": {
     "slide_type": "slide"
    }
   },
   "source": [
    "# Escritura y lectura de ndarrays a archivos \n",
    "- Para futuro acceso\n",
    "- Compartir datos con otros\n",
    "- Formato *.npy"
   ]
  },
  {
   "cell_type": "code",
   "execution_count": null,
   "metadata": {
    "slideshow": {
     "slide_type": "fragment"
    }
   },
   "outputs": [],
   "source": [
    "# escribir a archivo\n",
    "import os\n",
    "ruta = os.path.join(\"res\" ,\"o_values_array.npy\")\n",
    "values = np.random.randint(9, size=(3,3))\n",
    "\n",
    "np.save(ruta, values)\n",
    "print(values)"
   ]
  },
  {
   "cell_type": "code",
   "execution_count": null,
   "metadata": {
    "slideshow": {
     "slide_type": "fragment"
    }
   },
   "outputs": [],
   "source": [
    "# leer de archivo\n",
    "old_values = np.load(ruta)\n",
    "print(old_values)"
   ]
  },
  {
   "cell_type": "code",
   "execution_count": null,
   "metadata": {
    "slideshow": {
     "slide_type": "subslide"
    }
   },
   "outputs": [],
   "source": [
    "# escribir y cargar múltiples arrays\n",
    "ruta = os.path.join(\"res\" ,\"o_array_group.npz\")\n",
    "values1 = np.random.randint(9,size=(3,3))\n",
    "values2 = np.random.randint(4,size=(2,2))\n",
    "values3 = np.random.randint(16,size=(4,4))\n",
    "np.savez(ruta,values1,values2,values3) # añade la extensión .npz   "
   ]
  },
  {
   "cell_type": "code",
   "execution_count": null,
   "metadata": {
    "slideshow": {
     "slide_type": "fragment"
    }
   },
   "outputs": [],
   "source": [
    "# leer los archivos (retorna un lista con las arrays)\n",
    "npzfile = np.load(ruta)\n",
    "print(type(npzfile.files))\n",
    "\n",
    "for key in npzfile.files: # array.files contiene el nombre de las arrays (arr_0, arr_1...)\n",
    "     print(npzfile[key])"
   ]
  },
  {
   "cell_type": "markdown",
   "metadata": {
    "slideshow": {
     "slide_type": "subslide"
    }
   },
   "source": [
    "### ¿Por qué molestarse con .npy?\n",
    "- Bases de datos suelen estar en CSV o txt, que requieren lectura con streams (parsing)\n",
    "- ¿Para qué escribir los datos de nuevo?"
   ]
  },
  {
   "cell_type": "code",
   "execution_count": null,
   "metadata": {},
   "outputs": [],
   "source": [
    "ruta_csv = os.path.join(\"res\" ,\"fdata.csv\")\n",
    "with open(ruta_csv,'r') as f:\n",
    "    data_str = f.read()\n",
    "data = data_str.split(',')\n",
    "data_array = np.array(data, dtype = np.int8).reshape(1000,1000)\n",
    "print(data_array)\n",
    "\n",
    "ruta_npy = os.path.join(\"res\" ,\"o_fdata.npy\")\n",
    "np.save(ruta_npy, data_array)"
   ]
  },
  {
   "cell_type": "code",
   "execution_count": null,
   "metadata": {
    "slideshow": {
     "slide_type": "fragment"
    }
   },
   "outputs": [],
   "source": [
    "%%timeit # magic function jupyter\n",
    "with open(ruta_csv,'r') as f:\n",
    "    data_str = f.read()\n",
    "data = data_str.split(',')\n",
    "data_array = np.array(data,  dtype = np.int8).reshape(1000,1000)"
   ]
  },
  {
   "cell_type": "code",
   "execution_count": null,
   "metadata": {
    "slideshow": {
     "slide_type": "fragment"
    }
   },
   "outputs": [],
   "source": [
    "%%timeit\n",
    "data = np.load(ruta_npy)"
   ]
  },
  {
   "cell_type": "markdown",
   "metadata": {
    "slideshow": {
     "slide_type": "slide"
    }
   },
   "source": [
    "# Ejercicios\n",
    "- Ejercicios para practicar NumPy: https://github.com/rougier/numpy-100/blob/master/100_Numpy_exercises.ipynb\n",
    "- Con pistas: https://github.com/rougier/numpy-100/blob/master/100_Numpy_exercises_with_hints.md\n",
    "- Soluciones en: https://github.com/rougier/numpy-100/blob/master/100_Numpy_exercises_with_solutions.md"
   ]
  },
  {
   "cell_type": "markdown",
   "metadata": {
    "slideshow": {
     "slide_type": "fragment"
    }
   },
   "source": [
    "### velocidad + simplicidad vs memoria"
   ]
  },
  {
   "cell_type": "markdown",
   "metadata": {
    "slideshow": {
     "slide_type": "fragment"
    }
   },
   "source": [
    "- __No mires las soluciones desde el principio__. Intenta resolverlos por tu cuenta\n",
    "- No hemos dado todo ¡Investiga!\n",
    "- Comentar resultados en el foro"
   ]
  },
  {
   "cell_type": "markdown",
   "metadata": {},
   "source": [
    "1. Import the numpy package under the name np (★☆☆)\n"
   ]
  },
  {
   "cell_type": "code",
   "execution_count": 84,
   "metadata": {},
   "outputs": [],
   "source": [
    "import numpy as np"
   ]
  },
  {
   "cell_type": "markdown",
   "metadata": {},
   "source": [
    "2. Print the numpy version and the configuration (★☆☆)\n",
    "\n",
    "\n",
    "\n"
   ]
  },
  {
   "cell_type": "code",
   "execution_count": 87,
   "metadata": {},
   "outputs": [
    {
     "name": "stdout",
     "output_type": "stream",
     "text": [
      "<module 'numpy.version' from 'c:\\\\Users\\\\acasa\\\\anaconda3\\\\lib\\\\site-packages\\\\numpy\\\\version.py'>\n"
     ]
    }
   ],
   "source": [
    "print(np.version)"
   ]
  },
  {
   "cell_type": "markdown",
   "metadata": {},
   "source": [
    "3. Create a null vector of size 10 (★☆☆)\n"
   ]
  },
  {
   "cell_type": "code",
   "execution_count": 89,
   "metadata": {},
   "outputs": [],
   "source": [
    "a = np.zeros(10)"
   ]
  },
  {
   "cell_type": "markdown",
   "metadata": {},
   "source": [
    "4. How to find the memory size of any array (★☆☆)\n"
   ]
  },
  {
   "cell_type": "code",
   "execution_count": 95,
   "metadata": {},
   "outputs": [
    {
     "data": {
      "text/plain": [
       "80"
      ]
     },
     "execution_count": 95,
     "metadata": {},
     "output_type": "execute_result"
    }
   ],
   "source": [
    "a.size*a.itemsize"
   ]
  },
  {
   "cell_type": "markdown",
   "metadata": {},
   "source": [
    "5. How to get the documentation of the numpy add function from the command line? (★☆☆)\n"
   ]
  },
  {
   "cell_type": "code",
   "execution_count": 91,
   "metadata": {},
   "outputs": [
    {
     "data": {
      "text/plain": [
       "<function numpy.info(object=None, maxwidth=76, output=<ipykernel.iostream.OutStream object at 0x000001C9D61888B0>, toplevel='numpy')>"
      ]
     },
     "execution_count": 91,
     "metadata": {},
     "output_type": "execute_result"
    }
   ],
   "source": [
    "np.info"
   ]
  },
  {
   "cell_type": "markdown",
   "metadata": {},
   "source": [
    "6. Create a null vector of size 10 but the fifth value which is 1 (★☆☆)\n"
   ]
  },
  {
   "cell_type": "code",
   "execution_count": 94,
   "metadata": {},
   "outputs": [
    {
     "name": "stdout",
     "output_type": "stream",
     "text": [
      "[0. 0. 0. 0. 0. 1. 0. 0. 0. 0.]\n"
     ]
    }
   ],
   "source": [
    "a=np.zeros(10)\n",
    "a[5]=1\n",
    "\n",
    "print(a)"
   ]
  },
  {
   "cell_type": "markdown",
   "metadata": {},
   "source": [
    "7. Create a vector with values ranging from 10 to 49 (★☆☆)\n"
   ]
  },
  {
   "cell_type": "code",
   "execution_count": 99,
   "metadata": {},
   "outputs": [
    {
     "name": "stdout",
     "output_type": "stream",
     "text": [
      "[10 11 12 13 14 15 16 17 18 19 20 21 22 23 24 25 26 27 28 29 30 31 32 33\n",
      " 34 35 36 37 38 39 40 41 42 43 44 45 46 47 48 49]\n"
     ]
    }
   ],
   "source": [
    "a=np.arange(10,50)\n",
    "print(a)"
   ]
  },
  {
   "cell_type": "markdown",
   "metadata": {},
   "source": [
    "8. Reverse a vector (first element becomes last) (★☆☆)\n"
   ]
  },
  {
   "cell_type": "code",
   "execution_count": 107,
   "metadata": {},
   "outputs": [
    {
     "name": "stdout",
     "output_type": "stream",
     "text": [
      "[28 27 26 25 24 23 22 21 20 19 18 17 16 15 14 13 12 11 10  9  8  7  6  5\n",
      "  4  3  2  1  0]\n"
     ]
    }
   ],
   "source": [
    "a=np.arange(29)\n",
    "a=a[::-1]\n",
    "print(a)"
   ]
  },
  {
   "cell_type": "markdown",
   "metadata": {},
   "source": [
    "9. Create a 3x3 matrix with values ranging from 0 to 8 (★☆☆)\n"
   ]
  },
  {
   "cell_type": "code",
   "execution_count": 110,
   "metadata": {},
   "outputs": [
    {
     "data": {
      "text/plain": [
       "array([[0, 1, 2],\n",
       "       [3, 4, 5],\n",
       "       [6, 7, 8]])"
      ]
     },
     "execution_count": 110,
     "metadata": {},
     "output_type": "execute_result"
    }
   ],
   "source": [
    "a=np.arange(9).reshape(3,3)\n",
    "a"
   ]
  },
  {
   "cell_type": "markdown",
   "metadata": {},
   "source": [
    "10. Find indices of non-zero elements from [1,2,0,0,4,0] (★☆☆)\n"
   ]
  },
  {
   "cell_type": "code",
   "execution_count": 116,
   "metadata": {},
   "outputs": [
    {
     "name": "stdout",
     "output_type": "stream",
     "text": [
      "[ True  True False False  True False]\n",
      "(array([0, 1, 4], dtype=int64),)\n"
     ]
    }
   ],
   "source": [
    "a=np.array([1,2,0,0,4,0])\n",
    "mask= a>0\n",
    "print(mask)\n",
    "print(a.nonzero())\n",
    "\n"
   ]
  },
  {
   "cell_type": "markdown",
   "metadata": {},
   "source": [
    "11. Create a 3x3 identity matrix (★☆☆)\n"
   ]
  },
  {
   "cell_type": "code",
   "execution_count": 117,
   "metadata": {},
   "outputs": [
    {
     "data": {
      "text/plain": [
       "array([[1., 0., 0.],\n",
       "       [0., 1., 0.],\n",
       "       [0., 0., 1.]])"
      ]
     },
     "execution_count": 117,
     "metadata": {},
     "output_type": "execute_result"
    }
   ],
   "source": [
    "np.identity(3)"
   ]
  },
  {
   "cell_type": "markdown",
   "metadata": {},
   "source": [
    "12. Create a 3x3x3 array with random values (★☆☆)\n"
   ]
  },
  {
   "cell_type": "code",
   "execution_count": 127,
   "metadata": {},
   "outputs": [
    {
     "name": "stdout",
     "output_type": "stream",
     "text": [
      "[[[0.55192644 0.18096484 0.40959139]\n",
      "  [0.76288179 0.99079682 0.07365237]\n",
      "  [0.13475261 0.74004473 0.83378137]]\n",
      "\n",
      " [[0.08877286 0.82941795 0.78673231]\n",
      "  [0.68822127 0.33992642 0.44454066]\n",
      "  [0.36633614 0.84046606 0.32832214]]\n",
      "\n",
      " [[0.32257498 0.93529086 0.91998735]\n",
      "  [0.96867413 0.80754895 0.08691562]\n",
      "  [0.09091055 0.55708208 0.85618377]]]\n",
      "[[[0.88419786 0.63684867 0.95580459]\n",
      "  [0.1518856  0.22158093 0.33249517]\n",
      "  [0.25680492 0.31220503 0.11844552]]\n",
      "\n",
      " [[0.37534014 0.029774   0.53778167]\n",
      "  [0.94582829 0.44512519 0.62415324]\n",
      "  [0.61181235 0.93337917 0.73451905]]\n",
      "\n",
      " [[0.82482093 0.33584941 0.90746465]\n",
      "  [0.18520923 0.40798227 0.73745197]\n",
      "  [0.33345638 0.88613423 0.86065586]]]\n"
     ]
    }
   ],
   "source": [
    "\n",
    "a=np.random.random(27).reshape(3,3,3)\n",
    "\n",
    "b=np.random.random((3,3,3))\n",
    "print(a)\n",
    "\n",
    "print(b)"
   ]
  },
  {
   "cell_type": "markdown",
   "metadata": {},
   "source": [
    "13. Create a 10x10 array with random values and find the minimum and maximum values (★☆☆)\n"
   ]
  },
  {
   "cell_type": "code",
   "execution_count": 130,
   "metadata": {},
   "outputs": [
    {
     "name": "stdout",
     "output_type": "stream",
     "text": [
      "0.011921328044363078\n",
      "0.9839657157628715\n"
     ]
    }
   ],
   "source": [
    "a=np.random.random((10,10))\n",
    "print(a.min())\n",
    "print(a.max())"
   ]
  },
  {
   "cell_type": "markdown",
   "metadata": {},
   "source": [
    "14. Create a random vector of size 30 and find the mean value (★☆☆)\n"
   ]
  },
  {
   "cell_type": "code",
   "execution_count": 132,
   "metadata": {},
   "outputs": [
    {
     "data": {
      "text/plain": [
       "0.5326846835084419"
      ]
     },
     "execution_count": 132,
     "metadata": {},
     "output_type": "execute_result"
    }
   ],
   "source": [
    "a=np.random.random(30)\n",
    "a.mean()"
   ]
  },
  {
   "cell_type": "markdown",
   "metadata": {},
   "source": [
    "15. Create a 2d array with 1 on the border and 0 inside (★☆☆)\n"
   ]
  },
  {
   "cell_type": "code",
   "execution_count": 145,
   "metadata": {},
   "outputs": [
    {
     "name": "stdout",
     "output_type": "stream",
     "text": [
      "[[1. 1. 1. 1. 1. 1. 1. 1. 1. 1.]\n",
      " [1. 1. 1. 1. 1. 1. 1. 1. 1. 1.]\n",
      " [1. 1. 1. 1. 1. 1. 1. 1. 1. 1.]\n",
      " [1. 1. 1. 1. 1. 1. 1. 1. 1. 1.]\n",
      " [1. 1. 1. 1. 1. 1. 1. 1. 1. 1.]\n",
      " [1. 1. 1. 1. 1. 1. 1. 1. 1. 1.]\n",
      " [1. 1. 1. 1. 1. 1. 1. 1. 1. 1.]\n",
      " [1. 1. 1. 1. 1. 1. 1. 1. 1. 1.]\n",
      " [1. 1. 1. 1. 1. 1. 1. 1. 1. 1.]\n",
      " [1. 1. 1. 1. 1. 1. 1. 1. 1. 1.]]\n",
      "[[1. 1. 1. 1. 1. 1. 1. 1. 1. 1.]\n",
      " [1. 0. 0. 0. 0. 0. 0. 0. 0. 1.]\n",
      " [1. 0. 0. 0. 0. 0. 0. 0. 0. 1.]\n",
      " [1. 0. 0. 0. 0. 0. 0. 0. 0. 1.]\n",
      " [1. 0. 0. 0. 0. 0. 0. 0. 0. 1.]\n",
      " [1. 0. 0. 0. 0. 0. 0. 0. 0. 1.]\n",
      " [1. 0. 0. 0. 0. 0. 0. 0. 0. 1.]\n",
      " [1. 0. 0. 0. 0. 0. 0. 0. 0. 1.]\n",
      " [1. 0. 0. 0. 0. 0. 0. 0. 0. 1.]\n",
      " [1. 1. 1. 1. 1. 1. 1. 1. 1. 1.]]\n"
     ]
    }
   ],
   "source": [
    "a=np.ones((10,10))\n",
    "print(a)\n",
    "\n",
    "a[1:-1,1:-1]=0\n",
    "print(a)"
   ]
  },
  {
   "cell_type": "markdown",
   "metadata": {},
   "source": [
    "16. How to add a border (filled with 0's) around an existing array? (★☆☆)\n"
   ]
  },
  {
   "cell_type": "code",
   "execution_count": null,
   "metadata": {},
   "outputs": [],
   "source": []
  },
  {
   "cell_type": "markdown",
   "metadata": {},
   "source": [
    "17. What is the result of the following expression? (★☆☆)\n"
   ]
  },
  {
   "cell_type": "code",
   "execution_count": null,
   "metadata": {},
   "outputs": [],
   "source": []
  },
  {
   "cell_type": "markdown",
   "metadata": {},
   "source": [
    "18. Create a 5x5 matrix with values 1,2,3,4 just below the diagonal (★☆☆)\n"
   ]
  },
  {
   "cell_type": "code",
   "execution_count": null,
   "metadata": {},
   "outputs": [],
   "source": []
  },
  {
   "cell_type": "markdown",
   "metadata": {},
   "source": [
    "19. Create a 8x8 matrix and fill it with a checkerboard pattern (★☆☆)\n"
   ]
  },
  {
   "cell_type": "code",
   "execution_count": null,
   "metadata": {},
   "outputs": [],
   "source": []
  },
  {
   "cell_type": "markdown",
   "metadata": {},
   "source": [
    "20. Consider a (6,7,8) shape array, what is the index (x,y,z) of the 100th element? (★☆☆)\n"
   ]
  },
  {
   "cell_type": "code",
   "execution_count": null,
   "metadata": {},
   "outputs": [],
   "source": []
  },
  {
   "cell_type": "markdown",
   "metadata": {},
   "source": [
    "21. Create a checkerboard 8x8 matrix using the tile function (★☆☆)\n"
   ]
  },
  {
   "cell_type": "code",
   "execution_count": null,
   "metadata": {},
   "outputs": [],
   "source": []
  },
  {
   "cell_type": "markdown",
   "metadata": {},
   "source": [
    "22. Normalize a 5x5 random matrix (★☆☆)\n"
   ]
  },
  {
   "cell_type": "code",
   "execution_count": null,
   "metadata": {},
   "outputs": [],
   "source": []
  },
  {
   "cell_type": "markdown",
   "metadata": {},
   "source": [
    "23. Create a custom dtype that describes a color as four unsigned bytes (RGBA) (★☆☆)\n"
   ]
  },
  {
   "cell_type": "code",
   "execution_count": null,
   "metadata": {},
   "outputs": [],
   "source": []
  },
  {
   "cell_type": "markdown",
   "metadata": {},
   "source": [
    "24. Multiply a 5x3 matrix by a 3x2 matrix (real matrix product) (★☆☆)\n"
   ]
  },
  {
   "cell_type": "code",
   "execution_count": null,
   "metadata": {},
   "outputs": [],
   "source": []
  }
 ],
 "metadata": {
  "celltoolbar": "Slideshow",
  "kernelspec": {
   "display_name": "Python 3.9.7 ('base')",
   "language": "python",
   "name": "python3"
  },
  "language_info": {
   "codemirror_mode": {
    "name": "ipython",
    "version": 3
   },
   "file_extension": ".py",
   "mimetype": "text/x-python",
   "name": "python",
   "nbconvert_exporter": "python",
   "pygments_lexer": "ipython3",
   "version": "3.9.7"
  },
  "vscode": {
   "interpreter": {
    "hash": "9a65927f5967699fcd722c82a9c185cfa0040c4b95e3af20a6eefdab7483f21b"
   }
  }
 },
 "nbformat": 4,
 "nbformat_minor": 4
}
